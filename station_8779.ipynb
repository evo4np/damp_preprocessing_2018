{
  "nbformat": 4,
  "nbformat_minor": 0,
  "metadata": {
    "colab": {
      "name": "station_8779.ipynb",
      "provenance": [],
      "collapsed_sections": [],
      "toc_visible": true,
      "authorship_tag": "ABX9TyOzhFqU7oHNWEGAnfOG0Tse"
    },
    "kernelspec": {
      "name": "python3",
      "display_name": "Python 3"
    }
  },
  "cells": [
    {
      "cell_type": "code",
      "metadata": {
        "id": "Hlq1_oFqEFjs"
      },
      "source": [
        "import requests\n",
        "import pandas as pd\n",
        "import numpy as np\n",
        "import seaborn as sns\n",
        "import matplotlib.pyplot as plt\n",
        "import matplotlib.mlab as mlab\n",
        "import matplotlib\n",
        "plt.style.use('ggplot')\n",
        "from matplotlib.pyplot import figure"
      ],
      "execution_count": 149,
      "outputs": []
    },
    {
      "cell_type": "code",
      "metadata": {
        "id": "fHKsuqh-GFOv"
      },
      "source": [
        "#from google.colab import files\n",
        "#uploaded = files.upload()"
      ],
      "execution_count": 150,
      "outputs": []
    },
    {
      "cell_type": "code",
      "metadata": {
        "id": "usRzeAS4RoVK"
      },
      "source": [
        "station_8779 = 'https://raw.githubusercontent.com/evo4np/damp_preprocessing_2018/master/station_8779/59_gata_8779.csv'"
      ],
      "execution_count": 151,
      "outputs": []
    },
    {
      "cell_type": "code",
      "metadata": {
        "id": "NOw3aJDwR36J"
      },
      "source": [
        "station_8779 = pd.read_csv(station_8779 ,sep=';', skiprows=13, parse_dates=['Start'], index_col= 'Start')"
      ],
      "execution_count": 152,
      "outputs": []
    },
    {
      "cell_type": "code",
      "metadata": {
        "id": "fjvHEPFBPTln",
        "outputId": "d2720bb2-23ec-4d7a-8db5-49cfb6a55200",
        "colab": {
          "base_uri": "https://localhost:8080/",
          "height": 34
        }
      },
      "source": [
        "station_8779.shape"
      ],
      "execution_count": 153,
      "outputs": [
        {
          "output_type": "execute_result",
          "data": {
            "text/plain": [
              "(52584, 6)"
            ]
          },
          "metadata": {
            "tags": []
          },
          "execution_count": 153
        }
      ]
    },
    {
      "cell_type": "code",
      "metadata": {
        "id": "P43ZK6OhPidD",
        "outputId": "1c6657f9-c958-4b42-a0e5-b855f5f480fd",
        "colab": {
          "base_uri": "https://localhost:8080/",
          "height": 235
        }
      },
      "source": [
        "station_8779.head()"
      ],
      "execution_count": 154,
      "outputs": [
        {
          "output_type": "execute_result",
          "data": {
            "text/html": [
              "<div>\n",
              "<style scoped>\n",
              "    .dataframe tbody tr th:only-of-type {\n",
              "        vertical-align: middle;\n",
              "    }\n",
              "\n",
              "    .dataframe tbody tr th {\n",
              "        vertical-align: top;\n",
              "    }\n",
              "\n",
              "    .dataframe thead th {\n",
              "        text-align: right;\n",
              "    }\n",
              "</style>\n",
              "<table border=\"1\" class=\"dataframe\">\n",
              "  <thead>\n",
              "    <tr style=\"text-align: right;\">\n",
              "      <th></th>\n",
              "      <th>Slut</th>\n",
              "      <th>CO (185)</th>\n",
              "      <th>NO2 (183)</th>\n",
              "      <th>NOX as NO2 (184)</th>\n",
              "      <th>PM10 (182)</th>\n",
              "      <th>PM2.5 (181)</th>\n",
              "    </tr>\n",
              "    <tr>\n",
              "      <th>Start</th>\n",
              "      <th></th>\n",
              "      <th></th>\n",
              "      <th></th>\n",
              "      <th></th>\n",
              "      <th></th>\n",
              "      <th></th>\n",
              "    </tr>\n",
              "  </thead>\n",
              "  <tbody>\n",
              "    <tr>\n",
              "      <th>2014-01-01 00:00:00</th>\n",
              "      <td>2014-01-01 01:00</td>\n",
              "      <td>0.41</td>\n",
              "      <td>27.7</td>\n",
              "      <td>58.4</td>\n",
              "      <td>69.8</td>\n",
              "      <td>45.7</td>\n",
              "    </tr>\n",
              "    <tr>\n",
              "      <th>2014-01-01 01:00:00</th>\n",
              "      <td>2014-01-01 02:00</td>\n",
              "      <td>0.27</td>\n",
              "      <td>40.4</td>\n",
              "      <td>72.5</td>\n",
              "      <td>23.9</td>\n",
              "      <td>16.3</td>\n",
              "    </tr>\n",
              "    <tr>\n",
              "      <th>2014-01-01 02:00:00</th>\n",
              "      <td>2014-01-01 03:00</td>\n",
              "      <td>0.35</td>\n",
              "      <td>28.1</td>\n",
              "      <td>49.8</td>\n",
              "      <td>13.9</td>\n",
              "      <td>6.6</td>\n",
              "    </tr>\n",
              "    <tr>\n",
              "      <th>2014-01-01 03:00:00</th>\n",
              "      <td>2014-01-01 04:00</td>\n",
              "      <td>0.24</td>\n",
              "      <td>16.9</td>\n",
              "      <td>28.9</td>\n",
              "      <td>16.8</td>\n",
              "      <td>8.5</td>\n",
              "    </tr>\n",
              "    <tr>\n",
              "      <th>2014-01-01 04:00:00</th>\n",
              "      <td>2014-01-01 05:00</td>\n",
              "      <td>0.28</td>\n",
              "      <td>21.1</td>\n",
              "      <td>32.5</td>\n",
              "      <td>16.7</td>\n",
              "      <td>6.6</td>\n",
              "    </tr>\n",
              "  </tbody>\n",
              "</table>\n",
              "</div>"
            ],
            "text/plain": [
              "                                 Slut  CO (185)  ...  PM10 (182)  PM2.5 (181)\n",
              "Start                                            ...                         \n",
              "2014-01-01 00:00:00  2014-01-01 01:00      0.41  ...        69.8         45.7\n",
              "2014-01-01 01:00:00  2014-01-01 02:00      0.27  ...        23.9         16.3\n",
              "2014-01-01 02:00:00  2014-01-01 03:00      0.35  ...        13.9          6.6\n",
              "2014-01-01 03:00:00  2014-01-01 04:00      0.24  ...        16.8          8.5\n",
              "2014-01-01 04:00:00  2014-01-01 05:00      0.28  ...        16.7          6.6\n",
              "\n",
              "[5 rows x 6 columns]"
            ]
          },
          "metadata": {
            "tags": []
          },
          "execution_count": 154
        }
      ]
    },
    {
      "cell_type": "code",
      "metadata": {
        "id": "KRWpQywdPuPT",
        "outputId": "ce7dc7f4-3410-4ed7-e4c9-775175401a7d",
        "colab": {
          "base_uri": "https://localhost:8080/",
          "height": 68
        }
      },
      "source": [
        "#Column/Feature Names\n",
        "station_8779.columns"
      ],
      "execution_count": 155,
      "outputs": [
        {
          "output_type": "execute_result",
          "data": {
            "text/plain": [
              "Index(['Slut', 'CO (185)', 'NO2 (183)', 'NOX as NO2 (184)', 'PM10 (182)',\n",
              "       'PM2.5 (181)'],\n",
              "      dtype='object')"
            ]
          },
          "metadata": {
            "tags": []
          },
          "execution_count": 155
        }
      ]
    },
    {
      "cell_type": "code",
      "metadata": {
        "id": "bTzEhr1wQDSI",
        "outputId": "5a98d64d-fa76-45dd-c105-064ca3bc40b9",
        "colab": {
          "base_uri": "https://localhost:8080/",
          "height": 136
        }
      },
      "source": [
        "#Missing /Null values\n",
        "station_8779.isnull().sum()"
      ],
      "execution_count": 156,
      "outputs": [
        {
          "output_type": "execute_result",
          "data": {
            "text/plain": [
              "Slut                   0\n",
              "CO (185)            3552\n",
              "NO2 (183)            841\n",
              "NOX as NO2 (184)     645\n",
              "PM10 (182)          2156\n",
              "PM2.5 (181)         6732\n",
              "dtype: int64"
            ]
          },
          "metadata": {
            "tags": []
          },
          "execution_count": 156
        }
      ]
    },
    {
      "cell_type": "code",
      "metadata": {
        "id": "zbWEGpL7P_7t",
        "outputId": "a2d8e041-10b3-440c-dd5d-57711e6dbdf3",
        "colab": {
          "base_uri": "https://localhost:8080/",
          "height": 297
        }
      },
      "source": [
        "#summary of each column in the dataframe\n",
        "station_8779.describe()"
      ],
      "execution_count": 157,
      "outputs": [
        {
          "output_type": "execute_result",
          "data": {
            "text/html": [
              "<div>\n",
              "<style scoped>\n",
              "    .dataframe tbody tr th:only-of-type {\n",
              "        vertical-align: middle;\n",
              "    }\n",
              "\n",
              "    .dataframe tbody tr th {\n",
              "        vertical-align: top;\n",
              "    }\n",
              "\n",
              "    .dataframe thead th {\n",
              "        text-align: right;\n",
              "    }\n",
              "</style>\n",
              "<table border=\"1\" class=\"dataframe\">\n",
              "  <thead>\n",
              "    <tr style=\"text-align: right;\">\n",
              "      <th></th>\n",
              "      <th>CO (185)</th>\n",
              "      <th>NO2 (183)</th>\n",
              "      <th>NOX as NO2 (184)</th>\n",
              "      <th>PM10 (182)</th>\n",
              "      <th>PM2.5 (181)</th>\n",
              "    </tr>\n",
              "  </thead>\n",
              "  <tbody>\n",
              "    <tr>\n",
              "      <th>count</th>\n",
              "      <td>49032.000000</td>\n",
              "      <td>51743.000000</td>\n",
              "      <td>51939.000000</td>\n",
              "      <td>50428.000000</td>\n",
              "      <td>45852.000000</td>\n",
              "    </tr>\n",
              "    <tr>\n",
              "      <th>mean</th>\n",
              "      <td>0.335007</td>\n",
              "      <td>33.604750</td>\n",
              "      <td>66.411269</td>\n",
              "      <td>19.759548</td>\n",
              "      <td>5.688373</td>\n",
              "    </tr>\n",
              "    <tr>\n",
              "      <th>std</th>\n",
              "      <td>0.388743</td>\n",
              "      <td>23.285529</td>\n",
              "      <td>65.941538</td>\n",
              "      <td>18.367639</td>\n",
              "      <td>5.272743</td>\n",
              "    </tr>\n",
              "    <tr>\n",
              "      <th>min</th>\n",
              "      <td>0.040000</td>\n",
              "      <td>0.400000</td>\n",
              "      <td>0.100000</td>\n",
              "      <td>-3.000000</td>\n",
              "      <td>-3.000000</td>\n",
              "    </tr>\n",
              "    <tr>\n",
              "      <th>25%</th>\n",
              "      <td>0.230000</td>\n",
              "      <td>15.800000</td>\n",
              "      <td>22.100000</td>\n",
              "      <td>9.100000</td>\n",
              "      <td>2.400000</td>\n",
              "    </tr>\n",
              "    <tr>\n",
              "      <th>50%</th>\n",
              "      <td>0.300000</td>\n",
              "      <td>28.000000</td>\n",
              "      <td>44.500000</td>\n",
              "      <td>14.600000</td>\n",
              "      <td>4.700000</td>\n",
              "    </tr>\n",
              "    <tr>\n",
              "      <th>75%</th>\n",
              "      <td>0.380000</td>\n",
              "      <td>46.200000</td>\n",
              "      <td>87.900000</td>\n",
              "      <td>23.700000</td>\n",
              "      <td>7.700000</td>\n",
              "    </tr>\n",
              "    <tr>\n",
              "      <th>max</th>\n",
              "      <td>20.700000</td>\n",
              "      <td>212.800000</td>\n",
              "      <td>982.500000</td>\n",
              "      <td>324.500000</td>\n",
              "      <td>105.000000</td>\n",
              "    </tr>\n",
              "  </tbody>\n",
              "</table>\n",
              "</div>"
            ],
            "text/plain": [
              "           CO (185)     NO2 (183)  NOX as NO2 (184)    PM10 (182)   PM2.5 (181)\n",
              "count  49032.000000  51743.000000      51939.000000  50428.000000  45852.000000\n",
              "mean       0.335007     33.604750         66.411269     19.759548      5.688373\n",
              "std        0.388743     23.285529         65.941538     18.367639      5.272743\n",
              "min        0.040000      0.400000          0.100000     -3.000000     -3.000000\n",
              "25%        0.230000     15.800000         22.100000      9.100000      2.400000\n",
              "50%        0.300000     28.000000         44.500000     14.600000      4.700000\n",
              "75%        0.380000     46.200000         87.900000     23.700000      7.700000\n",
              "max       20.700000    212.800000        982.500000    324.500000    105.000000"
            ]
          },
          "metadata": {
            "tags": []
          },
          "execution_count": 157
        }
      ]
    },
    {
      "cell_type": "code",
      "metadata": {
        "id": "D4sJmyE-tYSR"
      },
      "source": [
        "def missing_zero_values_table(df):\n",
        "        zero_val = (df == 0.00).astype(int).sum(axis=0)\n",
        "        mis_val = df.isnull().sum()\n",
        "        mis_val_percent = 100 * df.isnull().sum() / len(df)\n",
        "        mz_table = pd.concat([zero_val, mis_val, mis_val_percent], axis=1)\n",
        "        mz_table = mz_table.rename(\n",
        "        columns = {0 : 'Zero Values', 1 : 'Missing Values', 2 : '% of Total Values'})\n",
        "        mz_table['Total Zero Missing Values'] = mz_table['Zero Values'] + mz_table['Missing Values']\n",
        "        mz_table['% Total Zero Missing Values'] = 100 * mz_table['Total Zero Missing Values'] / len(df)\n",
        "        mz_table['Data Type'] = df.dtypes\n",
        "        mz_table = mz_table[\n",
        "            mz_table.iloc[:,1] != 0].sort_values(\n",
        "        '% of Total Values', ascending=False).round(1)\n",
        "        print (\"Your selected dataframe has \" + str(df.shape[1]) + \" columns and \" + str(df.shape[0]) + \" Rows.\\n\"      \n",
        "            \"There are \" + str(mz_table.shape[0]) +\n",
        "              \" columns that have missing values.\")\n",
        "        return mz_table\n",
        "\n",
        "\n"
      ],
      "execution_count": 158,
      "outputs": []
    },
    {
      "cell_type": "code",
      "metadata": {
        "id": "XfYxOOqgtboA",
        "outputId": "cd848e05-54cc-4527-f6f1-1d5850b7f233",
        "colab": {
          "base_uri": "https://localhost:8080/",
          "height": 272
        }
      },
      "source": [
        "missing_zero_values_table(station_8779)"
      ],
      "execution_count": 159,
      "outputs": [
        {
          "output_type": "stream",
          "text": [
            "Your selected dataframe has 6 columns and 52584 Rows.\n",
            "There are 5 columns that have missing values.\n"
          ],
          "name": "stdout"
        },
        {
          "output_type": "execute_result",
          "data": {
            "text/html": [
              "<div>\n",
              "<style scoped>\n",
              "    .dataframe tbody tr th:only-of-type {\n",
              "        vertical-align: middle;\n",
              "    }\n",
              "\n",
              "    .dataframe tbody tr th {\n",
              "        vertical-align: top;\n",
              "    }\n",
              "\n",
              "    .dataframe thead th {\n",
              "        text-align: right;\n",
              "    }\n",
              "</style>\n",
              "<table border=\"1\" class=\"dataframe\">\n",
              "  <thead>\n",
              "    <tr style=\"text-align: right;\">\n",
              "      <th></th>\n",
              "      <th>Zero Values</th>\n",
              "      <th>Missing Values</th>\n",
              "      <th>% of Total Values</th>\n",
              "      <th>Total Zero Missing Values</th>\n",
              "      <th>% Total Zero Missing Values</th>\n",
              "      <th>Data Type</th>\n",
              "    </tr>\n",
              "  </thead>\n",
              "  <tbody>\n",
              "    <tr>\n",
              "      <th>PM2.5 (181)</th>\n",
              "      <td>236</td>\n",
              "      <td>6732</td>\n",
              "      <td>12.8</td>\n",
              "      <td>6968</td>\n",
              "      <td>13.3</td>\n",
              "      <td>float64</td>\n",
              "    </tr>\n",
              "    <tr>\n",
              "      <th>CO (185)</th>\n",
              "      <td>0</td>\n",
              "      <td>3552</td>\n",
              "      <td>6.8</td>\n",
              "      <td>3552</td>\n",
              "      <td>6.8</td>\n",
              "      <td>float64</td>\n",
              "    </tr>\n",
              "    <tr>\n",
              "      <th>PM10 (182)</th>\n",
              "      <td>22</td>\n",
              "      <td>2156</td>\n",
              "      <td>4.1</td>\n",
              "      <td>2178</td>\n",
              "      <td>4.1</td>\n",
              "      <td>float64</td>\n",
              "    </tr>\n",
              "    <tr>\n",
              "      <th>NO2 (183)</th>\n",
              "      <td>0</td>\n",
              "      <td>841</td>\n",
              "      <td>1.6</td>\n",
              "      <td>841</td>\n",
              "      <td>1.6</td>\n",
              "      <td>float64</td>\n",
              "    </tr>\n",
              "    <tr>\n",
              "      <th>NOX as NO2 (184)</th>\n",
              "      <td>0</td>\n",
              "      <td>645</td>\n",
              "      <td>1.2</td>\n",
              "      <td>645</td>\n",
              "      <td>1.2</td>\n",
              "      <td>float64</td>\n",
              "    </tr>\n",
              "  </tbody>\n",
              "</table>\n",
              "</div>"
            ],
            "text/plain": [
              "                  Zero Values  ...  Data Type\n",
              "PM2.5 (181)               236  ...    float64\n",
              "CO (185)                    0  ...    float64\n",
              "PM10 (182)                 22  ...    float64\n",
              "NO2 (183)                   0  ...    float64\n",
              "NOX as NO2 (184)            0  ...    float64\n",
              "\n",
              "[5 rows x 6 columns]"
            ]
          },
          "metadata": {
            "tags": []
          },
          "execution_count": 159
        }
      ]
    },
    {
      "cell_type": "markdown",
      "metadata": {
        "id": "kcBuR3pYGyjd"
      },
      "source": [
        "**Merging Meteorological data**"
      ]
    },
    {
      "cell_type": "markdown",
      "metadata": {
        "id": "mNo7JycHD9uQ"
      },
      "source": [
        "#Adding Meteorological Data\n",
        "\n"
      ]
    },
    {
      "cell_type": "markdown",
      "metadata": {
        "id": "S_CrIZWfGlkJ"
      },
      "source": [
        "**Adding Temperature Data**"
      ]
    },
    {
      "cell_type": "code",
      "metadata": {
        "id": "Bq9Oxz3LG7Yu"
      },
      "source": [
        "#uploaded = files.upload()\n",
        "temp_data = 'https://raw.githubusercontent.com/evo4np/damp_preprocessing_2018/master/mete/StockholmA/stockholmA-temp.csv'"
      ],
      "execution_count": 160,
      "outputs": []
    },
    {
      "cell_type": "code",
      "metadata": {
        "id": "pSqABaWFHg7Q",
        "outputId": "c786cfe9-db3a-45ad-c50b-7bebe2d9e532",
        "colab": {
          "base_uri": "https://localhost:8080/",
          "height": 258
        }
      },
      "source": [
        "temp_data = pd.read_csv(temp_data, sep=';', skiprows=9)\n",
        "temp_data.head()"
      ],
      "execution_count": 161,
      "outputs": [
        {
          "output_type": "stream",
          "text": [
            "/usr/local/lib/python3.6/dist-packages/IPython/core/interactiveshell.py:2718: DtypeWarning: Columns (5) have mixed types.Specify dtype option on import or set low_memory=False.\n",
            "  interactivity=interactivity, compiler=compiler, result=result)\n"
          ],
          "name": "stderr"
        },
        {
          "output_type": "execute_result",
          "data": {
            "text/html": [
              "<div>\n",
              "<style scoped>\n",
              "    .dataframe tbody tr th:only-of-type {\n",
              "        vertical-align: middle;\n",
              "    }\n",
              "\n",
              "    .dataframe tbody tr th {\n",
              "        vertical-align: top;\n",
              "    }\n",
              "\n",
              "    .dataframe thead th {\n",
              "        text-align: right;\n",
              "    }\n",
              "</style>\n",
              "<table border=\"1\" class=\"dataframe\">\n",
              "  <thead>\n",
              "    <tr style=\"text-align: right;\">\n",
              "      <th></th>\n",
              "      <th>Datum</th>\n",
              "      <th>Tid (UTC)</th>\n",
              "      <th>Lufttemperatur</th>\n",
              "      <th>Kvalitet</th>\n",
              "      <th>Unnamed: 4</th>\n",
              "      <th>Tidsutsnitt:</th>\n",
              "    </tr>\n",
              "  </thead>\n",
              "  <tbody>\n",
              "    <tr>\n",
              "      <th>0</th>\n",
              "      <td>1996-10-01</td>\n",
              "      <td>00:00:00</td>\n",
              "      <td>10.2</td>\n",
              "      <td>G</td>\n",
              "      <td>NaN</td>\n",
              "      <td>Kvalitetskontrollerade historiska data (utom d...</td>\n",
              "    </tr>\n",
              "    <tr>\n",
              "      <th>1</th>\n",
              "      <td>1996-10-01</td>\n",
              "      <td>01:00:00</td>\n",
              "      <td>9.7</td>\n",
              "      <td>Y</td>\n",
              "      <td>NaN</td>\n",
              "      <td>Tidsperiod (fr.o.m.) = 1996-10-01 00:00:00 (UTC)</td>\n",
              "    </tr>\n",
              "    <tr>\n",
              "      <th>2</th>\n",
              "      <td>1996-10-01</td>\n",
              "      <td>03:00:00</td>\n",
              "      <td>9.9</td>\n",
              "      <td>G</td>\n",
              "      <td>NaN</td>\n",
              "      <td>Tidsperiod (t.o.m.) = 2020-06-01 06:00:00 (UTC)</td>\n",
              "    </tr>\n",
              "    <tr>\n",
              "      <th>3</th>\n",
              "      <td>1996-10-01</td>\n",
              "      <td>04:00:00</td>\n",
              "      <td>9.9</td>\n",
              "      <td>Y</td>\n",
              "      <td>NaN</td>\n",
              "      <td>Samplingstid = Ej angivet</td>\n",
              "    </tr>\n",
              "    <tr>\n",
              "      <th>4</th>\n",
              "      <td>1996-10-01</td>\n",
              "      <td>05:00:00</td>\n",
              "      <td>9.9</td>\n",
              "      <td>Y</td>\n",
              "      <td>NaN</td>\n",
              "      <td>NaN</td>\n",
              "    </tr>\n",
              "  </tbody>\n",
              "</table>\n",
              "</div>"
            ],
            "text/plain": [
              "        Datum  ...                                       Tidsutsnitt:\n",
              "0  1996-10-01  ...  Kvalitetskontrollerade historiska data (utom d...\n",
              "1  1996-10-01  ...   Tidsperiod (fr.o.m.) = 1996-10-01 00:00:00 (UTC)\n",
              "2  1996-10-01  ...    Tidsperiod (t.o.m.) = 2020-06-01 06:00:00 (UTC)\n",
              "3  1996-10-01  ...                          Samplingstid = Ej angivet\n",
              "4  1996-10-01  ...                                                NaN\n",
              "\n",
              "[5 rows x 6 columns]"
            ]
          },
          "metadata": {
            "tags": []
          },
          "execution_count": 161
        }
      ]
    },
    {
      "cell_type": "code",
      "metadata": {
        "id": "0_O97Ip1IBTP",
        "outputId": "28e1984f-3220-4f7c-96b5-192dd15465e3",
        "colab": {
          "base_uri": "https://localhost:8080/",
          "height": 68
        }
      },
      "source": [
        "temp_data.columns"
      ],
      "execution_count": 162,
      "outputs": [
        {
          "output_type": "execute_result",
          "data": {
            "text/plain": [
              "Index(['Datum', 'Tid (UTC)', 'Lufttemperatur', 'Kvalitet', 'Unnamed: 4',\n",
              "       'Tidsutsnitt:'],\n",
              "      dtype='object')"
            ]
          },
          "metadata": {
            "tags": []
          },
          "execution_count": 162
        }
      ]
    },
    {
      "cell_type": "code",
      "metadata": {
        "id": "yKDvJknVH69J"
      },
      "source": [
        "cols_name = ['Datum', 'Tid (UTC)', 'Lufttemperatur']\n",
        "temp_data = temp_data[cols_name]"
      ],
      "execution_count": 163,
      "outputs": []
    },
    {
      "cell_type": "code",
      "metadata": {
        "id": "NbG2a3h2IXzu",
        "outputId": "be16ba6c-0872-44c7-a387-66853d331ec2",
        "colab": {
          "base_uri": "https://localhost:8080/",
          "height": 204
        }
      },
      "source": [
        "temp_data.head()"
      ],
      "execution_count": 164,
      "outputs": [
        {
          "output_type": "execute_result",
          "data": {
            "text/html": [
              "<div>\n",
              "<style scoped>\n",
              "    .dataframe tbody tr th:only-of-type {\n",
              "        vertical-align: middle;\n",
              "    }\n",
              "\n",
              "    .dataframe tbody tr th {\n",
              "        vertical-align: top;\n",
              "    }\n",
              "\n",
              "    .dataframe thead th {\n",
              "        text-align: right;\n",
              "    }\n",
              "</style>\n",
              "<table border=\"1\" class=\"dataframe\">\n",
              "  <thead>\n",
              "    <tr style=\"text-align: right;\">\n",
              "      <th></th>\n",
              "      <th>Datum</th>\n",
              "      <th>Tid (UTC)</th>\n",
              "      <th>Lufttemperatur</th>\n",
              "    </tr>\n",
              "  </thead>\n",
              "  <tbody>\n",
              "    <tr>\n",
              "      <th>0</th>\n",
              "      <td>1996-10-01</td>\n",
              "      <td>00:00:00</td>\n",
              "      <td>10.2</td>\n",
              "    </tr>\n",
              "    <tr>\n",
              "      <th>1</th>\n",
              "      <td>1996-10-01</td>\n",
              "      <td>01:00:00</td>\n",
              "      <td>9.7</td>\n",
              "    </tr>\n",
              "    <tr>\n",
              "      <th>2</th>\n",
              "      <td>1996-10-01</td>\n",
              "      <td>03:00:00</td>\n",
              "      <td>9.9</td>\n",
              "    </tr>\n",
              "    <tr>\n",
              "      <th>3</th>\n",
              "      <td>1996-10-01</td>\n",
              "      <td>04:00:00</td>\n",
              "      <td>9.9</td>\n",
              "    </tr>\n",
              "    <tr>\n",
              "      <th>4</th>\n",
              "      <td>1996-10-01</td>\n",
              "      <td>05:00:00</td>\n",
              "      <td>9.9</td>\n",
              "    </tr>\n",
              "  </tbody>\n",
              "</table>\n",
              "</div>"
            ],
            "text/plain": [
              "        Datum Tid (UTC)  Lufttemperatur\n",
              "0  1996-10-01  00:00:00            10.2\n",
              "1  1996-10-01  01:00:00             9.7\n",
              "2  1996-10-01  03:00:00             9.9\n",
              "3  1996-10-01  04:00:00             9.9\n",
              "4  1996-10-01  05:00:00             9.9"
            ]
          },
          "metadata": {
            "tags": []
          },
          "execution_count": 164
        }
      ]
    },
    {
      "cell_type": "code",
      "metadata": {
        "id": "AWSD6qynIyWS",
        "outputId": "a40d6478-4329-4026-b536-cc12e1356b76",
        "colab": {
          "base_uri": "https://localhost:8080/",
          "height": 204
        }
      },
      "source": [
        "temp_data['Date'] = temp_data['Datum']+' '+ temp_data['Tid (UTC)']\n",
        "temp_data.head()"
      ],
      "execution_count": 165,
      "outputs": [
        {
          "output_type": "execute_result",
          "data": {
            "text/html": [
              "<div>\n",
              "<style scoped>\n",
              "    .dataframe tbody tr th:only-of-type {\n",
              "        vertical-align: middle;\n",
              "    }\n",
              "\n",
              "    .dataframe tbody tr th {\n",
              "        vertical-align: top;\n",
              "    }\n",
              "\n",
              "    .dataframe thead th {\n",
              "        text-align: right;\n",
              "    }\n",
              "</style>\n",
              "<table border=\"1\" class=\"dataframe\">\n",
              "  <thead>\n",
              "    <tr style=\"text-align: right;\">\n",
              "      <th></th>\n",
              "      <th>Datum</th>\n",
              "      <th>Tid (UTC)</th>\n",
              "      <th>Lufttemperatur</th>\n",
              "      <th>Date</th>\n",
              "    </tr>\n",
              "  </thead>\n",
              "  <tbody>\n",
              "    <tr>\n",
              "      <th>0</th>\n",
              "      <td>1996-10-01</td>\n",
              "      <td>00:00:00</td>\n",
              "      <td>10.2</td>\n",
              "      <td>1996-10-01 00:00:00</td>\n",
              "    </tr>\n",
              "    <tr>\n",
              "      <th>1</th>\n",
              "      <td>1996-10-01</td>\n",
              "      <td>01:00:00</td>\n",
              "      <td>9.7</td>\n",
              "      <td>1996-10-01 01:00:00</td>\n",
              "    </tr>\n",
              "    <tr>\n",
              "      <th>2</th>\n",
              "      <td>1996-10-01</td>\n",
              "      <td>03:00:00</td>\n",
              "      <td>9.9</td>\n",
              "      <td>1996-10-01 03:00:00</td>\n",
              "    </tr>\n",
              "    <tr>\n",
              "      <th>3</th>\n",
              "      <td>1996-10-01</td>\n",
              "      <td>04:00:00</td>\n",
              "      <td>9.9</td>\n",
              "      <td>1996-10-01 04:00:00</td>\n",
              "    </tr>\n",
              "    <tr>\n",
              "      <th>4</th>\n",
              "      <td>1996-10-01</td>\n",
              "      <td>05:00:00</td>\n",
              "      <td>9.9</td>\n",
              "      <td>1996-10-01 05:00:00</td>\n",
              "    </tr>\n",
              "  </tbody>\n",
              "</table>\n",
              "</div>"
            ],
            "text/plain": [
              "        Datum Tid (UTC)  Lufttemperatur                 Date\n",
              "0  1996-10-01  00:00:00            10.2  1996-10-01 00:00:00\n",
              "1  1996-10-01  01:00:00             9.7  1996-10-01 01:00:00\n",
              "2  1996-10-01  03:00:00             9.9  1996-10-01 03:00:00\n",
              "3  1996-10-01  04:00:00             9.9  1996-10-01 04:00:00\n",
              "4  1996-10-01  05:00:00             9.9  1996-10-01 05:00:00"
            ]
          },
          "metadata": {
            "tags": []
          },
          "execution_count": 165
        }
      ]
    },
    {
      "cell_type": "code",
      "metadata": {
        "id": "PDU7BWLbJhi0"
      },
      "source": [
        "cols = ['Date', 'Lufttemperatur']\n",
        "temp = temp_data[cols]\n",
        "temp = temp.rename({'Date':'Datum', 'Luftemperatur':'Air Temperature'},axis=1)"
      ],
      "execution_count": 166,
      "outputs": []
    },
    {
      "cell_type": "code",
      "metadata": {
        "id": "s3M-x9nFK2KW"
      },
      "source": [
        "temp = temp.set_index('Datum')"
      ],
      "execution_count": 167,
      "outputs": []
    },
    {
      "cell_type": "code",
      "metadata": {
        "id": "bwpR9_M6K_Ep"
      },
      "source": [
        "station_8779 = station_8779.join(temp)"
      ],
      "execution_count": 168,
      "outputs": []
    },
    {
      "cell_type": "code",
      "metadata": {
        "id": "QzFs208ALFzs",
        "outputId": "bf1748f8-c497-49ed-a8a0-372f5ca50e8c",
        "colab": {
          "base_uri": "https://localhost:8080/",
          "height": 255
        }
      },
      "source": [
        "station_8779.info()"
      ],
      "execution_count": 169,
      "outputs": [
        {
          "output_type": "stream",
          "text": [
            "<class 'pandas.core.frame.DataFrame'>\n",
            "DatetimeIndex: 52584 entries, 2014-01-01 00:00:00 to 2019-12-31 23:00:00\n",
            "Data columns (total 7 columns):\n",
            " #   Column            Non-Null Count  Dtype  \n",
            "---  ------            --------------  -----  \n",
            " 0   Slut              52584 non-null  object \n",
            " 1   CO (185)          49032 non-null  float64\n",
            " 2   NO2 (183)         51743 non-null  float64\n",
            " 3   NOX as NO2 (184)  51939 non-null  float64\n",
            " 4   PM10 (182)        50428 non-null  float64\n",
            " 5   PM2.5 (181)       45852 non-null  float64\n",
            " 6   Lufttemperatur    52561 non-null  float64\n",
            "dtypes: float64(6), object(1)\n",
            "memory usage: 5.7+ MB\n"
          ],
          "name": "stdout"
        }
      ]
    },
    {
      "cell_type": "code",
      "metadata": {
        "id": "fQQnGmFiL87Z",
        "outputId": "00f2df1c-7347-49ce-bf31-d29e772c1b61",
        "colab": {
          "base_uri": "https://localhost:8080/",
          "height": 337
        }
      },
      "source": [
        "station_8779.head()"
      ],
      "execution_count": 170,
      "outputs": [
        {
          "output_type": "execute_result",
          "data": {
            "text/html": [
              "<div>\n",
              "<style scoped>\n",
              "    .dataframe tbody tr th:only-of-type {\n",
              "        vertical-align: middle;\n",
              "    }\n",
              "\n",
              "    .dataframe tbody tr th {\n",
              "        vertical-align: top;\n",
              "    }\n",
              "\n",
              "    .dataframe thead th {\n",
              "        text-align: right;\n",
              "    }\n",
              "</style>\n",
              "<table border=\"1\" class=\"dataframe\">\n",
              "  <thead>\n",
              "    <tr style=\"text-align: right;\">\n",
              "      <th></th>\n",
              "      <th>Slut</th>\n",
              "      <th>CO (185)</th>\n",
              "      <th>NO2 (183)</th>\n",
              "      <th>NOX as NO2 (184)</th>\n",
              "      <th>PM10 (182)</th>\n",
              "      <th>PM2.5 (181)</th>\n",
              "      <th>Lufttemperatur</th>\n",
              "    </tr>\n",
              "    <tr>\n",
              "      <th>Start</th>\n",
              "      <th></th>\n",
              "      <th></th>\n",
              "      <th></th>\n",
              "      <th></th>\n",
              "      <th></th>\n",
              "      <th></th>\n",
              "      <th></th>\n",
              "    </tr>\n",
              "  </thead>\n",
              "  <tbody>\n",
              "    <tr>\n",
              "      <th>2014-01-01 00:00:00</th>\n",
              "      <td>2014-01-01 01:00</td>\n",
              "      <td>0.41</td>\n",
              "      <td>27.7</td>\n",
              "      <td>58.4</td>\n",
              "      <td>69.8</td>\n",
              "      <td>45.7</td>\n",
              "      <td>2.9</td>\n",
              "    </tr>\n",
              "    <tr>\n",
              "      <th>2014-01-01 01:00:00</th>\n",
              "      <td>2014-01-01 02:00</td>\n",
              "      <td>0.27</td>\n",
              "      <td>40.4</td>\n",
              "      <td>72.5</td>\n",
              "      <td>23.9</td>\n",
              "      <td>16.3</td>\n",
              "      <td>2.8</td>\n",
              "    </tr>\n",
              "    <tr>\n",
              "      <th>2014-01-01 02:00:00</th>\n",
              "      <td>2014-01-01 03:00</td>\n",
              "      <td>0.35</td>\n",
              "      <td>28.1</td>\n",
              "      <td>49.8</td>\n",
              "      <td>13.9</td>\n",
              "      <td>6.6</td>\n",
              "      <td>3.2</td>\n",
              "    </tr>\n",
              "    <tr>\n",
              "      <th>2014-01-01 03:00:00</th>\n",
              "      <td>2014-01-01 04:00</td>\n",
              "      <td>0.24</td>\n",
              "      <td>16.9</td>\n",
              "      <td>28.9</td>\n",
              "      <td>16.8</td>\n",
              "      <td>8.5</td>\n",
              "      <td>3.6</td>\n",
              "    </tr>\n",
              "    <tr>\n",
              "      <th>2014-01-01 04:00:00</th>\n",
              "      <td>2014-01-01 05:00</td>\n",
              "      <td>0.28</td>\n",
              "      <td>21.1</td>\n",
              "      <td>32.5</td>\n",
              "      <td>16.7</td>\n",
              "      <td>6.6</td>\n",
              "      <td>3.0</td>\n",
              "    </tr>\n",
              "  </tbody>\n",
              "</table>\n",
              "</div>"
            ],
            "text/plain": [
              "                                 Slut  CO (185)  ...  PM2.5 (181)  Lufttemperatur\n",
              "Start                                            ...                             \n",
              "2014-01-01 00:00:00  2014-01-01 01:00      0.41  ...         45.7             2.9\n",
              "2014-01-01 01:00:00  2014-01-01 02:00      0.27  ...         16.3             2.8\n",
              "2014-01-01 02:00:00  2014-01-01 03:00      0.35  ...          6.6             3.2\n",
              "2014-01-01 03:00:00  2014-01-01 04:00      0.24  ...          8.5             3.6\n",
              "2014-01-01 04:00:00  2014-01-01 05:00      0.28  ...          6.6             3.0\n",
              "\n",
              "[5 rows x 7 columns]"
            ]
          },
          "metadata": {
            "tags": []
          },
          "execution_count": 170
        }
      ]
    },
    {
      "cell_type": "code",
      "metadata": {
        "id": "NV7dlCw4N9oH"
      },
      "source": [
        "station_8779 = station_8779.rename({'Lufttemperatur': 'Air Temperature'}, axis=1)"
      ],
      "execution_count": 171,
      "outputs": []
    },
    {
      "cell_type": "code",
      "metadata": {
        "id": "KDSoTPTuOMrU",
        "outputId": "5364330e-bf1a-4e5f-ad25-d6e32d6b4974",
        "colab": {
          "base_uri": "https://localhost:8080/",
          "height": 337
        }
      },
      "source": [
        "station_8779.head()"
      ],
      "execution_count": 172,
      "outputs": [
        {
          "output_type": "execute_result",
          "data": {
            "text/html": [
              "<div>\n",
              "<style scoped>\n",
              "    .dataframe tbody tr th:only-of-type {\n",
              "        vertical-align: middle;\n",
              "    }\n",
              "\n",
              "    .dataframe tbody tr th {\n",
              "        vertical-align: top;\n",
              "    }\n",
              "\n",
              "    .dataframe thead th {\n",
              "        text-align: right;\n",
              "    }\n",
              "</style>\n",
              "<table border=\"1\" class=\"dataframe\">\n",
              "  <thead>\n",
              "    <tr style=\"text-align: right;\">\n",
              "      <th></th>\n",
              "      <th>Slut</th>\n",
              "      <th>CO (185)</th>\n",
              "      <th>NO2 (183)</th>\n",
              "      <th>NOX as NO2 (184)</th>\n",
              "      <th>PM10 (182)</th>\n",
              "      <th>PM2.5 (181)</th>\n",
              "      <th>Air Temperature</th>\n",
              "    </tr>\n",
              "    <tr>\n",
              "      <th>Start</th>\n",
              "      <th></th>\n",
              "      <th></th>\n",
              "      <th></th>\n",
              "      <th></th>\n",
              "      <th></th>\n",
              "      <th></th>\n",
              "      <th></th>\n",
              "    </tr>\n",
              "  </thead>\n",
              "  <tbody>\n",
              "    <tr>\n",
              "      <th>2014-01-01 00:00:00</th>\n",
              "      <td>2014-01-01 01:00</td>\n",
              "      <td>0.41</td>\n",
              "      <td>27.7</td>\n",
              "      <td>58.4</td>\n",
              "      <td>69.8</td>\n",
              "      <td>45.7</td>\n",
              "      <td>2.9</td>\n",
              "    </tr>\n",
              "    <tr>\n",
              "      <th>2014-01-01 01:00:00</th>\n",
              "      <td>2014-01-01 02:00</td>\n",
              "      <td>0.27</td>\n",
              "      <td>40.4</td>\n",
              "      <td>72.5</td>\n",
              "      <td>23.9</td>\n",
              "      <td>16.3</td>\n",
              "      <td>2.8</td>\n",
              "    </tr>\n",
              "    <tr>\n",
              "      <th>2014-01-01 02:00:00</th>\n",
              "      <td>2014-01-01 03:00</td>\n",
              "      <td>0.35</td>\n",
              "      <td>28.1</td>\n",
              "      <td>49.8</td>\n",
              "      <td>13.9</td>\n",
              "      <td>6.6</td>\n",
              "      <td>3.2</td>\n",
              "    </tr>\n",
              "    <tr>\n",
              "      <th>2014-01-01 03:00:00</th>\n",
              "      <td>2014-01-01 04:00</td>\n",
              "      <td>0.24</td>\n",
              "      <td>16.9</td>\n",
              "      <td>28.9</td>\n",
              "      <td>16.8</td>\n",
              "      <td>8.5</td>\n",
              "      <td>3.6</td>\n",
              "    </tr>\n",
              "    <tr>\n",
              "      <th>2014-01-01 04:00:00</th>\n",
              "      <td>2014-01-01 05:00</td>\n",
              "      <td>0.28</td>\n",
              "      <td>21.1</td>\n",
              "      <td>32.5</td>\n",
              "      <td>16.7</td>\n",
              "      <td>6.6</td>\n",
              "      <td>3.0</td>\n",
              "    </tr>\n",
              "  </tbody>\n",
              "</table>\n",
              "</div>"
            ],
            "text/plain": [
              "                                 Slut  CO (185)  ...  PM2.5 (181)  Air Temperature\n",
              "Start                                            ...                              \n",
              "2014-01-01 00:00:00  2014-01-01 01:00      0.41  ...         45.7              2.9\n",
              "2014-01-01 01:00:00  2014-01-01 02:00      0.27  ...         16.3              2.8\n",
              "2014-01-01 02:00:00  2014-01-01 03:00      0.35  ...          6.6              3.2\n",
              "2014-01-01 03:00:00  2014-01-01 04:00      0.24  ...          8.5              3.6\n",
              "2014-01-01 04:00:00  2014-01-01 05:00      0.28  ...          6.6              3.0\n",
              "\n",
              "[5 rows x 7 columns]"
            ]
          },
          "metadata": {
            "tags": []
          },
          "execution_count": 172
        }
      ]
    },
    {
      "cell_type": "code",
      "metadata": {
        "id": "79uFccwml8WS"
      },
      "source": [
        "pres_data = 'https://raw.githubusercontent.com/evo4np/damp_preprocessing_2018/master/mete/StockholmA/StockholmA_air_pressure.csv'\n",
        "rh_data = 'https://raw.githubusercontent.com/evo4np/damp_preprocessing_2018/master/mete/StockholmA/StockholmA_humidity.csv'\n",
        "#prec_data = 'https://raw.githubusercontent.com/evo4np/damp_preprocessing_2018/master/mete/StockholmA/StockholmA_precipitation.csv'"
      ],
      "execution_count": 173,
      "outputs": []
    },
    {
      "cell_type": "code",
      "metadata": {
        "id": "24UNLrAmPVj7",
        "outputId": "a9f42373-a6d0-44d4-dea1-7bdbcb53c5b8",
        "colab": {
          "base_uri": "https://localhost:8080/",
          "height": 71
        }
      },
      "source": [
        "pres_data = pd.read_csv(pres_data, sep=';', skiprows=9)\n",
        "rh_data = pd.read_csv(rh_data, sep = ';', skiprows=9)\n",
        "#prec_data = pd.read_csv(prec_data, sep=';', skiprows=9)"
      ],
      "execution_count": 174,
      "outputs": [
        {
          "output_type": "stream",
          "text": [
            "/usr/local/lib/python3.6/dist-packages/IPython/core/interactiveshell.py:2718: DtypeWarning: Columns (5) have mixed types.Specify dtype option on import or set low_memory=False.\n",
            "  interactivity=interactivity, compiler=compiler, result=result)\n"
          ],
          "name": "stderr"
        }
      ]
    },
    {
      "cell_type": "code",
      "metadata": {
        "id": "pLIilUyVQZuN",
        "outputId": "c8c8a242-0062-4b9c-d889-cf54e21d110f",
        "colab": {
          "base_uri": "https://localhost:8080/",
          "height": 306
        }
      },
      "source": [
        "pres_data.head()"
      ],
      "execution_count": 175,
      "outputs": [
        {
          "output_type": "execute_result",
          "data": {
            "text/html": [
              "<div>\n",
              "<style scoped>\n",
              "    .dataframe tbody tr th:only-of-type {\n",
              "        vertical-align: middle;\n",
              "    }\n",
              "\n",
              "    .dataframe tbody tr th {\n",
              "        vertical-align: top;\n",
              "    }\n",
              "\n",
              "    .dataframe thead th {\n",
              "        text-align: right;\n",
              "    }\n",
              "</style>\n",
              "<table border=\"1\" class=\"dataframe\">\n",
              "  <thead>\n",
              "    <tr style=\"text-align: right;\">\n",
              "      <th></th>\n",
              "      <th>Datum</th>\n",
              "      <th>Tid (UTC)</th>\n",
              "      <th>Lufttryck reducerat havsytans nivå</th>\n",
              "      <th>Kvalitet</th>\n",
              "      <th>Unnamed: 4</th>\n",
              "      <th>Tidsutsnitt:</th>\n",
              "    </tr>\n",
              "  </thead>\n",
              "  <tbody>\n",
              "    <tr>\n",
              "      <th>0</th>\n",
              "      <td>2012-11-29</td>\n",
              "      <td>11:00:00</td>\n",
              "      <td>1006.6</td>\n",
              "      <td>G</td>\n",
              "      <td>NaN</td>\n",
              "      <td>Kvalitetskontrollerade historiska data (utom d...</td>\n",
              "    </tr>\n",
              "    <tr>\n",
              "      <th>1</th>\n",
              "      <td>2012-11-29</td>\n",
              "      <td>12:00:00</td>\n",
              "      <td>1006.2</td>\n",
              "      <td>G</td>\n",
              "      <td>NaN</td>\n",
              "      <td>Tidsperiod (fr.o.m.) = 2012-11-01 00:00:00 (UTC)</td>\n",
              "    </tr>\n",
              "    <tr>\n",
              "      <th>2</th>\n",
              "      <td>2012-11-29</td>\n",
              "      <td>13:00:00</td>\n",
              "      <td>1005.9</td>\n",
              "      <td>G</td>\n",
              "      <td>NaN</td>\n",
              "      <td>Tidsperiod (t.o.m.) = 2020-06-01 06:00:00 (UTC)</td>\n",
              "    </tr>\n",
              "    <tr>\n",
              "      <th>3</th>\n",
              "      <td>2012-11-29</td>\n",
              "      <td>14:00:00</td>\n",
              "      <td>1005.7</td>\n",
              "      <td>G</td>\n",
              "      <td>NaN</td>\n",
              "      <td>Samplingstid = Ej angivet</td>\n",
              "    </tr>\n",
              "    <tr>\n",
              "      <th>4</th>\n",
              "      <td>2012-11-29</td>\n",
              "      <td>15:00:00</td>\n",
              "      <td>1005.6</td>\n",
              "      <td>G</td>\n",
              "      <td>NaN</td>\n",
              "      <td>NaN</td>\n",
              "    </tr>\n",
              "  </tbody>\n",
              "</table>\n",
              "</div>"
            ],
            "text/plain": [
              "        Datum  ...                                       Tidsutsnitt:\n",
              "0  2012-11-29  ...  Kvalitetskontrollerade historiska data (utom d...\n",
              "1  2012-11-29  ...   Tidsperiod (fr.o.m.) = 2012-11-01 00:00:00 (UTC)\n",
              "2  2012-11-29  ...    Tidsperiod (t.o.m.) = 2020-06-01 06:00:00 (UTC)\n",
              "3  2012-11-29  ...                          Samplingstid = Ej angivet\n",
              "4  2012-11-29  ...                                                NaN\n",
              "\n",
              "[5 rows x 6 columns]"
            ]
          },
          "metadata": {
            "tags": []
          },
          "execution_count": 175
        }
      ]
    },
    {
      "cell_type": "code",
      "metadata": {
        "id": "N9pG9ydUQf9X",
        "outputId": "156e192f-f1ec-4c93-c43b-536a15092a07",
        "colab": {
          "base_uri": "https://localhost:8080/",
          "height": 68
        }
      },
      "source": [
        "pres_data.columns"
      ],
      "execution_count": 176,
      "outputs": [
        {
          "output_type": "execute_result",
          "data": {
            "text/plain": [
              "Index(['Datum', 'Tid (UTC)', 'Lufttryck reducerat havsytans nivå', 'Kvalitet',\n",
              "       'Unnamed: 4', 'Tidsutsnitt:'],\n",
              "      dtype='object')"
            ]
          },
          "metadata": {
            "tags": []
          },
          "execution_count": 176
        }
      ]
    },
    {
      "cell_type": "code",
      "metadata": {
        "id": "qxYaPTes9NrN"
      },
      "source": [
        "cols_name = ['Datum', 'Tid (UTC)', 'Lufttryck reducerat havsytans nivå']\n",
        "pres_data = pres_data[cols_name]"
      ],
      "execution_count": 177,
      "outputs": []
    },
    {
      "cell_type": "code",
      "metadata": {
        "id": "V4vRmU_x-B5j",
        "outputId": "73f97ada-062b-4807-b8a1-872d45578437",
        "colab": {
          "base_uri": "https://localhost:8080/",
          "height": 204
        }
      },
      "source": [
        "pres_data.head()"
      ],
      "execution_count": 178,
      "outputs": [
        {
          "output_type": "execute_result",
          "data": {
            "text/html": [
              "<div>\n",
              "<style scoped>\n",
              "    .dataframe tbody tr th:only-of-type {\n",
              "        vertical-align: middle;\n",
              "    }\n",
              "\n",
              "    .dataframe tbody tr th {\n",
              "        vertical-align: top;\n",
              "    }\n",
              "\n",
              "    .dataframe thead th {\n",
              "        text-align: right;\n",
              "    }\n",
              "</style>\n",
              "<table border=\"1\" class=\"dataframe\">\n",
              "  <thead>\n",
              "    <tr style=\"text-align: right;\">\n",
              "      <th></th>\n",
              "      <th>Datum</th>\n",
              "      <th>Tid (UTC)</th>\n",
              "      <th>Lufttryck reducerat havsytans nivå</th>\n",
              "    </tr>\n",
              "  </thead>\n",
              "  <tbody>\n",
              "    <tr>\n",
              "      <th>0</th>\n",
              "      <td>2012-11-29</td>\n",
              "      <td>11:00:00</td>\n",
              "      <td>1006.6</td>\n",
              "    </tr>\n",
              "    <tr>\n",
              "      <th>1</th>\n",
              "      <td>2012-11-29</td>\n",
              "      <td>12:00:00</td>\n",
              "      <td>1006.2</td>\n",
              "    </tr>\n",
              "    <tr>\n",
              "      <th>2</th>\n",
              "      <td>2012-11-29</td>\n",
              "      <td>13:00:00</td>\n",
              "      <td>1005.9</td>\n",
              "    </tr>\n",
              "    <tr>\n",
              "      <th>3</th>\n",
              "      <td>2012-11-29</td>\n",
              "      <td>14:00:00</td>\n",
              "      <td>1005.7</td>\n",
              "    </tr>\n",
              "    <tr>\n",
              "      <th>4</th>\n",
              "      <td>2012-11-29</td>\n",
              "      <td>15:00:00</td>\n",
              "      <td>1005.6</td>\n",
              "    </tr>\n",
              "  </tbody>\n",
              "</table>\n",
              "</div>"
            ],
            "text/plain": [
              "        Datum Tid (UTC)  Lufttryck reducerat havsytans nivå\n",
              "0  2012-11-29  11:00:00                              1006.6\n",
              "1  2012-11-29  12:00:00                              1006.2\n",
              "2  2012-11-29  13:00:00                              1005.9\n",
              "3  2012-11-29  14:00:00                              1005.7\n",
              "4  2012-11-29  15:00:00                              1005.6"
            ]
          },
          "metadata": {
            "tags": []
          },
          "execution_count": 178
        }
      ]
    },
    {
      "cell_type": "code",
      "metadata": {
        "id": "vSFGJoS193hO",
        "outputId": "03a9b09d-3c07-4bf6-92e9-c5d2b3b59abb",
        "colab": {
          "base_uri": "https://localhost:8080/",
          "height": 204
        }
      },
      "source": [
        "pres_data['Date'] = pres_data['Datum']+' '+ pres_data['Tid (UTC)']\n",
        "pres_data.head()"
      ],
      "execution_count": 179,
      "outputs": [
        {
          "output_type": "execute_result",
          "data": {
            "text/html": [
              "<div>\n",
              "<style scoped>\n",
              "    .dataframe tbody tr th:only-of-type {\n",
              "        vertical-align: middle;\n",
              "    }\n",
              "\n",
              "    .dataframe tbody tr th {\n",
              "        vertical-align: top;\n",
              "    }\n",
              "\n",
              "    .dataframe thead th {\n",
              "        text-align: right;\n",
              "    }\n",
              "</style>\n",
              "<table border=\"1\" class=\"dataframe\">\n",
              "  <thead>\n",
              "    <tr style=\"text-align: right;\">\n",
              "      <th></th>\n",
              "      <th>Datum</th>\n",
              "      <th>Tid (UTC)</th>\n",
              "      <th>Lufttryck reducerat havsytans nivå</th>\n",
              "      <th>Date</th>\n",
              "    </tr>\n",
              "  </thead>\n",
              "  <tbody>\n",
              "    <tr>\n",
              "      <th>0</th>\n",
              "      <td>2012-11-29</td>\n",
              "      <td>11:00:00</td>\n",
              "      <td>1006.6</td>\n",
              "      <td>2012-11-29 11:00:00</td>\n",
              "    </tr>\n",
              "    <tr>\n",
              "      <th>1</th>\n",
              "      <td>2012-11-29</td>\n",
              "      <td>12:00:00</td>\n",
              "      <td>1006.2</td>\n",
              "      <td>2012-11-29 12:00:00</td>\n",
              "    </tr>\n",
              "    <tr>\n",
              "      <th>2</th>\n",
              "      <td>2012-11-29</td>\n",
              "      <td>13:00:00</td>\n",
              "      <td>1005.9</td>\n",
              "      <td>2012-11-29 13:00:00</td>\n",
              "    </tr>\n",
              "    <tr>\n",
              "      <th>3</th>\n",
              "      <td>2012-11-29</td>\n",
              "      <td>14:00:00</td>\n",
              "      <td>1005.7</td>\n",
              "      <td>2012-11-29 14:00:00</td>\n",
              "    </tr>\n",
              "    <tr>\n",
              "      <th>4</th>\n",
              "      <td>2012-11-29</td>\n",
              "      <td>15:00:00</td>\n",
              "      <td>1005.6</td>\n",
              "      <td>2012-11-29 15:00:00</td>\n",
              "    </tr>\n",
              "  </tbody>\n",
              "</table>\n",
              "</div>"
            ],
            "text/plain": [
              "        Datum  ...                 Date\n",
              "0  2012-11-29  ...  2012-11-29 11:00:00\n",
              "1  2012-11-29  ...  2012-11-29 12:00:00\n",
              "2  2012-11-29  ...  2012-11-29 13:00:00\n",
              "3  2012-11-29  ...  2012-11-29 14:00:00\n",
              "4  2012-11-29  ...  2012-11-29 15:00:00\n",
              "\n",
              "[5 rows x 4 columns]"
            ]
          },
          "metadata": {
            "tags": []
          },
          "execution_count": 179
        }
      ]
    },
    {
      "cell_type": "code",
      "metadata": {
        "id": "KiTaswgS-ZXe"
      },
      "source": [
        "cols = ['Date', 'Lufttryck reducerat havsytans nivå']\n",
        "pres = pres_data[cols]\n",
        "pres = pres.rename({'Date':'Datum', 'Lufttryck reducerat havsytans nivå':'Air Pressure'},axis=1)"
      ],
      "execution_count": 180,
      "outputs": []
    },
    {
      "cell_type": "code",
      "metadata": {
        "id": "LXR1SWvH-2vj",
        "outputId": "3ac6b48e-0a65-4559-b1f0-e02c33144752",
        "colab": {
          "base_uri": "https://localhost:8080/",
          "height": 204
        }
      },
      "source": [
        "pres.head()"
      ],
      "execution_count": 181,
      "outputs": [
        {
          "output_type": "execute_result",
          "data": {
            "text/html": [
              "<div>\n",
              "<style scoped>\n",
              "    .dataframe tbody tr th:only-of-type {\n",
              "        vertical-align: middle;\n",
              "    }\n",
              "\n",
              "    .dataframe tbody tr th {\n",
              "        vertical-align: top;\n",
              "    }\n",
              "\n",
              "    .dataframe thead th {\n",
              "        text-align: right;\n",
              "    }\n",
              "</style>\n",
              "<table border=\"1\" class=\"dataframe\">\n",
              "  <thead>\n",
              "    <tr style=\"text-align: right;\">\n",
              "      <th></th>\n",
              "      <th>Datum</th>\n",
              "      <th>Air Pressure</th>\n",
              "    </tr>\n",
              "  </thead>\n",
              "  <tbody>\n",
              "    <tr>\n",
              "      <th>0</th>\n",
              "      <td>2012-11-29 11:00:00</td>\n",
              "      <td>1006.6</td>\n",
              "    </tr>\n",
              "    <tr>\n",
              "      <th>1</th>\n",
              "      <td>2012-11-29 12:00:00</td>\n",
              "      <td>1006.2</td>\n",
              "    </tr>\n",
              "    <tr>\n",
              "      <th>2</th>\n",
              "      <td>2012-11-29 13:00:00</td>\n",
              "      <td>1005.9</td>\n",
              "    </tr>\n",
              "    <tr>\n",
              "      <th>3</th>\n",
              "      <td>2012-11-29 14:00:00</td>\n",
              "      <td>1005.7</td>\n",
              "    </tr>\n",
              "    <tr>\n",
              "      <th>4</th>\n",
              "      <td>2012-11-29 15:00:00</td>\n",
              "      <td>1005.6</td>\n",
              "    </tr>\n",
              "  </tbody>\n",
              "</table>\n",
              "</div>"
            ],
            "text/plain": [
              "                 Datum  Air Pressure\n",
              "0  2012-11-29 11:00:00        1006.6\n",
              "1  2012-11-29 12:00:00        1006.2\n",
              "2  2012-11-29 13:00:00        1005.9\n",
              "3  2012-11-29 14:00:00        1005.7\n",
              "4  2012-11-29 15:00:00        1005.6"
            ]
          },
          "metadata": {
            "tags": []
          },
          "execution_count": 181
        }
      ]
    },
    {
      "cell_type": "code",
      "metadata": {
        "id": "4C9yeXqt_Gfo"
      },
      "source": [
        "pres = pres.set_index('Datum')"
      ],
      "execution_count": 182,
      "outputs": []
    },
    {
      "cell_type": "code",
      "metadata": {
        "id": "9eQO0MGg_S5e"
      },
      "source": [
        "station_8779 = station_8779.join(pres)"
      ],
      "execution_count": 183,
      "outputs": []
    },
    {
      "cell_type": "code",
      "metadata": {
        "id": "R0dY4PH__fgp",
        "outputId": "92d3a026-cb9e-4146-c9b3-6c95198761e0",
        "colab": {
          "base_uri": "https://localhost:8080/",
          "height": 272
        }
      },
      "source": [
        "station_8779.info()"
      ],
      "execution_count": 184,
      "outputs": [
        {
          "output_type": "stream",
          "text": [
            "<class 'pandas.core.frame.DataFrame'>\n",
            "DatetimeIndex: 52584 entries, 2014-01-01 00:00:00 to 2019-12-31 23:00:00\n",
            "Data columns (total 8 columns):\n",
            " #   Column            Non-Null Count  Dtype  \n",
            "---  ------            --------------  -----  \n",
            " 0   Slut              52584 non-null  object \n",
            " 1   CO (185)          49032 non-null  float64\n",
            " 2   NO2 (183)         51743 non-null  float64\n",
            " 3   NOX as NO2 (184)  51939 non-null  float64\n",
            " 4   PM10 (182)        50428 non-null  float64\n",
            " 5   PM2.5 (181)       45852 non-null  float64\n",
            " 6   Air Temperature   52561 non-null  float64\n",
            " 7   Air Pressure      52557 non-null  float64\n",
            "dtypes: float64(7), object(1)\n",
            "memory usage: 6.1+ MB\n"
          ],
          "name": "stdout"
        }
      ]
    },
    {
      "cell_type": "code",
      "metadata": {
        "id": "5XdvvEEP_lc3",
        "outputId": "6f66a898-7dcd-480c-967b-0f77d03f0ada",
        "colab": {
          "base_uri": "https://localhost:8080/",
          "height": 337
        }
      },
      "source": [
        "station_8779.head()"
      ],
      "execution_count": 185,
      "outputs": [
        {
          "output_type": "execute_result",
          "data": {
            "text/html": [
              "<div>\n",
              "<style scoped>\n",
              "    .dataframe tbody tr th:only-of-type {\n",
              "        vertical-align: middle;\n",
              "    }\n",
              "\n",
              "    .dataframe tbody tr th {\n",
              "        vertical-align: top;\n",
              "    }\n",
              "\n",
              "    .dataframe thead th {\n",
              "        text-align: right;\n",
              "    }\n",
              "</style>\n",
              "<table border=\"1\" class=\"dataframe\">\n",
              "  <thead>\n",
              "    <tr style=\"text-align: right;\">\n",
              "      <th></th>\n",
              "      <th>Slut</th>\n",
              "      <th>CO (185)</th>\n",
              "      <th>NO2 (183)</th>\n",
              "      <th>NOX as NO2 (184)</th>\n",
              "      <th>PM10 (182)</th>\n",
              "      <th>PM2.5 (181)</th>\n",
              "      <th>Air Temperature</th>\n",
              "      <th>Air Pressure</th>\n",
              "    </tr>\n",
              "    <tr>\n",
              "      <th>Start</th>\n",
              "      <th></th>\n",
              "      <th></th>\n",
              "      <th></th>\n",
              "      <th></th>\n",
              "      <th></th>\n",
              "      <th></th>\n",
              "      <th></th>\n",
              "      <th></th>\n",
              "    </tr>\n",
              "  </thead>\n",
              "  <tbody>\n",
              "    <tr>\n",
              "      <th>2014-01-01 00:00:00</th>\n",
              "      <td>2014-01-01 01:00</td>\n",
              "      <td>0.41</td>\n",
              "      <td>27.7</td>\n",
              "      <td>58.4</td>\n",
              "      <td>69.8</td>\n",
              "      <td>45.7</td>\n",
              "      <td>2.9</td>\n",
              "      <td>1015.7</td>\n",
              "    </tr>\n",
              "    <tr>\n",
              "      <th>2014-01-01 01:00:00</th>\n",
              "      <td>2014-01-01 02:00</td>\n",
              "      <td>0.27</td>\n",
              "      <td>40.4</td>\n",
              "      <td>72.5</td>\n",
              "      <td>23.9</td>\n",
              "      <td>16.3</td>\n",
              "      <td>2.8</td>\n",
              "      <td>1015.9</td>\n",
              "    </tr>\n",
              "    <tr>\n",
              "      <th>2014-01-01 02:00:00</th>\n",
              "      <td>2014-01-01 03:00</td>\n",
              "      <td>0.35</td>\n",
              "      <td>28.1</td>\n",
              "      <td>49.8</td>\n",
              "      <td>13.9</td>\n",
              "      <td>6.6</td>\n",
              "      <td>3.2</td>\n",
              "      <td>1015.4</td>\n",
              "    </tr>\n",
              "    <tr>\n",
              "      <th>2014-01-01 03:00:00</th>\n",
              "      <td>2014-01-01 04:00</td>\n",
              "      <td>0.24</td>\n",
              "      <td>16.9</td>\n",
              "      <td>28.9</td>\n",
              "      <td>16.8</td>\n",
              "      <td>8.5</td>\n",
              "      <td>3.6</td>\n",
              "      <td>1015.2</td>\n",
              "    </tr>\n",
              "    <tr>\n",
              "      <th>2014-01-01 04:00:00</th>\n",
              "      <td>2014-01-01 05:00</td>\n",
              "      <td>0.28</td>\n",
              "      <td>21.1</td>\n",
              "      <td>32.5</td>\n",
              "      <td>16.7</td>\n",
              "      <td>6.6</td>\n",
              "      <td>3.0</td>\n",
              "      <td>1014.8</td>\n",
              "    </tr>\n",
              "  </tbody>\n",
              "</table>\n",
              "</div>"
            ],
            "text/plain": [
              "                                 Slut  CO (185)  ...  Air Temperature  Air Pressure\n",
              "Start                                            ...                               \n",
              "2014-01-01 00:00:00  2014-01-01 01:00      0.41  ...              2.9        1015.7\n",
              "2014-01-01 01:00:00  2014-01-01 02:00      0.27  ...              2.8        1015.9\n",
              "2014-01-01 02:00:00  2014-01-01 03:00      0.35  ...              3.2        1015.4\n",
              "2014-01-01 03:00:00  2014-01-01 04:00      0.24  ...              3.6        1015.2\n",
              "2014-01-01 04:00:00  2014-01-01 05:00      0.28  ...              3.0        1014.8\n",
              "\n",
              "[5 rows x 8 columns]"
            ]
          },
          "metadata": {
            "tags": []
          },
          "execution_count": 185
        }
      ]
    },
    {
      "cell_type": "code",
      "metadata": {
        "id": "ibxIVL-f_qZ0",
        "outputId": "0e462209-ae80-4678-8f79-b0bd3d31e9f8",
        "colab": {
          "base_uri": "https://localhost:8080/",
          "height": 306
        }
      },
      "source": [
        "rh_data.head()"
      ],
      "execution_count": 186,
      "outputs": [
        {
          "output_type": "execute_result",
          "data": {
            "text/html": [
              "<div>\n",
              "<style scoped>\n",
              "    .dataframe tbody tr th:only-of-type {\n",
              "        vertical-align: middle;\n",
              "    }\n",
              "\n",
              "    .dataframe tbody tr th {\n",
              "        vertical-align: top;\n",
              "    }\n",
              "\n",
              "    .dataframe thead th {\n",
              "        text-align: right;\n",
              "    }\n",
              "</style>\n",
              "<table border=\"1\" class=\"dataframe\">\n",
              "  <thead>\n",
              "    <tr style=\"text-align: right;\">\n",
              "      <th></th>\n",
              "      <th>Datum</th>\n",
              "      <th>Tid (UTC)</th>\n",
              "      <th>Relativ Luftfuktighet</th>\n",
              "      <th>Kvalitet</th>\n",
              "      <th>Unnamed: 4</th>\n",
              "      <th>Tidsutsnitt:</th>\n",
              "    </tr>\n",
              "  </thead>\n",
              "  <tbody>\n",
              "    <tr>\n",
              "      <th>0</th>\n",
              "      <td>1996-10-01</td>\n",
              "      <td>00:00:00</td>\n",
              "      <td>80</td>\n",
              "      <td>Y</td>\n",
              "      <td>NaN</td>\n",
              "      <td>Kvalitetskontrollerade historiska data (utom d...</td>\n",
              "    </tr>\n",
              "    <tr>\n",
              "      <th>1</th>\n",
              "      <td>1996-10-01</td>\n",
              "      <td>01:00:00</td>\n",
              "      <td>83</td>\n",
              "      <td>Y</td>\n",
              "      <td>NaN</td>\n",
              "      <td>Tidsperiod (fr.o.m.) = 1996-10-01 00:00:00 (UTC)</td>\n",
              "    </tr>\n",
              "    <tr>\n",
              "      <th>2</th>\n",
              "      <td>1996-10-01</td>\n",
              "      <td>03:00:00</td>\n",
              "      <td>82</td>\n",
              "      <td>Y</td>\n",
              "      <td>NaN</td>\n",
              "      <td>Tidsperiod (t.o.m.) = 2020-06-01 06:00:00 (UTC)</td>\n",
              "    </tr>\n",
              "    <tr>\n",
              "      <th>3</th>\n",
              "      <td>1996-10-01</td>\n",
              "      <td>04:00:00</td>\n",
              "      <td>82</td>\n",
              "      <td>Y</td>\n",
              "      <td>NaN</td>\n",
              "      <td>Samplingstid = Ej angivet</td>\n",
              "    </tr>\n",
              "    <tr>\n",
              "      <th>4</th>\n",
              "      <td>1996-10-01</td>\n",
              "      <td>05:00:00</td>\n",
              "      <td>82</td>\n",
              "      <td>Y</td>\n",
              "      <td>NaN</td>\n",
              "      <td>NaN</td>\n",
              "    </tr>\n",
              "  </tbody>\n",
              "</table>\n",
              "</div>"
            ],
            "text/plain": [
              "        Datum  ...                                       Tidsutsnitt:\n",
              "0  1996-10-01  ...  Kvalitetskontrollerade historiska data (utom d...\n",
              "1  1996-10-01  ...   Tidsperiod (fr.o.m.) = 1996-10-01 00:00:00 (UTC)\n",
              "2  1996-10-01  ...    Tidsperiod (t.o.m.) = 2020-06-01 06:00:00 (UTC)\n",
              "3  1996-10-01  ...                          Samplingstid = Ej angivet\n",
              "4  1996-10-01  ...                                                NaN\n",
              "\n",
              "[5 rows x 6 columns]"
            ]
          },
          "metadata": {
            "tags": []
          },
          "execution_count": 186
        }
      ]
    },
    {
      "cell_type": "code",
      "metadata": {
        "id": "3t7psEvL_y3C",
        "outputId": "c9d87e89-cb19-48be-9edb-79175c67c1a1",
        "colab": {
          "base_uri": "https://localhost:8080/",
          "height": 68
        }
      },
      "source": [
        "rh_data.columns"
      ],
      "execution_count": 187,
      "outputs": [
        {
          "output_type": "execute_result",
          "data": {
            "text/plain": [
              "Index(['Datum', 'Tid (UTC)', 'Relativ Luftfuktighet', 'Kvalitet', 'Unnamed: 4',\n",
              "       'Tidsutsnitt:'],\n",
              "      dtype='object')"
            ]
          },
          "metadata": {
            "tags": []
          },
          "execution_count": 187
        }
      ]
    },
    {
      "cell_type": "code",
      "metadata": {
        "id": "7uZrKL3s_7Kn"
      },
      "source": [
        "cols_name = ['Datum', 'Tid (UTC)', 'Relativ Luftfuktighet']\n",
        "rh_data = rh_data[cols_name]"
      ],
      "execution_count": 188,
      "outputs": []
    },
    {
      "cell_type": "code",
      "metadata": {
        "id": "ZeBof7zyAQ0T",
        "outputId": "38c7971c-9e7e-420e-a5a5-6a5c593b223c",
        "colab": {
          "base_uri": "https://localhost:8080/",
          "height": 204
        }
      },
      "source": [
        "rh_data.head()"
      ],
      "execution_count": 189,
      "outputs": [
        {
          "output_type": "execute_result",
          "data": {
            "text/html": [
              "<div>\n",
              "<style scoped>\n",
              "    .dataframe tbody tr th:only-of-type {\n",
              "        vertical-align: middle;\n",
              "    }\n",
              "\n",
              "    .dataframe tbody tr th {\n",
              "        vertical-align: top;\n",
              "    }\n",
              "\n",
              "    .dataframe thead th {\n",
              "        text-align: right;\n",
              "    }\n",
              "</style>\n",
              "<table border=\"1\" class=\"dataframe\">\n",
              "  <thead>\n",
              "    <tr style=\"text-align: right;\">\n",
              "      <th></th>\n",
              "      <th>Datum</th>\n",
              "      <th>Tid (UTC)</th>\n",
              "      <th>Relativ Luftfuktighet</th>\n",
              "    </tr>\n",
              "  </thead>\n",
              "  <tbody>\n",
              "    <tr>\n",
              "      <th>0</th>\n",
              "      <td>1996-10-01</td>\n",
              "      <td>00:00:00</td>\n",
              "      <td>80</td>\n",
              "    </tr>\n",
              "    <tr>\n",
              "      <th>1</th>\n",
              "      <td>1996-10-01</td>\n",
              "      <td>01:00:00</td>\n",
              "      <td>83</td>\n",
              "    </tr>\n",
              "    <tr>\n",
              "      <th>2</th>\n",
              "      <td>1996-10-01</td>\n",
              "      <td>03:00:00</td>\n",
              "      <td>82</td>\n",
              "    </tr>\n",
              "    <tr>\n",
              "      <th>3</th>\n",
              "      <td>1996-10-01</td>\n",
              "      <td>04:00:00</td>\n",
              "      <td>82</td>\n",
              "    </tr>\n",
              "    <tr>\n",
              "      <th>4</th>\n",
              "      <td>1996-10-01</td>\n",
              "      <td>05:00:00</td>\n",
              "      <td>82</td>\n",
              "    </tr>\n",
              "  </tbody>\n",
              "</table>\n",
              "</div>"
            ],
            "text/plain": [
              "        Datum Tid (UTC)  Relativ Luftfuktighet\n",
              "0  1996-10-01  00:00:00                     80\n",
              "1  1996-10-01  01:00:00                     83\n",
              "2  1996-10-01  03:00:00                     82\n",
              "3  1996-10-01  04:00:00                     82\n",
              "4  1996-10-01  05:00:00                     82"
            ]
          },
          "metadata": {
            "tags": []
          },
          "execution_count": 189
        }
      ]
    },
    {
      "cell_type": "code",
      "metadata": {
        "id": "PgeN8ZrQAUtj",
        "outputId": "15a00745-6c2b-4641-a3ce-5d45a851b9f3",
        "colab": {
          "base_uri": "https://localhost:8080/",
          "height": 204
        }
      },
      "source": [
        "rh_data['Date'] = rh_data['Datum']+' '+ rh_data['Tid (UTC)']\n",
        "rh_data.head()"
      ],
      "execution_count": 190,
      "outputs": [
        {
          "output_type": "execute_result",
          "data": {
            "text/html": [
              "<div>\n",
              "<style scoped>\n",
              "    .dataframe tbody tr th:only-of-type {\n",
              "        vertical-align: middle;\n",
              "    }\n",
              "\n",
              "    .dataframe tbody tr th {\n",
              "        vertical-align: top;\n",
              "    }\n",
              "\n",
              "    .dataframe thead th {\n",
              "        text-align: right;\n",
              "    }\n",
              "</style>\n",
              "<table border=\"1\" class=\"dataframe\">\n",
              "  <thead>\n",
              "    <tr style=\"text-align: right;\">\n",
              "      <th></th>\n",
              "      <th>Datum</th>\n",
              "      <th>Tid (UTC)</th>\n",
              "      <th>Relativ Luftfuktighet</th>\n",
              "      <th>Date</th>\n",
              "    </tr>\n",
              "  </thead>\n",
              "  <tbody>\n",
              "    <tr>\n",
              "      <th>0</th>\n",
              "      <td>1996-10-01</td>\n",
              "      <td>00:00:00</td>\n",
              "      <td>80</td>\n",
              "      <td>1996-10-01 00:00:00</td>\n",
              "    </tr>\n",
              "    <tr>\n",
              "      <th>1</th>\n",
              "      <td>1996-10-01</td>\n",
              "      <td>01:00:00</td>\n",
              "      <td>83</td>\n",
              "      <td>1996-10-01 01:00:00</td>\n",
              "    </tr>\n",
              "    <tr>\n",
              "      <th>2</th>\n",
              "      <td>1996-10-01</td>\n",
              "      <td>03:00:00</td>\n",
              "      <td>82</td>\n",
              "      <td>1996-10-01 03:00:00</td>\n",
              "    </tr>\n",
              "    <tr>\n",
              "      <th>3</th>\n",
              "      <td>1996-10-01</td>\n",
              "      <td>04:00:00</td>\n",
              "      <td>82</td>\n",
              "      <td>1996-10-01 04:00:00</td>\n",
              "    </tr>\n",
              "    <tr>\n",
              "      <th>4</th>\n",
              "      <td>1996-10-01</td>\n",
              "      <td>05:00:00</td>\n",
              "      <td>82</td>\n",
              "      <td>1996-10-01 05:00:00</td>\n",
              "    </tr>\n",
              "  </tbody>\n",
              "</table>\n",
              "</div>"
            ],
            "text/plain": [
              "        Datum Tid (UTC)  Relativ Luftfuktighet                 Date\n",
              "0  1996-10-01  00:00:00                     80  1996-10-01 00:00:00\n",
              "1  1996-10-01  01:00:00                     83  1996-10-01 01:00:00\n",
              "2  1996-10-01  03:00:00                     82  1996-10-01 03:00:00\n",
              "3  1996-10-01  04:00:00                     82  1996-10-01 04:00:00\n",
              "4  1996-10-01  05:00:00                     82  1996-10-01 05:00:00"
            ]
          },
          "metadata": {
            "tags": []
          },
          "execution_count": 190
        }
      ]
    },
    {
      "cell_type": "code",
      "metadata": {
        "id": "eiaYeZXxAlfQ"
      },
      "source": [
        "cols = ['Date', 'Relativ Luftfuktighet']\n",
        "rh = rh_data[cols]\n",
        "rh = rh.rename({'Date': 'Datum', 'Relativ Luftfuktighet': 'Relative Humidity'}, axis=1)\n",
        "\n"
      ],
      "execution_count": 191,
      "outputs": []
    },
    {
      "cell_type": "code",
      "metadata": {
        "id": "2vdnQ82QCVQs"
      },
      "source": [
        "rh = rh.set_index('Datum')"
      ],
      "execution_count": 192,
      "outputs": []
    },
    {
      "cell_type": "code",
      "metadata": {
        "id": "UioZ9jKsCZJt"
      },
      "source": [
        "station_8779 = station_8779.join(rh)"
      ],
      "execution_count": 193,
      "outputs": []
    },
    {
      "cell_type": "code",
      "metadata": {
        "id": "ciDfpvs5Cdj-",
        "outputId": "e8aaf602-77a3-4412-bced-7c7ce5146452",
        "colab": {
          "base_uri": "https://localhost:8080/",
          "height": 337
        }
      },
      "source": [
        "station_8779.head()"
      ],
      "execution_count": 194,
      "outputs": [
        {
          "output_type": "execute_result",
          "data": {
            "text/html": [
              "<div>\n",
              "<style scoped>\n",
              "    .dataframe tbody tr th:only-of-type {\n",
              "        vertical-align: middle;\n",
              "    }\n",
              "\n",
              "    .dataframe tbody tr th {\n",
              "        vertical-align: top;\n",
              "    }\n",
              "\n",
              "    .dataframe thead th {\n",
              "        text-align: right;\n",
              "    }\n",
              "</style>\n",
              "<table border=\"1\" class=\"dataframe\">\n",
              "  <thead>\n",
              "    <tr style=\"text-align: right;\">\n",
              "      <th></th>\n",
              "      <th>Slut</th>\n",
              "      <th>CO (185)</th>\n",
              "      <th>NO2 (183)</th>\n",
              "      <th>NOX as NO2 (184)</th>\n",
              "      <th>PM10 (182)</th>\n",
              "      <th>PM2.5 (181)</th>\n",
              "      <th>Air Temperature</th>\n",
              "      <th>Air Pressure</th>\n",
              "      <th>Relative Humidity</th>\n",
              "    </tr>\n",
              "    <tr>\n",
              "      <th>Start</th>\n",
              "      <th></th>\n",
              "      <th></th>\n",
              "      <th></th>\n",
              "      <th></th>\n",
              "      <th></th>\n",
              "      <th></th>\n",
              "      <th></th>\n",
              "      <th></th>\n",
              "      <th></th>\n",
              "    </tr>\n",
              "  </thead>\n",
              "  <tbody>\n",
              "    <tr>\n",
              "      <th>2014-01-01 00:00:00</th>\n",
              "      <td>2014-01-01 01:00</td>\n",
              "      <td>0.41</td>\n",
              "      <td>27.7</td>\n",
              "      <td>58.4</td>\n",
              "      <td>69.8</td>\n",
              "      <td>45.7</td>\n",
              "      <td>2.9</td>\n",
              "      <td>1015.7</td>\n",
              "      <td>92.0</td>\n",
              "    </tr>\n",
              "    <tr>\n",
              "      <th>2014-01-01 01:00:00</th>\n",
              "      <td>2014-01-01 02:00</td>\n",
              "      <td>0.27</td>\n",
              "      <td>40.4</td>\n",
              "      <td>72.5</td>\n",
              "      <td>23.9</td>\n",
              "      <td>16.3</td>\n",
              "      <td>2.8</td>\n",
              "      <td>1015.9</td>\n",
              "      <td>93.0</td>\n",
              "    </tr>\n",
              "    <tr>\n",
              "      <th>2014-01-01 02:00:00</th>\n",
              "      <td>2014-01-01 03:00</td>\n",
              "      <td>0.35</td>\n",
              "      <td>28.1</td>\n",
              "      <td>49.8</td>\n",
              "      <td>13.9</td>\n",
              "      <td>6.6</td>\n",
              "      <td>3.2</td>\n",
              "      <td>1015.4</td>\n",
              "      <td>94.0</td>\n",
              "    </tr>\n",
              "    <tr>\n",
              "      <th>2014-01-01 03:00:00</th>\n",
              "      <td>2014-01-01 04:00</td>\n",
              "      <td>0.24</td>\n",
              "      <td>16.9</td>\n",
              "      <td>28.9</td>\n",
              "      <td>16.8</td>\n",
              "      <td>8.5</td>\n",
              "      <td>3.6</td>\n",
              "      <td>1015.2</td>\n",
              "      <td>93.0</td>\n",
              "    </tr>\n",
              "    <tr>\n",
              "      <th>2014-01-01 04:00:00</th>\n",
              "      <td>2014-01-01 05:00</td>\n",
              "      <td>0.28</td>\n",
              "      <td>21.1</td>\n",
              "      <td>32.5</td>\n",
              "      <td>16.7</td>\n",
              "      <td>6.6</td>\n",
              "      <td>3.0</td>\n",
              "      <td>1014.8</td>\n",
              "      <td>92.0</td>\n",
              "    </tr>\n",
              "  </tbody>\n",
              "</table>\n",
              "</div>"
            ],
            "text/plain": [
              "                                 Slut  ...  Relative Humidity\n",
              "Start                                  ...                   \n",
              "2014-01-01 00:00:00  2014-01-01 01:00  ...               92.0\n",
              "2014-01-01 01:00:00  2014-01-01 02:00  ...               93.0\n",
              "2014-01-01 02:00:00  2014-01-01 03:00  ...               94.0\n",
              "2014-01-01 03:00:00  2014-01-01 04:00  ...               93.0\n",
              "2014-01-01 04:00:00  2014-01-01 05:00  ...               92.0\n",
              "\n",
              "[5 rows x 9 columns]"
            ]
          },
          "metadata": {
            "tags": []
          },
          "execution_count": 194
        }
      ]
    },
    {
      "cell_type": "markdown",
      "metadata": {
        "id": "mI9rijROHP-I"
      },
      "source": [
        "**Adding Precipitation Data**"
      ]
    },
    {
      "cell_type": "code",
      "metadata": {
        "id": "W-9ZHWnmKFV2"
      },
      "source": [
        "prec_data = 'https://raw.githubusercontent.com/evo4np/damp_preprocessing_2018/master/mete/StockholmA/stockholm-precipitation.csv'\n"
      ],
      "execution_count": 195,
      "outputs": []
    },
    {
      "cell_type": "code",
      "metadata": {
        "id": "iLIjng-IKW2q",
        "outputId": "fb002509-fe10-4eba-bad0-9b18c08572e8",
        "colab": {
          "base_uri": "https://localhost:8080/",
          "height": 71
        }
      },
      "source": [
        "prec_data = pd.read_csv(prec_data, sep=';', skiprows=9)"
      ],
      "execution_count": 196,
      "outputs": [
        {
          "output_type": "stream",
          "text": [
            "/usr/local/lib/python3.6/dist-packages/IPython/core/interactiveshell.py:2718: DtypeWarning: Columns (5) have mixed types.Specify dtype option on import or set low_memory=False.\n",
            "  interactivity=interactivity, compiler=compiler, result=result)\n"
          ],
          "name": "stderr"
        }
      ]
    },
    {
      "cell_type": "code",
      "metadata": {
        "id": "YkuSHQLFGICv",
        "outputId": "94834bb9-6873-4114-ce1c-dfbcfd0f7a2b",
        "colab": {
          "base_uri": "https://localhost:8080/",
          "height": 204
        }
      },
      "source": [
        "prec_data.head()"
      ],
      "execution_count": 197,
      "outputs": [
        {
          "output_type": "execute_result",
          "data": {
            "text/html": [
              "<div>\n",
              "<style scoped>\n",
              "    .dataframe tbody tr th:only-of-type {\n",
              "        vertical-align: middle;\n",
              "    }\n",
              "\n",
              "    .dataframe tbody tr th {\n",
              "        vertical-align: top;\n",
              "    }\n",
              "\n",
              "    .dataframe thead th {\n",
              "        text-align: right;\n",
              "    }\n",
              "</style>\n",
              "<table border=\"1\" class=\"dataframe\">\n",
              "  <thead>\n",
              "    <tr style=\"text-align: right;\">\n",
              "      <th></th>\n",
              "      <th>Datum</th>\n",
              "      <th>Tid (UTC)</th>\n",
              "      <th>Nederbördsmängd</th>\n",
              "      <th>Kvalitet</th>\n",
              "      <th>Unnamed: 4</th>\n",
              "      <th>Tidsutsnitt:</th>\n",
              "    </tr>\n",
              "  </thead>\n",
              "  <tbody>\n",
              "    <tr>\n",
              "      <th>0</th>\n",
              "      <td>1995-12-15</td>\n",
              "      <td>00:24:00</td>\n",
              "      <td>0.0</td>\n",
              "      <td>Y</td>\n",
              "      <td>NaN</td>\n",
              "      <td>Kvalitetskontrollerade historiska data (utom d...</td>\n",
              "    </tr>\n",
              "    <tr>\n",
              "      <th>1</th>\n",
              "      <td>1995-12-15</td>\n",
              "      <td>01:24:00</td>\n",
              "      <td>0.0</td>\n",
              "      <td>Y</td>\n",
              "      <td>NaN</td>\n",
              "      <td>Tidsperiod (fr.o.m.) = 1995-12-15 00:00:00 (UTC)</td>\n",
              "    </tr>\n",
              "    <tr>\n",
              "      <th>2</th>\n",
              "      <td>1995-12-15</td>\n",
              "      <td>02:24:00</td>\n",
              "      <td>0.0</td>\n",
              "      <td>Y</td>\n",
              "      <td>NaN</td>\n",
              "      <td>Tidsperiod (t.o.m.) = 2020-06-01 06:00:00 (UTC)</td>\n",
              "    </tr>\n",
              "    <tr>\n",
              "      <th>3</th>\n",
              "      <td>1995-12-15</td>\n",
              "      <td>03:23:00</td>\n",
              "      <td>0.0</td>\n",
              "      <td>Y</td>\n",
              "      <td>NaN</td>\n",
              "      <td>Samplingstid = 1 timme</td>\n",
              "    </tr>\n",
              "    <tr>\n",
              "      <th>4</th>\n",
              "      <td>1995-12-15</td>\n",
              "      <td>04:23:00</td>\n",
              "      <td>0.0</td>\n",
              "      <td>Y</td>\n",
              "      <td>NaN</td>\n",
              "      <td>NaN</td>\n",
              "    </tr>\n",
              "  </tbody>\n",
              "</table>\n",
              "</div>"
            ],
            "text/plain": [
              "        Datum  ...                                       Tidsutsnitt:\n",
              "0  1995-12-15  ...  Kvalitetskontrollerade historiska data (utom d...\n",
              "1  1995-12-15  ...   Tidsperiod (fr.o.m.) = 1995-12-15 00:00:00 (UTC)\n",
              "2  1995-12-15  ...    Tidsperiod (t.o.m.) = 2020-06-01 06:00:00 (UTC)\n",
              "3  1995-12-15  ...                             Samplingstid = 1 timme\n",
              "4  1995-12-15  ...                                                NaN\n",
              "\n",
              "[5 rows x 6 columns]"
            ]
          },
          "metadata": {
            "tags": []
          },
          "execution_count": 197
        }
      ]
    },
    {
      "cell_type": "code",
      "metadata": {
        "id": "6cCEQNSbHWV9",
        "outputId": "d920c376-bf1b-4710-866c-9169556ae04c",
        "colab": {
          "base_uri": "https://localhost:8080/",
          "height": 68
        }
      },
      "source": [
        "prec_data.columns"
      ],
      "execution_count": 198,
      "outputs": [
        {
          "output_type": "execute_result",
          "data": {
            "text/plain": [
              "Index(['Datum', 'Tid (UTC)', 'Nederbördsmängd', 'Kvalitet', 'Unnamed: 4',\n",
              "       'Tidsutsnitt:'],\n",
              "      dtype='object')"
            ]
          },
          "metadata": {
            "tags": []
          },
          "execution_count": 198
        }
      ]
    },
    {
      "cell_type": "code",
      "metadata": {
        "id": "IfE9NNFDHZWD"
      },
      "source": [
        "cols_name = ['Datum', 'Tid (UTC)', 'Nederbördsmängd']\n",
        "prec_data = prec_data[cols_name]\n"
      ],
      "execution_count": 199,
      "outputs": []
    },
    {
      "cell_type": "code",
      "metadata": {
        "id": "MhVQILcbIBCM",
        "outputId": "3e194972-499b-420c-d557-f1e97ecb7333",
        "colab": {
          "base_uri": "https://localhost:8080/",
          "height": 204
        }
      },
      "source": [
        "prec_data.head()"
      ],
      "execution_count": 200,
      "outputs": [
        {
          "output_type": "execute_result",
          "data": {
            "text/html": [
              "<div>\n",
              "<style scoped>\n",
              "    .dataframe tbody tr th:only-of-type {\n",
              "        vertical-align: middle;\n",
              "    }\n",
              "\n",
              "    .dataframe tbody tr th {\n",
              "        vertical-align: top;\n",
              "    }\n",
              "\n",
              "    .dataframe thead th {\n",
              "        text-align: right;\n",
              "    }\n",
              "</style>\n",
              "<table border=\"1\" class=\"dataframe\">\n",
              "  <thead>\n",
              "    <tr style=\"text-align: right;\">\n",
              "      <th></th>\n",
              "      <th>Datum</th>\n",
              "      <th>Tid (UTC)</th>\n",
              "      <th>Nederbördsmängd</th>\n",
              "    </tr>\n",
              "  </thead>\n",
              "  <tbody>\n",
              "    <tr>\n",
              "      <th>0</th>\n",
              "      <td>1995-12-15</td>\n",
              "      <td>00:24:00</td>\n",
              "      <td>0.0</td>\n",
              "    </tr>\n",
              "    <tr>\n",
              "      <th>1</th>\n",
              "      <td>1995-12-15</td>\n",
              "      <td>01:24:00</td>\n",
              "      <td>0.0</td>\n",
              "    </tr>\n",
              "    <tr>\n",
              "      <th>2</th>\n",
              "      <td>1995-12-15</td>\n",
              "      <td>02:24:00</td>\n",
              "      <td>0.0</td>\n",
              "    </tr>\n",
              "    <tr>\n",
              "      <th>3</th>\n",
              "      <td>1995-12-15</td>\n",
              "      <td>03:23:00</td>\n",
              "      <td>0.0</td>\n",
              "    </tr>\n",
              "    <tr>\n",
              "      <th>4</th>\n",
              "      <td>1995-12-15</td>\n",
              "      <td>04:23:00</td>\n",
              "      <td>0.0</td>\n",
              "    </tr>\n",
              "  </tbody>\n",
              "</table>\n",
              "</div>"
            ],
            "text/plain": [
              "        Datum Tid (UTC)  Nederbördsmängd\n",
              "0  1995-12-15  00:24:00              0.0\n",
              "1  1995-12-15  01:24:00              0.0\n",
              "2  1995-12-15  02:24:00              0.0\n",
              "3  1995-12-15  03:23:00              0.0\n",
              "4  1995-12-15  04:23:00              0.0"
            ]
          },
          "metadata": {
            "tags": []
          },
          "execution_count": 200
        }
      ]
    },
    {
      "cell_type": "code",
      "metadata": {
        "id": "Pnb6tu5tIFHy",
        "outputId": "775f2c13-79f1-4293-eb8e-13882ca46346",
        "colab": {
          "base_uri": "https://localhost:8080/",
          "height": 204
        }
      },
      "source": [
        "#join date and time\n",
        "prec_data['Date'] = prec_data['Datum']+' '+ prec_data['Tid (UTC)']\n",
        "prec_data.head()"
      ],
      "execution_count": 201,
      "outputs": [
        {
          "output_type": "execute_result",
          "data": {
            "text/html": [
              "<div>\n",
              "<style scoped>\n",
              "    .dataframe tbody tr th:only-of-type {\n",
              "        vertical-align: middle;\n",
              "    }\n",
              "\n",
              "    .dataframe tbody tr th {\n",
              "        vertical-align: top;\n",
              "    }\n",
              "\n",
              "    .dataframe thead th {\n",
              "        text-align: right;\n",
              "    }\n",
              "</style>\n",
              "<table border=\"1\" class=\"dataframe\">\n",
              "  <thead>\n",
              "    <tr style=\"text-align: right;\">\n",
              "      <th></th>\n",
              "      <th>Datum</th>\n",
              "      <th>Tid (UTC)</th>\n",
              "      <th>Nederbördsmängd</th>\n",
              "      <th>Date</th>\n",
              "    </tr>\n",
              "  </thead>\n",
              "  <tbody>\n",
              "    <tr>\n",
              "      <th>0</th>\n",
              "      <td>1995-12-15</td>\n",
              "      <td>00:24:00</td>\n",
              "      <td>0.0</td>\n",
              "      <td>1995-12-15 00:24:00</td>\n",
              "    </tr>\n",
              "    <tr>\n",
              "      <th>1</th>\n",
              "      <td>1995-12-15</td>\n",
              "      <td>01:24:00</td>\n",
              "      <td>0.0</td>\n",
              "      <td>1995-12-15 01:24:00</td>\n",
              "    </tr>\n",
              "    <tr>\n",
              "      <th>2</th>\n",
              "      <td>1995-12-15</td>\n",
              "      <td>02:24:00</td>\n",
              "      <td>0.0</td>\n",
              "      <td>1995-12-15 02:24:00</td>\n",
              "    </tr>\n",
              "    <tr>\n",
              "      <th>3</th>\n",
              "      <td>1995-12-15</td>\n",
              "      <td>03:23:00</td>\n",
              "      <td>0.0</td>\n",
              "      <td>1995-12-15 03:23:00</td>\n",
              "    </tr>\n",
              "    <tr>\n",
              "      <th>4</th>\n",
              "      <td>1995-12-15</td>\n",
              "      <td>04:23:00</td>\n",
              "      <td>0.0</td>\n",
              "      <td>1995-12-15 04:23:00</td>\n",
              "    </tr>\n",
              "  </tbody>\n",
              "</table>\n",
              "</div>"
            ],
            "text/plain": [
              "        Datum Tid (UTC)  Nederbördsmängd                 Date\n",
              "0  1995-12-15  00:24:00              0.0  1995-12-15 00:24:00\n",
              "1  1995-12-15  01:24:00              0.0  1995-12-15 01:24:00\n",
              "2  1995-12-15  02:24:00              0.0  1995-12-15 02:24:00\n",
              "3  1995-12-15  03:23:00              0.0  1995-12-15 03:23:00\n",
              "4  1995-12-15  04:23:00              0.0  1995-12-15 04:23:00"
            ]
          },
          "metadata": {
            "tags": []
          },
          "execution_count": 201
        }
      ]
    },
    {
      "cell_type": "code",
      "metadata": {
        "id": "fEiNfiyPIha5"
      },
      "source": [
        "cols = ['Date', 'Nederbördsmängd']\n",
        "prec = prec_data[cols]\n",
        "prec = prec.rename({'Date':'Datum', 'Nederbördsmängd':'Precepitation'},axis=1)"
      ],
      "execution_count": 202,
      "outputs": []
    },
    {
      "cell_type": "code",
      "metadata": {
        "id": "YcGxGjqQI-5k",
        "outputId": "c3e62fe4-e487-45d0-fc33-c21c3f5583ed",
        "colab": {
          "base_uri": "https://localhost:8080/",
          "height": 204
        }
      },
      "source": [
        "prec.head()"
      ],
      "execution_count": 203,
      "outputs": [
        {
          "output_type": "execute_result",
          "data": {
            "text/html": [
              "<div>\n",
              "<style scoped>\n",
              "    .dataframe tbody tr th:only-of-type {\n",
              "        vertical-align: middle;\n",
              "    }\n",
              "\n",
              "    .dataframe tbody tr th {\n",
              "        vertical-align: top;\n",
              "    }\n",
              "\n",
              "    .dataframe thead th {\n",
              "        text-align: right;\n",
              "    }\n",
              "</style>\n",
              "<table border=\"1\" class=\"dataframe\">\n",
              "  <thead>\n",
              "    <tr style=\"text-align: right;\">\n",
              "      <th></th>\n",
              "      <th>Datum</th>\n",
              "      <th>Precepitation</th>\n",
              "    </tr>\n",
              "  </thead>\n",
              "  <tbody>\n",
              "    <tr>\n",
              "      <th>0</th>\n",
              "      <td>1995-12-15 00:24:00</td>\n",
              "      <td>0.0</td>\n",
              "    </tr>\n",
              "    <tr>\n",
              "      <th>1</th>\n",
              "      <td>1995-12-15 01:24:00</td>\n",
              "      <td>0.0</td>\n",
              "    </tr>\n",
              "    <tr>\n",
              "      <th>2</th>\n",
              "      <td>1995-12-15 02:24:00</td>\n",
              "      <td>0.0</td>\n",
              "    </tr>\n",
              "    <tr>\n",
              "      <th>3</th>\n",
              "      <td>1995-12-15 03:23:00</td>\n",
              "      <td>0.0</td>\n",
              "    </tr>\n",
              "    <tr>\n",
              "      <th>4</th>\n",
              "      <td>1995-12-15 04:23:00</td>\n",
              "      <td>0.0</td>\n",
              "    </tr>\n",
              "  </tbody>\n",
              "</table>\n",
              "</div>"
            ],
            "text/plain": [
              "                 Datum  Precepitation\n",
              "0  1995-12-15 00:24:00            0.0\n",
              "1  1995-12-15 01:24:00            0.0\n",
              "2  1995-12-15 02:24:00            0.0\n",
              "3  1995-12-15 03:23:00            0.0\n",
              "4  1995-12-15 04:23:00            0.0"
            ]
          },
          "metadata": {
            "tags": []
          },
          "execution_count": 203
        }
      ]
    },
    {
      "cell_type": "code",
      "metadata": {
        "id": "_8pXErtTJB7z"
      },
      "source": [
        "prec = prec.set_index('Datum')"
      ],
      "execution_count": 204,
      "outputs": []
    },
    {
      "cell_type": "code",
      "metadata": {
        "id": "-9kQGaiYJVBi"
      },
      "source": [
        "#station_8779 = station_8779.join(prec)"
      ],
      "execution_count": 205,
      "outputs": []
    },
    {
      "cell_type": "code",
      "metadata": {
        "id": "xhKdLx2ATOXZ"
      },
      "source": [
        "station_8779 = station_8779.join(prec)"
      ],
      "execution_count": 206,
      "outputs": []
    },
    {
      "cell_type": "code",
      "metadata": {
        "id": "sXokeWNsTTaT",
        "outputId": "1a882720-0cd1-4200-927e-9013333f9625",
        "colab": {
          "base_uri": "https://localhost:8080/",
          "height": 439
        }
      },
      "source": [
        "station_8779.head()"
      ],
      "execution_count": 207,
      "outputs": [
        {
          "output_type": "execute_result",
          "data": {
            "text/html": [
              "<div>\n",
              "<style scoped>\n",
              "    .dataframe tbody tr th:only-of-type {\n",
              "        vertical-align: middle;\n",
              "    }\n",
              "\n",
              "    .dataframe tbody tr th {\n",
              "        vertical-align: top;\n",
              "    }\n",
              "\n",
              "    .dataframe thead th {\n",
              "        text-align: right;\n",
              "    }\n",
              "</style>\n",
              "<table border=\"1\" class=\"dataframe\">\n",
              "  <thead>\n",
              "    <tr style=\"text-align: right;\">\n",
              "      <th></th>\n",
              "      <th>Slut</th>\n",
              "      <th>CO (185)</th>\n",
              "      <th>NO2 (183)</th>\n",
              "      <th>NOX as NO2 (184)</th>\n",
              "      <th>PM10 (182)</th>\n",
              "      <th>PM2.5 (181)</th>\n",
              "      <th>Air Temperature</th>\n",
              "      <th>Air Pressure</th>\n",
              "      <th>Relative Humidity</th>\n",
              "      <th>Precepitation</th>\n",
              "    </tr>\n",
              "    <tr>\n",
              "      <th>Start</th>\n",
              "      <th></th>\n",
              "      <th></th>\n",
              "      <th></th>\n",
              "      <th></th>\n",
              "      <th></th>\n",
              "      <th></th>\n",
              "      <th></th>\n",
              "      <th></th>\n",
              "      <th></th>\n",
              "      <th></th>\n",
              "    </tr>\n",
              "  </thead>\n",
              "  <tbody>\n",
              "    <tr>\n",
              "      <th>2014-01-01 00:00:00</th>\n",
              "      <td>2014-01-01 01:00</td>\n",
              "      <td>0.41</td>\n",
              "      <td>27.7</td>\n",
              "      <td>58.4</td>\n",
              "      <td>69.8</td>\n",
              "      <td>45.7</td>\n",
              "      <td>2.9</td>\n",
              "      <td>1015.7</td>\n",
              "      <td>92.0</td>\n",
              "      <td>0.0</td>\n",
              "    </tr>\n",
              "    <tr>\n",
              "      <th>2014-01-01 01:00:00</th>\n",
              "      <td>2014-01-01 02:00</td>\n",
              "      <td>0.27</td>\n",
              "      <td>40.4</td>\n",
              "      <td>72.5</td>\n",
              "      <td>23.9</td>\n",
              "      <td>16.3</td>\n",
              "      <td>2.8</td>\n",
              "      <td>1015.9</td>\n",
              "      <td>93.0</td>\n",
              "      <td>0.0</td>\n",
              "    </tr>\n",
              "    <tr>\n",
              "      <th>2014-01-01 02:00:00</th>\n",
              "      <td>2014-01-01 03:00</td>\n",
              "      <td>0.35</td>\n",
              "      <td>28.1</td>\n",
              "      <td>49.8</td>\n",
              "      <td>13.9</td>\n",
              "      <td>6.6</td>\n",
              "      <td>3.2</td>\n",
              "      <td>1015.4</td>\n",
              "      <td>94.0</td>\n",
              "      <td>0.0</td>\n",
              "    </tr>\n",
              "    <tr>\n",
              "      <th>2014-01-01 03:00:00</th>\n",
              "      <td>2014-01-01 04:00</td>\n",
              "      <td>0.24</td>\n",
              "      <td>16.9</td>\n",
              "      <td>28.9</td>\n",
              "      <td>16.8</td>\n",
              "      <td>8.5</td>\n",
              "      <td>3.6</td>\n",
              "      <td>1015.2</td>\n",
              "      <td>93.0</td>\n",
              "      <td>0.0</td>\n",
              "    </tr>\n",
              "    <tr>\n",
              "      <th>2014-01-01 04:00:00</th>\n",
              "      <td>2014-01-01 05:00</td>\n",
              "      <td>0.28</td>\n",
              "      <td>21.1</td>\n",
              "      <td>32.5</td>\n",
              "      <td>16.7</td>\n",
              "      <td>6.6</td>\n",
              "      <td>3.0</td>\n",
              "      <td>1014.8</td>\n",
              "      <td>92.0</td>\n",
              "      <td>0.0</td>\n",
              "    </tr>\n",
              "  </tbody>\n",
              "</table>\n",
              "</div>"
            ],
            "text/plain": [
              "                                 Slut  ...  Precepitation\n",
              "Start                                  ...               \n",
              "2014-01-01 00:00:00  2014-01-01 01:00  ...            0.0\n",
              "2014-01-01 01:00:00  2014-01-01 02:00  ...            0.0\n",
              "2014-01-01 02:00:00  2014-01-01 03:00  ...            0.0\n",
              "2014-01-01 03:00:00  2014-01-01 04:00  ...            0.0\n",
              "2014-01-01 04:00:00  2014-01-01 05:00  ...            0.0\n",
              "\n",
              "[5 rows x 10 columns]"
            ]
          },
          "metadata": {
            "tags": []
          },
          "execution_count": 207
        }
      ]
    },
    {
      "cell_type": "code",
      "metadata": {
        "id": "r07g_qjK8tRr"
      },
      "source": [
        "# from google.colab import drive\n",
        "# drive.mount('/drive')\n",
        "# station_8779.to_csv('/drive/My Drive/Bunu/8779_merged.csv')"
      ],
      "execution_count": 208,
      "outputs": []
    },
    {
      "cell_type": "markdown",
      "metadata": {
        "id": "v3qi5lhHPteu"
      },
      "source": [
        "**Correlation Plot**"
      ]
    },
    {
      "cell_type": "markdown",
      "metadata": {
        "id": "pxfIj_6kESaV"
      },
      "source": [
        "# Correlation Plot"
      ]
    },
    {
      "cell_type": "code",
      "metadata": {
        "id": "A2SX_fPSJW9F",
        "outputId": "9dba19d5-c9e9-472c-899d-e15e28b036d3",
        "colab": {
          "base_uri": "https://localhost:8080/",
          "height": 350
        }
      },
      "source": [
        "corl = station_8779.corr()\n",
        "sns.heatmap(corl,annot=True)\n",
        "plt.show()"
      ],
      "execution_count": 209,
      "outputs": [
        {
          "output_type": "display_data",
          "data": {
            "image/png": "[encoded data removed]",
            "text/plain": [
              "<Figure size 432x288 with 2 Axes>"
            ]
          },
          "metadata": {
            "tags": []
          }
        }
      ]
    },
    {
      "cell_type": "code",
      "metadata": {
        "id": "vxeLFylKR9Q5",
        "outputId": "b6816bb4-5919-41c0-8053-936ba6d3a5f3",
        "colab": {
          "base_uri": "https://localhost:8080/",
          "height": 454
        }
      },
      "source": [
        "station_8779.plot(style=['k--', 'bo-', 'r*'], figsize=(20, 10));"
      ],
      "execution_count": 210,
      "outputs": [
        {
          "output_type": "display_data",
          "data": {
            "image/png": "[encoded data removed]",
            "text/plain": [
              "<Figure size 1440x720 with 1 Axes>"
            ]
          },
          "metadata": {
            "tags": []
          }
        }
      ]
    },
    {
      "cell_type": "markdown",
      "metadata": {
        "id": "a09DAFgGmxmc"
      },
      "source": [
        "**Missing values Plot**"
      ]
    },
    {
      "cell_type": "code",
      "metadata": {
        "id": "X1o9jQ3UmH8U",
        "outputId": "633a263e-a85d-4393-f559-d865c09c1b05",
        "colab": {
          "base_uri": "https://localhost:8080/",
          "height": 519
        }
      },
      "source": [
        "import missingno as mno\n",
        "mno.matrix(station_8779, figsize = (20,10))"
      ],
      "execution_count": 211,
      "outputs": [
        {
          "output_type": "execute_result",
          "data": {
            "text/plain": [
              "<matplotlib.axes._subplots.AxesSubplot at 0x7ff25027fb70>"
            ]
          },
          "metadata": {
            "tags": []
          },
          "execution_count": 211
        },
        {
          "output_type": "display_data",
          "data": {
            "image/png": "[encoded data removed]",
            "text/plain": [
              "<Figure size 1440x720 with 2 Axes>"
            ]
          },
          "metadata": {
            "tags": []
          }
        }
      ]
    },
    {
      "cell_type": "markdown",
      "metadata": {
        "id": "mWVGdYWjnIXU"
      },
      "source": [
        "From the above plot. There are 8 columns with missing values"
      ]
    },
    {
      "cell_type": "code",
      "metadata": {
        "id": "ld8gi2jInfNC",
        "outputId": "dd18a62f-33c0-4219-c4df-a002801d2f68",
        "colab": {
          "base_uri": "https://localhost:8080/",
          "height": 85
        }
      },
      "source": [
        "station_8779.columns"
      ],
      "execution_count": 212,
      "outputs": [
        {
          "output_type": "execute_result",
          "data": {
            "text/plain": [
              "Index(['Slut', 'CO (185)', 'NO2 (183)', 'NOX as NO2 (184)', 'PM10 (182)',\n",
              "       'PM2.5 (181)', 'Air Temperature', 'Air Pressure', 'Relative Humidity',\n",
              "       'Precepitation'],\n",
              "      dtype='object')"
            ]
          },
          "metadata": {
            "tags": []
          },
          "execution_count": 212
        }
      ]
    },
    {
      "cell_type": "code",
      "metadata": {
        "id": "rrpgXu46cJqR",
        "outputId": "559af15a-b7f2-4403-98b1-50fd0fdaf066",
        "colab": {
          "base_uri": "https://localhost:8080/",
          "height": 430
        }
      },
      "source": [
        "missing_zero_values_table(station_8779)"
      ],
      "execution_count": 213,
      "outputs": [
        {
          "output_type": "stream",
          "text": [
            "Your selected dataframe has 10 columns and 52584 Rows.\n",
            "There are 9 columns that have missing values.\n"
          ],
          "name": "stdout"
        },
        {
          "output_type": "execute_result",
          "data": {
            "text/html": [
              "<div>\n",
              "<style scoped>\n",
              "    .dataframe tbody tr th:only-of-type {\n",
              "        vertical-align: middle;\n",
              "    }\n",
              "\n",
              "    .dataframe tbody tr th {\n",
              "        vertical-align: top;\n",
              "    }\n",
              "\n",
              "    .dataframe thead th {\n",
              "        text-align: right;\n",
              "    }\n",
              "</style>\n",
              "<table border=\"1\" class=\"dataframe\">\n",
              "  <thead>\n",
              "    <tr style=\"text-align: right;\">\n",
              "      <th></th>\n",
              "      <th>Zero Values</th>\n",
              "      <th>Missing Values</th>\n",
              "      <th>% of Total Values</th>\n",
              "      <th>Total Zero Missing Values</th>\n",
              "      <th>% Total Zero Missing Values</th>\n",
              "      <th>Data Type</th>\n",
              "    </tr>\n",
              "  </thead>\n",
              "  <tbody>\n",
              "    <tr>\n",
              "      <th>PM2.5 (181)</th>\n",
              "      <td>236</td>\n",
              "      <td>6732</td>\n",
              "      <td>12.8</td>\n",
              "      <td>6968</td>\n",
              "      <td>13.3</td>\n",
              "      <td>float64</td>\n",
              "    </tr>\n",
              "    <tr>\n",
              "      <th>CO (185)</th>\n",
              "      <td>0</td>\n",
              "      <td>3552</td>\n",
              "      <td>6.8</td>\n",
              "      <td>3552</td>\n",
              "      <td>6.8</td>\n",
              "      <td>float64</td>\n",
              "    </tr>\n",
              "    <tr>\n",
              "      <th>PM10 (182)</th>\n",
              "      <td>22</td>\n",
              "      <td>2156</td>\n",
              "      <td>4.1</td>\n",
              "      <td>2178</td>\n",
              "      <td>4.1</td>\n",
              "      <td>float64</td>\n",
              "    </tr>\n",
              "    <tr>\n",
              "      <th>NO2 (183)</th>\n",
              "      <td>0</td>\n",
              "      <td>841</td>\n",
              "      <td>1.6</td>\n",
              "      <td>841</td>\n",
              "      <td>1.6</td>\n",
              "      <td>float64</td>\n",
              "    </tr>\n",
              "    <tr>\n",
              "      <th>NOX as NO2 (184)</th>\n",
              "      <td>0</td>\n",
              "      <td>645</td>\n",
              "      <td>1.2</td>\n",
              "      <td>645</td>\n",
              "      <td>1.2</td>\n",
              "      <td>float64</td>\n",
              "    </tr>\n",
              "    <tr>\n",
              "      <th>Relative Humidity</th>\n",
              "      <td>0</td>\n",
              "      <td>375</td>\n",
              "      <td>0.7</td>\n",
              "      <td>375</td>\n",
              "      <td>0.7</td>\n",
              "      <td>float64</td>\n",
              "    </tr>\n",
              "    <tr>\n",
              "      <th>Precepitation</th>\n",
              "      <td>47223</td>\n",
              "      <td>186</td>\n",
              "      <td>0.4</td>\n",
              "      <td>47409</td>\n",
              "      <td>90.2</td>\n",
              "      <td>float64</td>\n",
              "    </tr>\n",
              "    <tr>\n",
              "      <th>Air Pressure</th>\n",
              "      <td>0</td>\n",
              "      <td>27</td>\n",
              "      <td>0.1</td>\n",
              "      <td>27</td>\n",
              "      <td>0.1</td>\n",
              "      <td>float64</td>\n",
              "    </tr>\n",
              "    <tr>\n",
              "      <th>Air Temperature</th>\n",
              "      <td>247</td>\n",
              "      <td>23</td>\n",
              "      <td>0.0</td>\n",
              "      <td>270</td>\n",
              "      <td>0.5</td>\n",
              "      <td>float64</td>\n",
              "    </tr>\n",
              "  </tbody>\n",
              "</table>\n",
              "</div>"
            ],
            "text/plain": [
              "                   Zero Values  ...  Data Type\n",
              "PM2.5 (181)                236  ...    float64\n",
              "CO (185)                     0  ...    float64\n",
              "PM10 (182)                  22  ...    float64\n",
              "NO2 (183)                    0  ...    float64\n",
              "NOX as NO2 (184)             0  ...    float64\n",
              "Relative Humidity            0  ...    float64\n",
              "Precepitation            47223  ...    float64\n",
              "Air Pressure                 0  ...    float64\n",
              "Air Temperature            247  ...    float64\n",
              "\n",
              "[9 rows x 6 columns]"
            ]
          },
          "metadata": {
            "tags": []
          },
          "execution_count": 213
        }
      ]
    },
    {
      "cell_type": "code",
      "metadata": {
        "id": "xPfzOJcWH1aa",
        "outputId": "6bb4f3f8-ef9a-4065-ddab-ec68de22363b",
        "colab": {
          "base_uri": "https://localhost:8080/",
          "height": 439
        }
      },
      "source": [
        "df = station_8779\n",
        "df.head()"
      ],
      "execution_count": 214,
      "outputs": [
        {
          "output_type": "execute_result",
          "data": {
            "text/html": [
              "<div>\n",
              "<style scoped>\n",
              "    .dataframe tbody tr th:only-of-type {\n",
              "        vertical-align: middle;\n",
              "    }\n",
              "\n",
              "    .dataframe tbody tr th {\n",
              "        vertical-align: top;\n",
              "    }\n",
              "\n",
              "    .dataframe thead th {\n",
              "        text-align: right;\n",
              "    }\n",
              "</style>\n",
              "<table border=\"1\" class=\"dataframe\">\n",
              "  <thead>\n",
              "    <tr style=\"text-align: right;\">\n",
              "      <th></th>\n",
              "      <th>Slut</th>\n",
              "      <th>CO (185)</th>\n",
              "      <th>NO2 (183)</th>\n",
              "      <th>NOX as NO2 (184)</th>\n",
              "      <th>PM10 (182)</th>\n",
              "      <th>PM2.5 (181)</th>\n",
              "      <th>Air Temperature</th>\n",
              "      <th>Air Pressure</th>\n",
              "      <th>Relative Humidity</th>\n",
              "      <th>Precepitation</th>\n",
              "    </tr>\n",
              "    <tr>\n",
              "      <th>Start</th>\n",
              "      <th></th>\n",
              "      <th></th>\n",
              "      <th></th>\n",
              "      <th></th>\n",
              "      <th></th>\n",
              "      <th></th>\n",
              "      <th></th>\n",
              "      <th></th>\n",
              "      <th></th>\n",
              "      <th></th>\n",
              "    </tr>\n",
              "  </thead>\n",
              "  <tbody>\n",
              "    <tr>\n",
              "      <th>2014-01-01 00:00:00</th>\n",
              "      <td>2014-01-01 01:00</td>\n",
              "      <td>0.41</td>\n",
              "      <td>27.7</td>\n",
              "      <td>58.4</td>\n",
              "      <td>69.8</td>\n",
              "      <td>45.7</td>\n",
              "      <td>2.9</td>\n",
              "      <td>1015.7</td>\n",
              "      <td>92.0</td>\n",
              "      <td>0.0</td>\n",
              "    </tr>\n",
              "    <tr>\n",
              "      <th>2014-01-01 01:00:00</th>\n",
              "      <td>2014-01-01 02:00</td>\n",
              "      <td>0.27</td>\n",
              "      <td>40.4</td>\n",
              "      <td>72.5</td>\n",
              "      <td>23.9</td>\n",
              "      <td>16.3</td>\n",
              "      <td>2.8</td>\n",
              "      <td>1015.9</td>\n",
              "      <td>93.0</td>\n",
              "      <td>0.0</td>\n",
              "    </tr>\n",
              "    <tr>\n",
              "      <th>2014-01-01 02:00:00</th>\n",
              "      <td>2014-01-01 03:00</td>\n",
              "      <td>0.35</td>\n",
              "      <td>28.1</td>\n",
              "      <td>49.8</td>\n",
              "      <td>13.9</td>\n",
              "      <td>6.6</td>\n",
              "      <td>3.2</td>\n",
              "      <td>1015.4</td>\n",
              "      <td>94.0</td>\n",
              "      <td>0.0</td>\n",
              "    </tr>\n",
              "    <tr>\n",
              "      <th>2014-01-01 03:00:00</th>\n",
              "      <td>2014-01-01 04:00</td>\n",
              "      <td>0.24</td>\n",
              "      <td>16.9</td>\n",
              "      <td>28.9</td>\n",
              "      <td>16.8</td>\n",
              "      <td>8.5</td>\n",
              "      <td>3.6</td>\n",
              "      <td>1015.2</td>\n",
              "      <td>93.0</td>\n",
              "      <td>0.0</td>\n",
              "    </tr>\n",
              "    <tr>\n",
              "      <th>2014-01-01 04:00:00</th>\n",
              "      <td>2014-01-01 05:00</td>\n",
              "      <td>0.28</td>\n",
              "      <td>21.1</td>\n",
              "      <td>32.5</td>\n",
              "      <td>16.7</td>\n",
              "      <td>6.6</td>\n",
              "      <td>3.0</td>\n",
              "      <td>1014.8</td>\n",
              "      <td>92.0</td>\n",
              "      <td>0.0</td>\n",
              "    </tr>\n",
              "  </tbody>\n",
              "</table>\n",
              "</div>"
            ],
            "text/plain": [
              "                                 Slut  ...  Precepitation\n",
              "Start                                  ...               \n",
              "2014-01-01 00:00:00  2014-01-01 01:00  ...            0.0\n",
              "2014-01-01 01:00:00  2014-01-01 02:00  ...            0.0\n",
              "2014-01-01 02:00:00  2014-01-01 03:00  ...            0.0\n",
              "2014-01-01 03:00:00  2014-01-01 04:00  ...            0.0\n",
              "2014-01-01 04:00:00  2014-01-01 05:00  ...            0.0\n",
              "\n",
              "[5 rows x 10 columns]"
            ]
          },
          "metadata": {
            "tags": []
          },
          "execution_count": 214
        }
      ]
    },
    {
      "cell_type": "code",
      "metadata": {
        "id": "ZOuk5qK6_1TD",
        "outputId": "2e88a9a9-f5cb-42ae-e496-e09e3b18ead3",
        "colab": {
          "base_uri": "https://localhost:8080/",
          "height": 170
        }
      },
      "source": [
        "print(df.head())"
      ],
      "execution_count": 215,
      "outputs": [
        {
          "output_type": "stream",
          "text": [
            "                                 Slut  ...  Precepitation\n",
            "Start                                  ...               \n",
            "2014-01-01 00:00:00  2014-01-01 01:00  ...            0.0\n",
            "2014-01-01 01:00:00  2014-01-01 02:00  ...            0.0\n",
            "2014-01-01 02:00:00  2014-01-01 03:00  ...            0.0\n",
            "2014-01-01 03:00:00  2014-01-01 04:00  ...            0.0\n",
            "2014-01-01 04:00:00  2014-01-01 05:00  ...            0.0\n",
            "\n",
            "[5 rows x 10 columns]\n"
          ],
          "name": "stdout"
        }
      ]
    },
    {
      "cell_type": "code",
      "metadata": {
        "id": "H-e1OwPmGrwx",
        "outputId": "decf7a06-fe86-4145-e4b3-0e271de058c3",
        "colab": {
          "base_uri": "https://localhost:8080/",
          "height": 34
        }
      },
      "source": [
        "df['PM10 (182)'].values.flatten()"
      ],
      "execution_count": 233,
      "outputs": [
        {
          "output_type": "execute_result",
          "data": {
            "text/plain": [
              "array([69.8, 23.9, 13.9, ..., 26.9, 42.2, 75.6])"
            ]
          },
          "metadata": {
            "tags": []
          },
          "execution_count": 233
        }
      ]
    },
    {
      "cell_type": "code",
      "metadata": {
        "id": "JXZ85RAYIJCB",
        "outputId": "34af04da-d4e4-4e52-9bb4-26c9443afabc",
        "colab": {
          "base_uri": "https://localhost:8080/",
          "height": 215
        }
      },
      "source": [
        ""
      ],
      "execution_count": 238,
      "outputs": [
        {
          "output_type": "error",
          "ename": "ValueError",
          "evalue": "ignored",
          "traceback": [
            "\u001b[0;31m---------------------------------------------------------------------------\u001b[0m",
            "\u001b[0;31mValueError\u001b[0m                                Traceback (most recent call last)",
            "\u001b[0;32m<ipython-input-238-df29071195d4>\u001b[0m in \u001b[0;36m<module>\u001b[0;34m()\u001b[0m\n\u001b[0;32m----> 1\u001b[0;31m \u001b[0msum\u001b[0m\u001b[0;34m(\u001b[0m\u001b[0mint\u001b[0m\u001b[0;34m(\u001b[0m\u001b[0;34m'n'\u001b[0m\u001b[0;34m,\u001b[0m\u001b[0;36m10\u001b[0m\u001b[0;34m)\u001b[0m \u001b[0;34m<\u001b[0m \u001b[0;36m0\u001b[0m \u001b[0;32mfor\u001b[0m \u001b[0mn\u001b[0m \u001b[0;32min\u001b[0m \u001b[0mdf\u001b[0m\u001b[0;34m.\u001b[0m\u001b[0mvalues\u001b[0m\u001b[0;34m.\u001b[0m\u001b[0mflatten\u001b[0m\u001b[0;34m(\u001b[0m\u001b[0;34m)\u001b[0m\u001b[0;34m)\u001b[0m\u001b[0;34m\u001b[0m\u001b[0;34m\u001b[0m\u001b[0m\n\u001b[0m",
            "\u001b[0;32m<ipython-input-238-df29071195d4>\u001b[0m in \u001b[0;36m<genexpr>\u001b[0;34m(.0)\u001b[0m\n\u001b[0;32m----> 1\u001b[0;31m \u001b[0msum\u001b[0m\u001b[0;34m(\u001b[0m\u001b[0mint\u001b[0m\u001b[0;34m(\u001b[0m\u001b[0;34m'n'\u001b[0m\u001b[0;34m,\u001b[0m\u001b[0;36m10\u001b[0m\u001b[0;34m)\u001b[0m \u001b[0;34m<\u001b[0m \u001b[0;36m0\u001b[0m \u001b[0;32mfor\u001b[0m \u001b[0mn\u001b[0m \u001b[0;32min\u001b[0m \u001b[0mdf\u001b[0m\u001b[0;34m.\u001b[0m\u001b[0mvalues\u001b[0m\u001b[0;34m.\u001b[0m\u001b[0mflatten\u001b[0m\u001b[0;34m(\u001b[0m\u001b[0;34m)\u001b[0m\u001b[0;34m)\u001b[0m\u001b[0;34m\u001b[0m\u001b[0;34m\u001b[0m\u001b[0m\n\u001b[0m",
            "\u001b[0;31mValueError\u001b[0m: invalid literal for int() with base 10: 'n'"
          ]
        }
      ]
    },
    {
      "cell_type": "code",
      "metadata": {
        "id": "2f_Av-GXD0iC"
      },
      "source": [
        "# df.columns[df.isnull().any()]\n",
        "# df.columns[df.isnull().any()].tolist() # to get a list instead of an Index object"
      ],
      "execution_count": null,
      "outputs": []
    },
    {
      "cell_type": "code",
      "metadata": {
        "id": "QlYpnHpZFgow"
      },
      "source": [
        "# n_miss_pm10 = df['Air Pressure'].isnull().sum()\n",
        "# perc = n_miss_pm10 / df.shape[0] * 100\n",
        "# print(n_miss_pm10, perc)"
      ],
      "execution_count": null,
      "outputs": []
    },
    {
      "cell_type": "code",
      "metadata": {
        "id": "eT-aWftHI9_u"
      },
      "source": [
        "#df[df['Air Pressure'].isnull()].index.tolist()\n",
        "#df[df['PM10 (182)']<0].index.tolist()\n",
        "# df[df['PM10 (182)']<0].sum()"
      ],
      "execution_count": null,
      "outputs": []
    },
    {
      "cell_type": "code",
      "metadata": {
        "id": "-hZipZHViYBU",
        "outputId": "77e9e613-e063-443d-c578-8491d016e171",
        "colab": {
          "base_uri": "https://localhost:8080/",
          "height": 430
        }
      },
      "source": [
        "missing_zero_values_table(df)"
      ],
      "execution_count": 223,
      "outputs": [
        {
          "output_type": "stream",
          "text": [
            "Your selected dataframe has 10 columns and 52584 Rows.\n",
            "There are 9 columns that have missing values.\n"
          ],
          "name": "stdout"
        },
        {
          "output_type": "execute_result",
          "data": {
            "text/html": [
              "<div>\n",
              "<style scoped>\n",
              "    .dataframe tbody tr th:only-of-type {\n",
              "        vertical-align: middle;\n",
              "    }\n",
              "\n",
              "    .dataframe tbody tr th {\n",
              "        vertical-align: top;\n",
              "    }\n",
              "\n",
              "    .dataframe thead th {\n",
              "        text-align: right;\n",
              "    }\n",
              "</style>\n",
              "<table border=\"1\" class=\"dataframe\">\n",
              "  <thead>\n",
              "    <tr style=\"text-align: right;\">\n",
              "      <th></th>\n",
              "      <th>Zero Values</th>\n",
              "      <th>Missing Values</th>\n",
              "      <th>% of Total Values</th>\n",
              "      <th>Total Zero Missing Values</th>\n",
              "      <th>% Total Zero Missing Values</th>\n",
              "      <th>Data Type</th>\n",
              "    </tr>\n",
              "  </thead>\n",
              "  <tbody>\n",
              "    <tr>\n",
              "      <th>PM2.5 (181)</th>\n",
              "      <td>236</td>\n",
              "      <td>6732</td>\n",
              "      <td>12.8</td>\n",
              "      <td>6968</td>\n",
              "      <td>13.3</td>\n",
              "      <td>float64</td>\n",
              "    </tr>\n",
              "    <tr>\n",
              "      <th>CO (185)</th>\n",
              "      <td>0</td>\n",
              "      <td>3552</td>\n",
              "      <td>6.8</td>\n",
              "      <td>3552</td>\n",
              "      <td>6.8</td>\n",
              "      <td>float64</td>\n",
              "    </tr>\n",
              "    <tr>\n",
              "      <th>PM10 (182)</th>\n",
              "      <td>22</td>\n",
              "      <td>2156</td>\n",
              "      <td>4.1</td>\n",
              "      <td>2178</td>\n",
              "      <td>4.1</td>\n",
              "      <td>float64</td>\n",
              "    </tr>\n",
              "    <tr>\n",
              "      <th>NO2 (183)</th>\n",
              "      <td>0</td>\n",
              "      <td>841</td>\n",
              "      <td>1.6</td>\n",
              "      <td>841</td>\n",
              "      <td>1.6</td>\n",
              "      <td>float64</td>\n",
              "    </tr>\n",
              "    <tr>\n",
              "      <th>NOX as NO2 (184)</th>\n",
              "      <td>0</td>\n",
              "      <td>645</td>\n",
              "      <td>1.2</td>\n",
              "      <td>645</td>\n",
              "      <td>1.2</td>\n",
              "      <td>float64</td>\n",
              "    </tr>\n",
              "    <tr>\n",
              "      <th>Relative Humidity</th>\n",
              "      <td>0</td>\n",
              "      <td>375</td>\n",
              "      <td>0.7</td>\n",
              "      <td>375</td>\n",
              "      <td>0.7</td>\n",
              "      <td>float64</td>\n",
              "    </tr>\n",
              "    <tr>\n",
              "      <th>Precepitation</th>\n",
              "      <td>47223</td>\n",
              "      <td>186</td>\n",
              "      <td>0.4</td>\n",
              "      <td>47409</td>\n",
              "      <td>90.2</td>\n",
              "      <td>float64</td>\n",
              "    </tr>\n",
              "    <tr>\n",
              "      <th>Air Pressure</th>\n",
              "      <td>0</td>\n",
              "      <td>27</td>\n",
              "      <td>0.1</td>\n",
              "      <td>27</td>\n",
              "      <td>0.1</td>\n",
              "      <td>float64</td>\n",
              "    </tr>\n",
              "    <tr>\n",
              "      <th>Air Temperature</th>\n",
              "      <td>247</td>\n",
              "      <td>23</td>\n",
              "      <td>0.0</td>\n",
              "      <td>270</td>\n",
              "      <td>0.5</td>\n",
              "      <td>float64</td>\n",
              "    </tr>\n",
              "  </tbody>\n",
              "</table>\n",
              "</div>"
            ],
            "text/plain": [
              "                   Zero Values  ...  Data Type\n",
              "PM2.5 (181)                236  ...    float64\n",
              "CO (185)                     0  ...    float64\n",
              "PM10 (182)                  22  ...    float64\n",
              "NO2 (183)                    0  ...    float64\n",
              "NOX as NO2 (184)             0  ...    float64\n",
              "Relative Humidity            0  ...    float64\n",
              "Precepitation            47223  ...    float64\n",
              "Air Pressure                 0  ...    float64\n",
              "Air Temperature            247  ...    float64\n",
              "\n",
              "[9 rows x 6 columns]"
            ]
          },
          "metadata": {
            "tags": []
          },
          "execution_count": 223
        }
      ]
    },
    {
      "cell_type": "code",
      "metadata": {
        "id": "QIyE1EozEjSV",
        "outputId": "ccba91aa-b4ce-4da5-8912-676c4a8040d2",
        "colab": {
          "base_uri": "https://localhost:8080/",
          "height": 439
        }
      },
      "source": [
        "df.head()"
      ],
      "execution_count": 224,
      "outputs": [
        {
          "output_type": "execute_result",
          "data": {
            "text/html": [
              "<div>\n",
              "<style scoped>\n",
              "    .dataframe tbody tr th:only-of-type {\n",
              "        vertical-align: middle;\n",
              "    }\n",
              "\n",
              "    .dataframe tbody tr th {\n",
              "        vertical-align: top;\n",
              "    }\n",
              "\n",
              "    .dataframe thead th {\n",
              "        text-align: right;\n",
              "    }\n",
              "</style>\n",
              "<table border=\"1\" class=\"dataframe\">\n",
              "  <thead>\n",
              "    <tr style=\"text-align: right;\">\n",
              "      <th></th>\n",
              "      <th>Slut</th>\n",
              "      <th>CO (185)</th>\n",
              "      <th>NO2 (183)</th>\n",
              "      <th>NOX as NO2 (184)</th>\n",
              "      <th>PM10 (182)</th>\n",
              "      <th>PM2.5 (181)</th>\n",
              "      <th>Air Temperature</th>\n",
              "      <th>Air Pressure</th>\n",
              "      <th>Relative Humidity</th>\n",
              "      <th>Precepitation</th>\n",
              "    </tr>\n",
              "    <tr>\n",
              "      <th>Start</th>\n",
              "      <th></th>\n",
              "      <th></th>\n",
              "      <th></th>\n",
              "      <th></th>\n",
              "      <th></th>\n",
              "      <th></th>\n",
              "      <th></th>\n",
              "      <th></th>\n",
              "      <th></th>\n",
              "      <th></th>\n",
              "    </tr>\n",
              "  </thead>\n",
              "  <tbody>\n",
              "    <tr>\n",
              "      <th>2014-01-01 00:00:00</th>\n",
              "      <td>2014-01-01 01:00</td>\n",
              "      <td>0.41</td>\n",
              "      <td>27.7</td>\n",
              "      <td>58.4</td>\n",
              "      <td>69.8</td>\n",
              "      <td>45.7</td>\n",
              "      <td>2.9</td>\n",
              "      <td>1015.7</td>\n",
              "      <td>92.0</td>\n",
              "      <td>0.0</td>\n",
              "    </tr>\n",
              "    <tr>\n",
              "      <th>2014-01-01 01:00:00</th>\n",
              "      <td>2014-01-01 02:00</td>\n",
              "      <td>0.27</td>\n",
              "      <td>40.4</td>\n",
              "      <td>72.5</td>\n",
              "      <td>23.9</td>\n",
              "      <td>16.3</td>\n",
              "      <td>2.8</td>\n",
              "      <td>1015.9</td>\n",
              "      <td>93.0</td>\n",
              "      <td>0.0</td>\n",
              "    </tr>\n",
              "    <tr>\n",
              "      <th>2014-01-01 02:00:00</th>\n",
              "      <td>2014-01-01 03:00</td>\n",
              "      <td>0.35</td>\n",
              "      <td>28.1</td>\n",
              "      <td>49.8</td>\n",
              "      <td>13.9</td>\n",
              "      <td>6.6</td>\n",
              "      <td>3.2</td>\n",
              "      <td>1015.4</td>\n",
              "      <td>94.0</td>\n",
              "      <td>0.0</td>\n",
              "    </tr>\n",
              "    <tr>\n",
              "      <th>2014-01-01 03:00:00</th>\n",
              "      <td>2014-01-01 04:00</td>\n",
              "      <td>0.24</td>\n",
              "      <td>16.9</td>\n",
              "      <td>28.9</td>\n",
              "      <td>16.8</td>\n",
              "      <td>8.5</td>\n",
              "      <td>3.6</td>\n",
              "      <td>1015.2</td>\n",
              "      <td>93.0</td>\n",
              "      <td>0.0</td>\n",
              "    </tr>\n",
              "    <tr>\n",
              "      <th>2014-01-01 04:00:00</th>\n",
              "      <td>2014-01-01 05:00</td>\n",
              "      <td>0.28</td>\n",
              "      <td>21.1</td>\n",
              "      <td>32.5</td>\n",
              "      <td>16.7</td>\n",
              "      <td>6.6</td>\n",
              "      <td>3.0</td>\n",
              "      <td>1014.8</td>\n",
              "      <td>92.0</td>\n",
              "      <td>0.0</td>\n",
              "    </tr>\n",
              "  </tbody>\n",
              "</table>\n",
              "</div>"
            ],
            "text/plain": [
              "                                 Slut  ...  Precepitation\n",
              "Start                                  ...               \n",
              "2014-01-01 00:00:00  2014-01-01 01:00  ...            0.0\n",
              "2014-01-01 01:00:00  2014-01-01 02:00  ...            0.0\n",
              "2014-01-01 02:00:00  2014-01-01 03:00  ...            0.0\n",
              "2014-01-01 03:00:00  2014-01-01 04:00  ...            0.0\n",
              "2014-01-01 04:00:00  2014-01-01 05:00  ...            0.0\n",
              "\n",
              "[5 rows x 10 columns]"
            ]
          },
          "metadata": {
            "tags": []
          },
          "execution_count": 224
        }
      ]
    },
    {
      "cell_type": "code",
      "metadata": {
        "id": "Xva5HZbWjnBg"
      },
      "source": [
        "df_linear = df.interpolate(method='linear', limit_direction='forward', axis=0)\n"
      ],
      "execution_count": null,
      "outputs": []
    },
    {
      "cell_type": "code",
      "metadata": {
        "id": "fPpLkzsBjrqn"
      },
      "source": [
        "df_linear.head()"
      ],
      "execution_count": null,
      "outputs": []
    },
    {
      "cell_type": "code",
      "metadata": {
        "id": "M7sp4BXvjv42"
      },
      "source": [
        "missing_zero_values_table(df_linear)"
      ],
      "execution_count": null,
      "outputs": []
    },
    {
      "cell_type": "code",
      "metadata": {
        "id": "wy36d5bXj-Dh"
      },
      "source": [
        "mno.matrix(df_linear, figsize = (20,10))"
      ],
      "execution_count": null,
      "outputs": []
    },
    {
      "cell_type": "code",
      "metadata": {
        "id": "X4Asp22pKWcf"
      },
      "source": [
        "df_linear['PM2.5 (181)'].plot(style=['k--', 'bo-', 'r*'], figsize=(30, 10));"
      ],
      "execution_count": null,
      "outputs": []
    },
    {
      "cell_type": "code",
      "metadata": {
        "id": "mHDZAD_LkygJ"
      },
      "source": [
        "# from google.colab import drive\n",
        "# drive.mount('/drive')\n",
        "#df_linear.to_csv('/drive/My Drive/Bunu/linear1.csv')"
      ],
      "execution_count": null,
      "outputs": []
    },
    {
      "cell_type": "code",
      "metadata": {
        "id": "vABXItMRq8l5"
      },
      "source": [
        "df_slinear = df.interpolate(method='slinear',  axis=0)\n"
      ],
      "execution_count": null,
      "outputs": []
    },
    {
      "cell_type": "code",
      "metadata": {
        "id": "zcBNuxpxrUCM"
      },
      "source": [
        "missing_zero_values_table(df_slinear)\n"
      ],
      "execution_count": null,
      "outputs": []
    },
    {
      "cell_type": "code",
      "metadata": {
        "id": "R4-_4baEwXOH"
      },
      "source": [
        "df['PM2.5 (181)'].plot(style=['k--', 'bo-', 'r*'], figsize=(30, 10));"
      ],
      "execution_count": null,
      "outputs": []
    },
    {
      "cell_type": "code",
      "metadata": {
        "id": "9P6AWY0fukAl"
      },
      "source": [
        "df_slinear['PM2.5 (181)'].plot(style=['k--', 'bo-', 'r*'], figsize=(30, 10));"
      ],
      "execution_count": null,
      "outputs": []
    },
    {
      "cell_type": "code",
      "metadata": {
        "id": "nOO_ANlrvvCm"
      },
      "source": [
        "df_slinear.plot(subplots=True, figsize=(20,16));"
      ],
      "execution_count": null,
      "outputs": []
    },
    {
      "cell_type": "code",
      "metadata": {
        "id": "Q1nl7eqYrcJn"
      },
      "source": [
        "#df_slinear.to_csv('/drive/My Drive/Bunu/slinear.csv')"
      ],
      "execution_count": null,
      "outputs": []
    },
    {
      "cell_type": "code",
      "metadata": {
        "id": "q4FNof6zJMxA"
      },
      "source": [
        "df_quadratic = df.interpolate(method='quadratic', limit_direction='forward', axis=0)\n"
      ],
      "execution_count": null,
      "outputs": []
    },
    {
      "cell_type": "code",
      "metadata": {
        "id": "wXPzf6j_J18U"
      },
      "source": [
        "missing_zero_values_table(df_quadratic)"
      ],
      "execution_count": null,
      "outputs": []
    },
    {
      "cell_type": "code",
      "metadata": {
        "id": "eWWT4wgcJ7Cx"
      },
      "source": [
        "df_quadratic['PM2.5 (181)'].plot(style=['k--', 'bo-', 'r*'], figsize=(30, 10));"
      ],
      "execution_count": null,
      "outputs": []
    },
    {
      "cell_type": "code",
      "metadata": {
        "id": "N9SOe00XKn5m"
      },
      "source": [
        "\n",
        "df_nearest = df.interpolate(method='nearest', limit_direction='forward', axis=0)\n"
      ],
      "execution_count": null,
      "outputs": []
    },
    {
      "cell_type": "code",
      "metadata": {
        "id": "5ijkJ7XgKxcb"
      },
      "source": [
        "missing_zero_values_table(df_nearest)"
      ],
      "execution_count": null,
      "outputs": []
    },
    {
      "cell_type": "code",
      "metadata": {
        "id": "omwJojzqK8ow"
      },
      "source": [
        "df_nearest['PM2.5 (181)'].plot(style=['k--', 'bo-', 'r*'], figsize=(30, 10));"
      ],
      "execution_count": null,
      "outputs": []
    },
    {
      "cell_type": "code",
      "metadata": {
        "id": "T-RbFbSHLTJ2"
      },
      "source": [
        "\n",
        "df_time = df.interpolate(method='time', limit_direction='forward', axis=0)\n"
      ],
      "execution_count": null,
      "outputs": []
    },
    {
      "cell_type": "code",
      "metadata": {
        "id": "RRiDR7zzLiev"
      },
      "source": [
        "missing_zero_values_table(df_time)"
      ],
      "execution_count": null,
      "outputs": []
    },
    {
      "cell_type": "code",
      "metadata": {
        "id": "2Fv4l2smL1QF"
      },
      "source": [
        "df_time['PM2.5 (181)'].plot(style=['k--', 'bo-', 'r*'], figsize=(30, 10));"
      ],
      "execution_count": null,
      "outputs": []
    },
    {
      "cell_type": "code",
      "metadata": {
        "id": "4_jzYkdqMCjo"
      },
      "source": [
        "mno.matrix(df_time, figsize = (20,10))"
      ],
      "execution_count": null,
      "outputs": []
    },
    {
      "cell_type": "code",
      "metadata": {
        "id": "fgNz_cVLpYV-"
      },
      "source": [
        "df_PM10 = df['PM10 (182)']\n",
        "df_PM10.head()"
      ],
      "execution_count": null,
      "outputs": []
    },
    {
      "cell_type": "code",
      "metadata": {
        "id": "WTwgks6kpq-8"
      },
      "source": [
        "#Resampling PM10 weekly\n",
        "weekly = df_PM10.resample('W').sum()\n",
        "weekly.plot (style=[':','--','-'])"
      ],
      "execution_count": null,
      "outputs": []
    },
    {
      "cell_type": "code",
      "metadata": {
        "id": "6yPnnJTKmgR7"
      },
      "source": [
        "#Resampling\n",
        "weekly = df.resample('W').sum()\n",
        "weekly.plot (style=[':','--','-'])"
      ],
      "execution_count": null,
      "outputs": []
    },
    {
      "cell_type": "code",
      "metadata": {
        "id": "I5S_CCd2nw7_"
      },
      "source": [
        "#Daily\n",
        "daily = df.resample('D').sum()\n",
        "daily.rolling (30, center=True).sum().plot(style=[':','--','-'])"
      ],
      "execution_count": null,
      "outputs": []
    },
    {
      "cell_type": "code",
      "metadata": {
        "id": "5-FwfvXFp8yl"
      },
      "source": [
        "#Daily resampling PM10\n",
        "daily = df_PM10.resample('D').sum()\n",
        "daily.rolling (30, center=True).sum().plot(style=[':','--','-'])"
      ],
      "execution_count": null,
      "outputs": []
    },
    {
      "cell_type": "code",
      "metadata": {
        "id": "_G5vUHLJoiaC"
      },
      "source": [
        "#hourly\n",
        "by_time = df.groupby(df.index.time).mean()\n",
        "hourly_ticks = 4*60*60*np.arange(6)\n",
        "by_time.plot(xticks=hourly_ticks, style=[':','--','-'])"
      ],
      "execution_count": null,
      "outputs": []
    },
    {
      "cell_type": "code",
      "metadata": {
        "id": "mEOZkaNKqHQQ"
      },
      "source": [
        "#hourly resampling PM10\n",
        "#hourly\n",
        "by_time = df_PM10.groupby(df_PM10.index.time).mean()\n",
        "hourly_ticks = 4*60*60*np.arange(6)\n",
        "by_time.plot(xticks=hourly_ticks, style=[':','--','-'])"
      ],
      "execution_count": null,
      "outputs": []
    },
    {
      "cell_type": "markdown",
      "metadata": {
        "id": "u_2ErzqurXdh"
      },
      "source": [
        "Modelling with prophet\n",
        "Prophet is designed for analyzing time series with daily observations that display patterns on different time scales. Prophet is robust to missing data and shifts in the trend, and typically handles outliers well."
      ]
    },
    {
      "cell_type": "markdown",
      "metadata": {
        "id": "tgqJwa6rwftr"
      },
      "source": [
        "Before using Prophet, we rename the columns in our data to the correct format. The Date column must be called ‘ds’ and the value column we want to predict ‘y’"
      ]
    },
    {
      "cell_type": "code",
      "metadata": {
        "id": "2okiQS4V0ECs"
      },
      "source": [
        "#LSTM(Long Short Term Memory) prediction\n",
        "mydata = df.loc[:,['PM10 (182)']]\n",
        "# mydata = mydata.set_index(df)\n",
        "mydata.head()"
      ],
      "execution_count": null,
      "outputs": []
    },
    {
      "cell_type": "code",
      "metadata": {
        "id": "NZfrNVeA29ZR"
      },
      "source": [
        "#normalizing-rescale the data o the range of [0,1]or[-1,1]\n",
        "from sklearn.preprocessing import MinMaxScaler\n",
        "values = mydata['PM10 (182)'].values.reshape(-1,1)\n",
        "values = values.astype('float32')\n",
        "scaler = MinMaxScaler(feature_range=(0,1))\n",
        "scaled = scaler.fit_transform(values)"
      ],
      "execution_count": null,
      "outputs": []
    },
    {
      "cell_type": "code",
      "metadata": {
        "id": "OQ0mwv643q8D"
      },
      "source": [
        "#splitting the dataset\n",
        "train_size = int (len(scaled) * 0.8)\n",
        "test_size = len (scaled) - train_size\n",
        "train, test = scaled[0:train_size,:], scaled[train_size:len(scaled),:]\n",
        "print (len(train), len(test))"
      ],
      "execution_count": null,
      "outputs": []
    },
    {
      "cell_type": "markdown",
      "metadata": {
        "id": "L57mcx8K4joe"
      },
      "source": [
        "defining a function to create a new dataset and use this function to prepare the train and test datasets for modeling."
      ]
    },
    {
      "cell_type": "code",
      "metadata": {
        "id": "UWgr5pvb4eR0"
      },
      "source": [
        "def create_dataset (dataset, look_back=1):\n",
        "  dataX, dataY =[], []\n",
        "  for i in range(len(dataset)-look_back):\n",
        "    a = dataset[i:(i+ look_back),0]\n",
        "    dataX.append(a)\n",
        "    dataY.append(dataset[i+ look_back,0])\n",
        "  print(len(dataY))\n",
        "  return np.array(dataX), np.array(dataY)"
      ],
      "execution_count": null,
      "outputs": []
    },
    {
      "cell_type": "code",
      "metadata": {
        "id": "i5XzlCnv5mYn"
      },
      "source": [
        "look_back = 2\n",
        "trainX, trainY = create_dataset(train, look_back)\n",
        "testX, testY = create_dataset(test, look_back)"
      ],
      "execution_count": null,
      "outputs": []
    },
    {
      "cell_type": "markdown",
      "metadata": {
        "id": "MUN8vm9J6FA2"
      },
      "source": [
        "Our data is currently in the form [samples, features] and we are framing the problem as two time steps for each sample. We can transform the prepared train and test input data into the expected structure"
      ]
    },
    {
      "cell_type": "code",
      "metadata": {
        "id": "YHRvCavW6Gou"
      },
      "source": [
        "trainX = np.reshape(trainX, (trainX.shape[0],1, trainX.shape[1]))\n",
        "testX = np.reshape(testX, (testX.shape[0],1, testX.shape[1]))"
      ],
      "execution_count": null,
      "outputs": []
    },
    {
      "cell_type": "code",
      "metadata": {
        "id": "nULik0Bm1V3y"
      },
      "source": [
        "# from keras.models import Sequential\n",
        "# from keras.layers import Dense\n",
        "# from keras.layers import LSTM\n",
        "# model = Sequential()\n",
        "# model.add(LSTM(100, input_shape=(trainX.shape[1], trainX.shape[2])))\n",
        "# model.add(Dense(1))\n",
        "# model.compile(loss='mae', optimizer ='adam')\n",
        "# history = model.fit(trainX, trainY, epochs=300, batch_size=100, vaidation_data=(testX, testY), verbose= 0, shuffle = False)"
      ],
      "execution_count": null,
      "outputs": []
    }
  ]
}