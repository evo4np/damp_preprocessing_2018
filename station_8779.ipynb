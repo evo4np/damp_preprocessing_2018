{
  "nbformat": 4,
  "nbformat_minor": 0,
  "metadata": {
    "colab": {
      "name": "station_8779.ipynb",
      "provenance": [],
      "collapsed_sections": [
        "iuhqronQ0XIn",
        "zu_apWKk3kdQ",
        "j5e-NKZ78YI4",
        "mNo7JycHD9uQ",
        "yGstQJmlkmY8",
        "rpvhEPekHiXg",
        "OY7Mf3IXRzEH",
        "onYmWkgEUh-P",
        "N_9M967mV9vz",
        "t5lGOpVwZUbw",
        "pxfIj_6kESaV"
      ],
      "toc_visible": true,
      "authorship_tag": "ABX9TyPcHjLfi/dd+ZMX/b4tDWuM",
      "include_colab_link": true
    },
    "kernelspec": {
      "name": "python3",
      "display_name": "Python 3"
    }
  },
  "cells": [
    {
      "cell_type": "markdown",
      "metadata": {
        "id": "view-in-github",
        "colab_type": "text"
      },
      "source": [
        "<a href=\"https://colab.research.google.com/github/evo4np/damp_preprocessing_2018/blob/master/station_8779.ipynb\" target=\"_parent\"><img src=\"https://colab.research.google.com/assets/colab-badge.svg\" alt=\"Open In Colab\"/></a>"
      ]
    },
    {
      "cell_type": "code",
      "metadata": {
        "id": "Hlq1_oFqEFjs"
      },
      "source": [
        "import os\n",
        "import datetime\n",
        "import IPython\n",
        "import IPython.display\n",
        "import requests\n",
        "import pandas as pd\n",
        "import numpy as np\n",
        "import seaborn as sns\n",
        "import tensorflow as tf\n",
        "import matplotlib\n",
        "import matplotlib.pyplot as plt\n",
        "import matplotlib as mpl\n",
        "import matplotlib.mlab as mlab\n",
        "\n",
        "plt.style.use('ggplot')\n",
        "from matplotlib.pyplot import figure\n",
        "\n",
        "%matplotlib inline\n",
        "matplotlib.rcParams['figure.figsize'] = (12,8)\n",
        "\n",
        "pd.options.mode.chained_assignment = None\n",
        "mpl.rcParams['figure.figsize'] = (8, 6)\n",
        "mpl.rcParams['axes.grid'] = False\n"
      ],
      "execution_count": 2,
      "outputs": []
    },
    {
      "cell_type": "markdown",
      "metadata": {
        "id": "iuhqronQ0XIn"
      },
      "source": [
        "# sampling data\n"
      ]
    },
    {
      "cell_type": "markdown",
      "metadata": {
        "id": "dbyCJ7AB0EIr"
      },
      "source": [
        ""
      ]
    },
    {
      "cell_type": "code",
      "metadata": {
        "id": "fHKsuqh-GFOv"
      },
      "source": [
        "#from google.colab import files\n",
        "#uploaded = files.upload()"
      ],
      "execution_count": null,
      "outputs": []
    },
    {
      "cell_type": "code",
      "metadata": {
        "id": "usRzeAS4RoVK"
      },
      "source": [
        "# station_8779 = 'https://raw.githubusercontent.com/evo4np/damp_preprocessing_2018/master/station_8779/59_gata_8779.csv'"
      ],
      "execution_count": null,
      "outputs": []
    },
    {
      "cell_type": "code",
      "metadata": {
        "id": "NOw3aJDwR36J"
      },
      "source": [
        "# station_8779 = pd.read_csv(station_8779 ,sep=';', skiprows=13, parse_dates=['Start'], index_col= 'Start')"
      ],
      "execution_count": null,
      "outputs": []
    },
    {
      "cell_type": "markdown",
      "metadata": {
        "id": "zu_apWKk3kdQ"
      },
      "source": [
        "# New Section"
      ]
    },
    {
      "cell_type": "code",
      "metadata": {
        "id": "fjvHEPFBPTln"
      },
      "source": [
        "# station_8779.shape"
      ],
      "execution_count": null,
      "outputs": []
    },
    {
      "cell_type": "code",
      "metadata": {
        "id": "P43ZK6OhPidD"
      },
      "source": [
        "# station_8779.head()"
      ],
      "execution_count": null,
      "outputs": []
    },
    {
      "cell_type": "code",
      "metadata": {
        "id": "KRWpQywdPuPT"
      },
      "source": [
        "# #Column/Feature Names\n",
        "# station_8779.columns"
      ],
      "execution_count": null,
      "outputs": []
    },
    {
      "cell_type": "code",
      "metadata": {
        "id": "bTzEhr1wQDSI"
      },
      "source": [
        "# #Missing /Null values\n",
        "# station_8779.isnull().sum()"
      ],
      "execution_count": null,
      "outputs": []
    },
    {
      "cell_type": "code",
      "metadata": {
        "id": "zbWEGpL7P_7t"
      },
      "source": [
        "# #summary of each column in the dataframe\n",
        "# station_8779.describe()"
      ],
      "execution_count": null,
      "outputs": []
    },
    {
      "cell_type": "code",
      "metadata": {
        "id": "D4sJmyE-tYSR"
      },
      "source": [
        "\n"
      ],
      "execution_count": null,
      "outputs": []
    },
    {
      "cell_type": "code",
      "metadata": {
        "id": "XfYxOOqgtboA"
      },
      "source": [
        "# missing_zero_values_table(station_8779)"
      ],
      "execution_count": null,
      "outputs": []
    },
    {
      "cell_type": "markdown",
      "metadata": {
        "id": "kcBuR3pYGyjd"
      },
      "source": [
        "**Merging Meteorological data**"
      ]
    },
    {
      "cell_type": "markdown",
      "metadata": {
        "id": "j5e-NKZ78YI4"
      },
      "source": [
        "# Defining Functions"
      ]
    },
    {
      "cell_type": "code",
      "metadata": {
        "id": "zkio7c8f8dBk"
      },
      "source": [
        "def missing_zero_values_table(df):\n",
        "        zero_val = (df == 0.00).astype(int).sum(axis=0)\n",
        "        mis_val = df.isnull().sum()\n",
        "        mis_val_percent = 100 * df.isnull().sum() / len(df)\n",
        "        mz_table = pd.concat([zero_val, mis_val, mis_val_percent], axis=1)\n",
        "        mz_table = mz_table.rename(\n",
        "        columns = {0 : 'Zero Values', 1 : 'Missing Values', 2 : '% of Total Values'})\n",
        "        mz_table['Total Zero Missing Values'] = mz_table['Zero Values'] + mz_table['Missing Values']\n",
        "        mz_table['% Total Zero Missing Values'] = 100 * mz_table['Total Zero Missing Values'] / len(df)\n",
        "        mz_table['Data Type'] = df.dtypes\n",
        "        mz_table = mz_table[\n",
        "            mz_table.iloc[:,1] != 0].sort_values(\n",
        "        '% of Total Values', ascending=False).round(1)\n",
        "        print (\"Your selected dataframe has \" + str(df.shape[1]) + \" columns and \" + str(df.shape[0]) + \" Rows.\\n\"      \n",
        "            \"There are \" + str(mz_table.shape[0]) +\n",
        "              \" columns that have missing values.\")\n",
        "        return mz_table\n",
        "\n"
      ],
      "execution_count": null,
      "outputs": []
    },
    {
      "cell_type": "markdown",
      "metadata": {
        "id": "mNo7JycHD9uQ"
      },
      "source": [
        "#Adding Meteorological Data\n",
        "\n"
      ]
    },
    {
      "cell_type": "markdown",
      "metadata": {
        "id": "S_CrIZWfGlkJ"
      },
      "source": [
        "**Adding Temperature Data**"
      ]
    },
    {
      "cell_type": "code",
      "metadata": {
        "id": "Bq9Oxz3LG7Yu"
      },
      "source": [
        "# #uploaded = files.upload()\n",
        "# temp_data = 'https://raw.githubusercontent.com/evo4np/damp_preprocessing_2018/master/mete/StockholmA/stockholmA-temp.csv'"
      ],
      "execution_count": null,
      "outputs": []
    },
    {
      "cell_type": "code",
      "metadata": {
        "id": "pSqABaWFHg7Q"
      },
      "source": [
        "# temp_data = pd.read_csv(temp_data, sep=';', skiprows=9)\n",
        "# temp_data.head()"
      ],
      "execution_count": null,
      "outputs": []
    },
    {
      "cell_type": "code",
      "metadata": {
        "id": "0_O97Ip1IBTP"
      },
      "source": [
        "# temp_data.columns"
      ],
      "execution_count": null,
      "outputs": []
    },
    {
      "cell_type": "code",
      "metadata": {
        "id": "yKDvJknVH69J"
      },
      "source": [
        "# cols_name = ['Datum', 'Tid (UTC)', 'Lufttemperatur']\n",
        "# temp_data = temp_data[cols_name]"
      ],
      "execution_count": null,
      "outputs": []
    },
    {
      "cell_type": "code",
      "metadata": {
        "id": "NbG2a3h2IXzu"
      },
      "source": [
        "# temp_data.head()"
      ],
      "execution_count": null,
      "outputs": []
    },
    {
      "cell_type": "code",
      "metadata": {
        "id": "AWSD6qynIyWS"
      },
      "source": [
        "# temp_data['Date'] = temp_data['Datum']+' '+ temp_data['Tid (UTC)']\n",
        "# temp_data.head()"
      ],
      "execution_count": null,
      "outputs": []
    },
    {
      "cell_type": "code",
      "metadata": {
        "id": "PDU7BWLbJhi0"
      },
      "source": [
        "# cols = ['Date', 'Lufttemperatur']\n",
        "# temp = temp_data[cols]\n",
        "# temp = temp.rename({'Date':'Datum', 'Luftemperatur':'Air Temperature'},axis=1)"
      ],
      "execution_count": null,
      "outputs": []
    },
    {
      "cell_type": "code",
      "metadata": {
        "id": "s3M-x9nFK2KW"
      },
      "source": [
        "# temp = temp.set_index('Datum')"
      ],
      "execution_count": null,
      "outputs": []
    },
    {
      "cell_type": "code",
      "metadata": {
        "id": "bwpR9_M6K_Ep"
      },
      "source": [
        "# station_8779 = station_8779.join(temp)"
      ],
      "execution_count": null,
      "outputs": []
    },
    {
      "cell_type": "code",
      "metadata": {
        "id": "QzFs208ALFzs"
      },
      "source": [
        "# station_8779.info()"
      ],
      "execution_count": null,
      "outputs": []
    },
    {
      "cell_type": "code",
      "metadata": {
        "id": "fQQnGmFiL87Z"
      },
      "source": [
        "# station_8779.head()"
      ],
      "execution_count": null,
      "outputs": []
    },
    {
      "cell_type": "code",
      "metadata": {
        "id": "NV7dlCw4N9oH"
      },
      "source": [
        "# station_8779 = station_8779.rename({'Lufttemperatur': 'Air Temperature'}, axis=1)"
      ],
      "execution_count": null,
      "outputs": []
    },
    {
      "cell_type": "code",
      "metadata": {
        "id": "KDSoTPTuOMrU"
      },
      "source": [
        "# station_8779.head()"
      ],
      "execution_count": null,
      "outputs": []
    },
    {
      "cell_type": "code",
      "metadata": {
        "id": "79uFccwml8WS"
      },
      "source": [
        "# pres_data = 'https://raw.githubusercontent.com/evo4np/damp_preprocessing_2018/master/mete/StockholmA/StockholmA_air_pressure.csv'\n",
        "# rh_data = 'https://raw.githubusercontent.com/evo4np/damp_preprocessing_2018/master/mete/StockholmA/StockholmA_humidity.csv'\n",
        "# #prec_data = 'https://raw.githubusercontent.com/evo4np/damp_preprocessing_2018/master/mete/StockholmA/StockholmA_precipitation.csv'"
      ],
      "execution_count": null,
      "outputs": []
    },
    {
      "cell_type": "code",
      "metadata": {
        "id": "24UNLrAmPVj7"
      },
      "source": [
        "# pres_data = pd.read_csv(pres_data, sep=';', skiprows=9)\n",
        "# rh_data = pd.read_csv(rh_data, sep = ';', skiprows=9)\n",
        "# #prec_data = pd.read_csv(prec_data, sep=';', skiprows=9)"
      ],
      "execution_count": null,
      "outputs": []
    },
    {
      "cell_type": "code",
      "metadata": {
        "id": "pLIilUyVQZuN",
        "outputId": "19f470ef-3f42-4ae9-eabd-11f9b89e61dd",
        "colab": {
          "base_uri": "https://localhost:8080/",
          "height": 204
        }
      },
      "source": [
        "# pres_data.head()"
      ],
      "execution_count": null,
      "outputs": [
        {
          "output_type": "execute_result",
          "data": {
            "text/html": [
              "<div>\n",
              "<style scoped>\n",
              "    .dataframe tbody tr th:only-of-type {\n",
              "        vertical-align: middle;\n",
              "    }\n",
              "\n",
              "    .dataframe tbody tr th {\n",
              "        vertical-align: top;\n",
              "    }\n",
              "\n",
              "    .dataframe thead th {\n",
              "        text-align: right;\n",
              "    }\n",
              "</style>\n",
              "<table border=\"1\" class=\"dataframe\">\n",
              "  <thead>\n",
              "    <tr style=\"text-align: right;\">\n",
              "      <th></th>\n",
              "      <th>Datum</th>\n",
              "      <th>Tid (UTC)</th>\n",
              "      <th>Lufttryck reducerat havsytans nivå</th>\n",
              "      <th>Date</th>\n",
              "    </tr>\n",
              "  </thead>\n",
              "  <tbody>\n",
              "    <tr>\n",
              "      <th>0</th>\n",
              "      <td>2012-11-29</td>\n",
              "      <td>11:00:00</td>\n",
              "      <td>1006.6</td>\n",
              "      <td>2012-11-29 11:00:00</td>\n",
              "    </tr>\n",
              "    <tr>\n",
              "      <th>1</th>\n",
              "      <td>2012-11-29</td>\n",
              "      <td>12:00:00</td>\n",
              "      <td>1006.2</td>\n",
              "      <td>2012-11-29 12:00:00</td>\n",
              "    </tr>\n",
              "    <tr>\n",
              "      <th>2</th>\n",
              "      <td>2012-11-29</td>\n",
              "      <td>13:00:00</td>\n",
              "      <td>1005.9</td>\n",
              "      <td>2012-11-29 13:00:00</td>\n",
              "    </tr>\n",
              "    <tr>\n",
              "      <th>3</th>\n",
              "      <td>2012-11-29</td>\n",
              "      <td>14:00:00</td>\n",
              "      <td>1005.7</td>\n",
              "      <td>2012-11-29 14:00:00</td>\n",
              "    </tr>\n",
              "    <tr>\n",
              "      <th>4</th>\n",
              "      <td>2012-11-29</td>\n",
              "      <td>15:00:00</td>\n",
              "      <td>1005.6</td>\n",
              "      <td>2012-11-29 15:00:00</td>\n",
              "    </tr>\n",
              "  </tbody>\n",
              "</table>\n",
              "</div>"
            ],
            "text/plain": [
              "        Datum  ...                 Date\n",
              "0  2012-11-29  ...  2012-11-29 11:00:00\n",
              "1  2012-11-29  ...  2012-11-29 12:00:00\n",
              "2  2012-11-29  ...  2012-11-29 13:00:00\n",
              "3  2012-11-29  ...  2012-11-29 14:00:00\n",
              "4  2012-11-29  ...  2012-11-29 15:00:00\n",
              "\n",
              "[5 rows x 4 columns]"
            ]
          },
          "metadata": {
            "tags": []
          },
          "execution_count": 147
        }
      ]
    },
    {
      "cell_type": "code",
      "metadata": {
        "id": "N9pG9ydUQf9X"
      },
      "source": [
        "# pres_data.columns"
      ],
      "execution_count": null,
      "outputs": []
    },
    {
      "cell_type": "code",
      "metadata": {
        "id": "qxYaPTes9NrN"
      },
      "source": [
        "# cols_name = ['Datum', 'Tid (UTC)', 'Lufttryck reducerat havsytans nivå']\n",
        "# pres_data = pres_data[cols_name]"
      ],
      "execution_count": null,
      "outputs": []
    },
    {
      "cell_type": "code",
      "metadata": {
        "id": "V4vRmU_x-B5j"
      },
      "source": [
        "# pres_data.head()"
      ],
      "execution_count": null,
      "outputs": []
    },
    {
      "cell_type": "code",
      "metadata": {
        "id": "vSFGJoS193hO"
      },
      "source": [
        "# pres_data['Date'] = pres_data['Datum']+' '+ pres_data['Tid (UTC)']\n",
        "# pres_data.head()"
      ],
      "execution_count": null,
      "outputs": []
    },
    {
      "cell_type": "code",
      "metadata": {
        "id": "KiTaswgS-ZXe"
      },
      "source": [
        "# cols = ['Date', 'Lufttryck reducerat havsytans nivå']\n",
        "# pres = pres_data[cols]\n",
        "# pres = pres.rename({'Date':'Datum', 'Lufttryck reducerat havsytans nivå':'Air Pressure'},axis=1)"
      ],
      "execution_count": null,
      "outputs": []
    },
    {
      "cell_type": "code",
      "metadata": {
        "id": "LXR1SWvH-2vj",
        "outputId": "3486b435-5b3d-474d-8923-d23e21a45203",
        "colab": {
          "base_uri": "https://localhost:8080/",
          "height": 235
        }
      },
      "source": [
        "# pres.head()"
      ],
      "execution_count": null,
      "outputs": [
        {
          "output_type": "execute_result",
          "data": {
            "text/html": [
              "<div>\n",
              "<style scoped>\n",
              "    .dataframe tbody tr th:only-of-type {\n",
              "        vertical-align: middle;\n",
              "    }\n",
              "\n",
              "    .dataframe tbody tr th {\n",
              "        vertical-align: top;\n",
              "    }\n",
              "\n",
              "    .dataframe thead th {\n",
              "        text-align: right;\n",
              "    }\n",
              "</style>\n",
              "<table border=\"1\" class=\"dataframe\">\n",
              "  <thead>\n",
              "    <tr style=\"text-align: right;\">\n",
              "      <th></th>\n",
              "      <th>Air Pressure</th>\n",
              "    </tr>\n",
              "    <tr>\n",
              "      <th>Datum</th>\n",
              "      <th></th>\n",
              "    </tr>\n",
              "  </thead>\n",
              "  <tbody>\n",
              "    <tr>\n",
              "      <th>2012-11-29 11:00:00</th>\n",
              "      <td>1006.6</td>\n",
              "    </tr>\n",
              "    <tr>\n",
              "      <th>2012-11-29 12:00:00</th>\n",
              "      <td>1006.2</td>\n",
              "    </tr>\n",
              "    <tr>\n",
              "      <th>2012-11-29 13:00:00</th>\n",
              "      <td>1005.9</td>\n",
              "    </tr>\n",
              "    <tr>\n",
              "      <th>2012-11-29 14:00:00</th>\n",
              "      <td>1005.7</td>\n",
              "    </tr>\n",
              "    <tr>\n",
              "      <th>2012-11-29 15:00:00</th>\n",
              "      <td>1005.6</td>\n",
              "    </tr>\n",
              "  </tbody>\n",
              "</table>\n",
              "</div>"
            ],
            "text/plain": [
              "                     Air Pressure\n",
              "Datum                            \n",
              "2012-11-29 11:00:00        1006.6\n",
              "2012-11-29 12:00:00        1006.2\n",
              "2012-11-29 13:00:00        1005.9\n",
              "2012-11-29 14:00:00        1005.7\n",
              "2012-11-29 15:00:00        1005.6"
            ]
          },
          "metadata": {
            "tags": []
          },
          "execution_count": 153
        }
      ]
    },
    {
      "cell_type": "code",
      "metadata": {
        "id": "4C9yeXqt_Gfo"
      },
      "source": [
        "# pres = pres.set_index('Datum')"
      ],
      "execution_count": null,
      "outputs": []
    },
    {
      "cell_type": "code",
      "metadata": {
        "id": "9eQO0MGg_S5e"
      },
      "source": [
        "# station_8779 = station_8779.join(pres)"
      ],
      "execution_count": null,
      "outputs": []
    },
    {
      "cell_type": "code",
      "metadata": {
        "id": "R0dY4PH__fgp"
      },
      "source": [
        "# station_8779.info()"
      ],
      "execution_count": null,
      "outputs": []
    },
    {
      "cell_type": "code",
      "metadata": {
        "id": "5XdvvEEP_lc3"
      },
      "source": [
        "# station_8779.head()"
      ],
      "execution_count": null,
      "outputs": []
    },
    {
      "cell_type": "code",
      "metadata": {
        "id": "ibxIVL-f_qZ0"
      },
      "source": [
        "# rh_data.head()"
      ],
      "execution_count": null,
      "outputs": []
    },
    {
      "cell_type": "code",
      "metadata": {
        "id": "3t7psEvL_y3C"
      },
      "source": [
        "# rh_data.columns"
      ],
      "execution_count": null,
      "outputs": []
    },
    {
      "cell_type": "code",
      "metadata": {
        "id": "7uZrKL3s_7Kn"
      },
      "source": [
        "# cols_name = ['Datum', 'Tid (UTC)', 'Relativ Luftfuktighet']\n",
        "# rh_data = rh_data[cols_name]"
      ],
      "execution_count": null,
      "outputs": []
    },
    {
      "cell_type": "code",
      "metadata": {
        "id": "ZeBof7zyAQ0T"
      },
      "source": [
        "# rh_data.head()"
      ],
      "execution_count": null,
      "outputs": []
    },
    {
      "cell_type": "code",
      "metadata": {
        "id": "PgeN8ZrQAUtj"
      },
      "source": [
        "# rh_data['Date'] = rh_data['Datum']+' '+ rh_data['Tid (UTC)']\n",
        "# rh_data.head()"
      ],
      "execution_count": null,
      "outputs": []
    },
    {
      "cell_type": "code",
      "metadata": {
        "id": "eiaYeZXxAlfQ"
      },
      "source": [
        "# cols = ['Date', 'Relativ Luftfuktighet']\n",
        "# rh = rh_data[cols]\n",
        "# rh = rh.rename({'Date': 'Datum', 'Relativ Luftfuktighet': 'Relative Humidity'}, axis=1)\n",
        "\n"
      ],
      "execution_count": null,
      "outputs": []
    },
    {
      "cell_type": "code",
      "metadata": {
        "id": "2vdnQ82QCVQs"
      },
      "source": [
        "# rh = rh.set_index('Datum')"
      ],
      "execution_count": null,
      "outputs": []
    },
    {
      "cell_type": "code",
      "metadata": {
        "id": "UioZ9jKsCZJt"
      },
      "source": [
        "# station_8779 = station_8779.join(rh)"
      ],
      "execution_count": null,
      "outputs": []
    },
    {
      "cell_type": "code",
      "metadata": {
        "id": "ciDfpvs5Cdj-"
      },
      "source": [
        "# station_8779.head()"
      ],
      "execution_count": null,
      "outputs": []
    },
    {
      "cell_type": "markdown",
      "metadata": {
        "id": "mI9rijROHP-I"
      },
      "source": [
        "**Adding Precipitation Data**"
      ]
    },
    {
      "cell_type": "code",
      "metadata": {
        "id": "W-9ZHWnmKFV2"
      },
      "source": [
        "# prec_data = 'https://raw.githubusercontent.com/evo4np/damp_preprocessing_2018/master/mete/StockholmA/stockholm-precipitation.csv'\n"
      ],
      "execution_count": null,
      "outputs": []
    },
    {
      "cell_type": "code",
      "metadata": {
        "id": "iLIjng-IKW2q"
      },
      "source": [
        "# prec_data = pd.read_csv(prec_data, sep=';', skiprows=9)"
      ],
      "execution_count": null,
      "outputs": []
    },
    {
      "cell_type": "code",
      "metadata": {
        "id": "YkuSHQLFGICv"
      },
      "source": [
        "# prec_data.head()"
      ],
      "execution_count": null,
      "outputs": []
    },
    {
      "cell_type": "code",
      "metadata": {
        "id": "6cCEQNSbHWV9"
      },
      "source": [
        "# prec_data.columns"
      ],
      "execution_count": null,
      "outputs": []
    },
    {
      "cell_type": "code",
      "metadata": {
        "id": "IfE9NNFDHZWD"
      },
      "source": [
        "# cols_name = ['Datum', 'Tid (UTC)', 'Nederbördsmängd']\n",
        "# prec_data = prec_data[cols_name]\n"
      ],
      "execution_count": null,
      "outputs": []
    },
    {
      "cell_type": "code",
      "metadata": {
        "id": "MhVQILcbIBCM"
      },
      "source": [
        "# prec_data.head()"
      ],
      "execution_count": null,
      "outputs": []
    },
    {
      "cell_type": "code",
      "metadata": {
        "id": "Pnb6tu5tIFHy"
      },
      "source": [
        "# #join date and time\n",
        "# prec_data['Date'] = prec_data['Datum']+' '+ prec_data['Tid (UTC)']\n",
        "# prec_data.head()"
      ],
      "execution_count": null,
      "outputs": []
    },
    {
      "cell_type": "code",
      "metadata": {
        "id": "fEiNfiyPIha5"
      },
      "source": [
        "# cols = ['Date', 'Nederbördsmängd']\n",
        "# prec = prec_data[cols]\n",
        "# prec = prec.rename({'Date':'Datum', 'Nederbördsmängd':'Precepitation'},axis=1)"
      ],
      "execution_count": null,
      "outputs": []
    },
    {
      "cell_type": "code",
      "metadata": {
        "id": "YcGxGjqQI-5k"
      },
      "source": [
        "# prec.head()"
      ],
      "execution_count": null,
      "outputs": []
    },
    {
      "cell_type": "code",
      "metadata": {
        "id": "_8pXErtTJB7z"
      },
      "source": [
        "# prec = prec.set_index('Datum')"
      ],
      "execution_count": null,
      "outputs": []
    },
    {
      "cell_type": "code",
      "metadata": {
        "id": "-9kQGaiYJVBi"
      },
      "source": [
        "#station_8779 = station_8779.join(prec)"
      ],
      "execution_count": null,
      "outputs": []
    },
    {
      "cell_type": "code",
      "metadata": {
        "id": "xhKdLx2ATOXZ"
      },
      "source": [
        "# station_8779 = station_8779.join(prec)"
      ],
      "execution_count": null,
      "outputs": []
    },
    {
      "cell_type": "code",
      "metadata": {
        "id": "sXokeWNsTTaT"
      },
      "source": [
        "# station_8779.head()"
      ],
      "execution_count": null,
      "outputs": []
    },
    {
      "cell_type": "code",
      "metadata": {
        "id": "VcBRzn43HYq_"
      },
      "source": [
        "# station_8779.isnull().sum()"
      ],
      "execution_count": null,
      "outputs": []
    },
    {
      "cell_type": "code",
      "metadata": {
        "id": "6ZSBDWDmjns1"
      },
      "source": [
        "# station_8779.info()"
      ],
      "execution_count": null,
      "outputs": []
    },
    {
      "cell_type": "code",
      "metadata": {
        "id": "xcifFafOkR6q"
      },
      "source": [
        "# evaluation1_station = station_8779\n"
      ],
      "execution_count": null,
      "outputs": []
    },
    {
      "cell_type": "code",
      "metadata": {
        "id": "v_sCsDSInC1Z"
      },
      "source": [
        "# evaluation1_station = evaluation1_station.drop(['Datum'], axis =1)\n",
        "# evaluation1_station.head()"
      ],
      "execution_count": null,
      "outputs": []
    },
    {
      "cell_type": "code",
      "metadata": {
        "id": "3roEu6gTnmtE"
      },
      "source": [
        "# evaluation1_station = evaluation1_station.dropna(axis=0)\n",
        "# evaluation1_station[evaluation1_station.isnull().any(axis=1)]"
      ],
      "execution_count": null,
      "outputs": []
    },
    {
      "cell_type": "code",
      "metadata": {
        "id": "W2EsMadunzQl"
      },
      "source": [
        "# from sklearn.model_selection import train_test_split\n",
        "# from sklearn.svm import SVR\n",
        "\n",
        "# X = evaluation1_station.drop('Slut', axis=1)\n",
        "# y = evaluation1_station['Slut']\n",
        "\n",
        "# X_train, X_test, y_train, y_test = train_test_split(X, y,\n",
        "# train_size=0.8, test_size=0.2, random_state =0)\n",
        "\n",
        "# model = SVR(kernel='linear', C=1.0)\n",
        "# model.fit(X_train, y_train)"
      ],
      "execution_count": null,
      "outputs": []
    },
    {
      "cell_type": "markdown",
      "metadata": {
        "id": "yGstQJmlkmY8"
      },
      "source": [
        "# Model with missing and null values"
      ]
    },
    {
      "cell_type": "code",
      "metadata": {
        "id": "9TAa7la4ks-U"
      },
      "source": [
        "# from sklearn.model_selection import train_test_split\n",
        "# from sklearn.svm import SVR\n",
        "\n",
        "# X = evaluation1_station.drop('Slut', axis=1)\n",
        "# y = evaluation1_station['Slut']\n",
        "\n",
        "# X_train, X_test, y_train, y_test = train_test_split(X, y, train_size=0.8, test_size=0.2, random_state =0)\n",
        "\n",
        "# model = SVR(kernel='linear', C=1.0)\n",
        "# model.fit(X_train, y_train)"
      ],
      "execution_count": null,
      "outputs": []
    },
    {
      "cell_type": "markdown",
      "metadata": {
        "id": "rpvhEPekHiXg"
      },
      "source": [
        "# Converting Negative Values to NaN"
      ]
    },
    {
      "cell_type": "code",
      "metadata": {
        "id": "OEw0eum4HoyH"
      },
      "source": [
        "# pm10 = station_8779['PM10 (182)']\n",
        "# pm10 = pm10.apply(lambda x:np.nan if x<0 else x)\n",
        "\n",
        "# pm2_5 = station_8779['PM2.5 (181)']\n",
        "# pm2_5 = pm2_5.apply(lambda x:np.nan if x<0 else x)\n"
      ],
      "execution_count": null,
      "outputs": []
    },
    {
      "cell_type": "code",
      "metadata": {
        "id": "y-ACx_XxIhbL"
      },
      "source": [
        "# pm10.isnull().sum()"
      ],
      "execution_count": null,
      "outputs": []
    },
    {
      "cell_type": "code",
      "metadata": {
        "id": "vDAwW_nzKglK"
      },
      "source": [
        "# pm10.describe().transpose()"
      ],
      "execution_count": null,
      "outputs": []
    },
    {
      "cell_type": "code",
      "metadata": {
        "id": "NFz1n9dcKxPG"
      },
      "source": [
        "# station_8779['PM10 (182)'] = pm10\n",
        "# station_8779['PM2.5 (181)'] = pm2_5"
      ],
      "execution_count": null,
      "outputs": []
    },
    {
      "cell_type": "markdown",
      "metadata": {
        "id": "OY7Mf3IXRzEH"
      },
      "source": [
        "# Using SimpleImputer"
      ]
    },
    {
      "cell_type": "markdown",
      "metadata": {
        "id": "8VWZtL7kTxCQ"
      },
      "source": [
        "**MEAN**"
      ]
    },
    {
      "cell_type": "code",
      "metadata": {
        "id": "u56wn1OfR7r1"
      },
      "source": [
        "# from sklearn.impute import SimpleImputer\n",
        "# imp = SimpleImputer(missing_values = np.nan, strategy = 'mean')\n",
        "# X = station_8779[['CO (185)', 'NO2 (183)', 'NOX as NO2 (184)', 'PM10 (182)',\n",
        "#        'PM2.5 (181)', 'Air Temperature', 'Air Pressure', 'Relative Humidity',\n",
        "#        'Precepitation']]\n",
        "# X = imp.fit_transform(X)"
      ],
      "execution_count": null,
      "outputs": []
    },
    {
      "cell_type": "markdown",
      "metadata": {
        "id": "EFIdpKXaT1zm"
      },
      "source": [
        "**MEDIAN**"
      ]
    },
    {
      "cell_type": "code",
      "metadata": {
        "id": "ZSADW03uThj5"
      },
      "source": [
        "# from sklearn.impute import SimpleImputer\n",
        "# imp = SimpleImputer(missing_values = np.nan, strategy = 'median')\n",
        "# X = station_8779[['CO (185)', 'NO2 (183)', 'NOX as NO2 (184)', 'PM10 (182)',\n",
        "#        'PM2.5 (181)', 'Air Temperature', 'Air Pressure', 'Relative Humidity',\n",
        "#        'Precepitation']]\n",
        "# X = imp.fit_transform(X)\n",
        "# print(X)"
      ],
      "execution_count": null,
      "outputs": []
    },
    {
      "cell_type": "markdown",
      "metadata": {
        "id": "w2UbvP2FUGSy"
      },
      "source": [
        "**MODE**"
      ]
    },
    {
      "cell_type": "code",
      "metadata": {
        "id": "emj39_qDUJY6"
      },
      "source": [
        "# from sklearn.impute import SimpleImputer\n",
        "# imp = SimpleImputer(missing_values = np.nan, strategy = 'most_frequent')\n",
        "# X = station_8779[['CO (185)', 'NO2 (183)', 'NOX as NO2 (184)', 'PM10 (182)',\n",
        "#        'PM2.5 (181)', 'Air Temperature', 'Air Pressure', 'Relative Humidity',\n",
        "#        'Precepitation']]\n",
        "# X = imp.fit_transform(X)\n",
        "# print(X)"
      ],
      "execution_count": null,
      "outputs": []
    },
    {
      "cell_type": "markdown",
      "metadata": {
        "id": "onYmWkgEUh-P"
      },
      "source": [
        "# IterativeImputer"
      ]
    },
    {
      "cell_type": "code",
      "metadata": {
        "id": "GioikMYkUmvk"
      },
      "source": [
        "# from sklearn.experimental import enable_iterative_imputer\n",
        "# from sklearn.impute import IterativeImputer \n",
        "# imp = IterativeImputer(max_iter = 10, random_state =0)\n",
        "# X = station_8779[['CO (185)', 'NO2 (183)', 'NOX as NO2 (184)', 'PM10 (182)',\n",
        "#        'PM2.5 (181)', 'Air Temperature', 'Air Pressure', 'Relative Humidity',\n",
        "#        'Precepitation']]\n",
        "# X = imp.fit_transform(X)\n",
        "# print(X)"
      ],
      "execution_count": null,
      "outputs": []
    },
    {
      "cell_type": "markdown",
      "metadata": {
        "id": "N_9M967mV9vz"
      },
      "source": [
        "# KNNImputer"
      ]
    },
    {
      "cell_type": "code",
      "metadata": {
        "id": "il99rnG9zibe"
      },
      "source": [
        "# from sklearn.experimental import enable_iterative"
      ],
      "execution_count": null,
      "outputs": []
    },
    {
      "cell_type": "code",
      "metadata": {
        "id": "DRVbHFNNYfRT"
      },
      "source": [
        "# from missingpy import KNNImputer\n",
        "# imp = KNNImputer(n_neighbors=2, weights = 'uniform')\n",
        "# X = station_8779[['CO (185)', 'NO2 (183)', 'NOX as NO2 (184)', 'PM10 (182)',\n",
        "#        'PM2.5 (181)', 'Air Temperature', 'Air Pressure', 'Relative Humidity',\n",
        "#        'Precepitation']]\n",
        "# X = imp.fit_transform(X)\n",
        "# print(X)\n"
      ],
      "execution_count": null,
      "outputs": []
    },
    {
      "cell_type": "markdown",
      "metadata": {
        "id": "t5lGOpVwZUbw"
      },
      "source": [
        "# MissForest"
      ]
    },
    {
      "cell_type": "code",
      "metadata": {
        "id": "GIo7l60nZYyk"
      },
      "source": [
        "# from missingpy import MissForest\n",
        "# imp = MissForest(max_iter = 2)\n",
        "# X = station_8779[['CO (185)', 'NO2 (183)', 'NOX as NO2 (184)', 'PM10 (182)',\n",
        "#        'PM2.5 (181)', 'Air Temperature', 'Air Pressure', 'Relative Humidity',\n",
        "#        'Precepitation']]\n",
        "# X = imp.fit_transform(X)\n",
        "# print(X)"
      ],
      "execution_count": null,
      "outputs": []
    },
    {
      "cell_type": "code",
      "metadata": {
        "id": "bRWHlBVyXgKZ"
      },
      "source": [
        "station_8779.info()"
      ],
      "execution_count": null,
      "outputs": []
    },
    {
      "cell_type": "code",
      "metadata": {
        "id": "gtFwyOs7S4_G"
      },
      "source": [
        "# station_8779.columns"
      ],
      "execution_count": null,
      "outputs": []
    },
    {
      "cell_type": "code",
      "metadata": {
        "id": "eCXRLfjTLfbD"
      },
      "source": [
        "# station_8779.isnull().sum()"
      ],
      "execution_count": null,
      "outputs": []
    },
    {
      "cell_type": "code",
      "metadata": {
        "id": "r07g_qjK8tRr"
      },
      "source": [
        "# from google.colab import drive\n",
        "# drive.mount('/drive')\n",
        "# station_8779.to_csv('/drive/My Drive/Bunu/8779_merged.csv')"
      ],
      "execution_count": null,
      "outputs": []
    },
    {
      "cell_type": "markdown",
      "metadata": {
        "id": "v3qi5lhHPteu"
      },
      "source": [
        "**Correlation Plot**"
      ]
    },
    {
      "cell_type": "markdown",
      "metadata": {
        "id": "pxfIj_6kESaV"
      },
      "source": [
        "# Correlation Plot"
      ]
    },
    {
      "cell_type": "code",
      "metadata": {
        "id": "A2SX_fPSJW9F"
      },
      "source": [
        "# corl = station_8779.corr()\n",
        "# sns.heatmap(corl,annot=True)\n",
        "# plt.show()"
      ],
      "execution_count": null,
      "outputs": []
    },
    {
      "cell_type": "code",
      "metadata": {
        "id": "vxeLFylKR9Q5"
      },
      "source": [
        "# station_8779.plot(style=['k--', 'bo-', 'r*'], figsize=(20, 10));"
      ],
      "execution_count": null,
      "outputs": []
    },
    {
      "cell_type": "markdown",
      "metadata": {
        "id": "a09DAFgGmxmc"
      },
      "source": [
        "**Missing values Plot**"
      ]
    },
    {
      "cell_type": "code",
      "metadata": {
        "id": "X1o9jQ3UmH8U"
      },
      "source": [
        "# import missingno as mno\n",
        "# mno.matrix(station_8779, figsize = (20,10))"
      ],
      "execution_count": null,
      "outputs": []
    },
    {
      "cell_type": "markdown",
      "metadata": {
        "id": "mWVGdYWjnIXU"
      },
      "source": [
        "From the above plot. There are 8 columns with missing values"
      ]
    },
    {
      "cell_type": "code",
      "metadata": {
        "id": "ld8gi2jInfNC"
      },
      "source": [
        "# station_8779.columns"
      ],
      "execution_count": null,
      "outputs": []
    },
    {
      "cell_type": "code",
      "metadata": {
        "id": "rrpgXu46cJqR"
      },
      "source": [
        "# missing_zero_values_table(station_8779)"
      ],
      "execution_count": null,
      "outputs": []
    },
    {
      "cell_type": "code",
      "metadata": {
        "id": "xPfzOJcWH1aa"
      },
      "source": [
        "# df = station_8779\n",
        "# df.head()"
      ],
      "execution_count": null,
      "outputs": []
    },
    {
      "cell_type": "code",
      "metadata": {
        "id": "2f_Av-GXD0iC"
      },
      "source": [
        "# df.columns[df.isnull().any()]\n",
        "# df.columns[df.isnull().any()].tolist() # to get a list instead of an Index object"
      ],
      "execution_count": null,
      "outputs": []
    },
    {
      "cell_type": "code",
      "metadata": {
        "id": "QlYpnHpZFgow"
      },
      "source": [
        "# n_miss_pm10 = df['Air Pressure'].isnull().sum()\n",
        "# perc = n_miss_pm10 / df.shape[0] * 100\n",
        "# print(n_miss_pm10, perc)"
      ],
      "execution_count": null,
      "outputs": []
    },
    {
      "cell_type": "code",
      "metadata": {
        "id": "eT-aWftHI9_u"
      },
      "source": [
        "#df[df['Air Pressure'].isnull()].index.tolist()\n",
        "#df[df['PM10 (182)']<0].index.tolist()\n",
        "# df[df['PM10 (182)']<0].sum()"
      ],
      "execution_count": null,
      "outputs": []
    },
    {
      "cell_type": "code",
      "metadata": {
        "id": "-hZipZHViYBU"
      },
      "source": [
        "# missing_zero_values_table(df)"
      ],
      "execution_count": null,
      "outputs": []
    },
    {
      "cell_type": "code",
      "metadata": {
        "id": "QIyE1EozEjSV"
      },
      "source": [
        "# df.head()"
      ],
      "execution_count": null,
      "outputs": []
    },
    {
      "cell_type": "code",
      "metadata": {
        "id": "Xva5HZbWjnBg"
      },
      "source": [
        "# df_linear = df.interpolate(method='linear', limit_direction='forward', axis=0)\n"
      ],
      "execution_count": null,
      "outputs": []
    },
    {
      "cell_type": "code",
      "metadata": {
        "id": "fPpLkzsBjrqn"
      },
      "source": [
        "# df_linear.head()"
      ],
      "execution_count": null,
      "outputs": []
    },
    {
      "cell_type": "code",
      "metadata": {
        "id": "M7sp4BXvjv42"
      },
      "source": [
        "# missing_zero_values_table(df_linear)"
      ],
      "execution_count": null,
      "outputs": []
    },
    {
      "cell_type": "code",
      "metadata": {
        "id": "wy36d5bXj-Dh"
      },
      "source": [
        "# mno.matrix(df_linear, figsize = (20,10))"
      ],
      "execution_count": null,
      "outputs": []
    },
    {
      "cell_type": "code",
      "metadata": {
        "id": "X4Asp22pKWcf"
      },
      "source": [
        "# df_linear['PM2.5 (181)'].plot(style=['k--', 'bo-', 'r*'], figsize=(30, 10));"
      ],
      "execution_count": null,
      "outputs": []
    },
    {
      "cell_type": "code",
      "metadata": {
        "id": "mHDZAD_LkygJ"
      },
      "source": [
        "# from google.colab import drive\n",
        "# drive.mount('/drive')\n",
        "#df_linear.to_csv('/drive/My Drive/Bunu/linear1.csv')"
      ],
      "execution_count": null,
      "outputs": []
    },
    {
      "cell_type": "code",
      "metadata": {
        "id": "vABXItMRq8l5"
      },
      "source": [
        "# df_slinear = df.interpolate(method='slinear',  axis=0)\n"
      ],
      "execution_count": null,
      "outputs": []
    },
    {
      "cell_type": "code",
      "metadata": {
        "id": "zcBNuxpxrUCM"
      },
      "source": [
        "# missing_zero_values_table(df_slinear)\n"
      ],
      "execution_count": null,
      "outputs": []
    },
    {
      "cell_type": "code",
      "metadata": {
        "id": "R4-_4baEwXOH"
      },
      "source": [
        "# df['PM2.5 (181)'].plot(style=['k--', 'bo-', 'r*'], figsize=(30, 10));"
      ],
      "execution_count": null,
      "outputs": []
    },
    {
      "cell_type": "code",
      "metadata": {
        "id": "9P6AWY0fukAl"
      },
      "source": [
        "# df_slinear['PM2.5 (181)'].plot(style=['k--', 'bo-', 'r*'], figsize=(30, 10));"
      ],
      "execution_count": null,
      "outputs": []
    },
    {
      "cell_type": "code",
      "metadata": {
        "id": "nOO_ANlrvvCm"
      },
      "source": [
        "# df_slinear.plot(subplots=True, figsize=(20,16));"
      ],
      "execution_count": null,
      "outputs": []
    },
    {
      "cell_type": "code",
      "metadata": {
        "id": "Q1nl7eqYrcJn"
      },
      "source": [
        "#df_slinear.to_csv('/drive/My Drive/Bunu/slinear.csv')"
      ],
      "execution_count": null,
      "outputs": []
    },
    {
      "cell_type": "code",
      "metadata": {
        "id": "q4FNof6zJMxA"
      },
      "source": [
        "# df_quadratic = df.interpolate(method='quadratic', limit_direction='forward', axis=0)\n"
      ],
      "execution_count": null,
      "outputs": []
    },
    {
      "cell_type": "code",
      "metadata": {
        "id": "wXPzf6j_J18U"
      },
      "source": [
        "# missing_zero_values_table(df_quadratic)"
      ],
      "execution_count": null,
      "outputs": []
    },
    {
      "cell_type": "code",
      "metadata": {
        "id": "eWWT4wgcJ7Cx"
      },
      "source": [
        "# df_quadratic['PM2.5 (181)'].plot(style=['k--', 'bo-', 'r*'], figsize=(30, 10));"
      ],
      "execution_count": null,
      "outputs": []
    },
    {
      "cell_type": "code",
      "metadata": {
        "id": "N9SOe00XKn5m"
      },
      "source": [
        "\n",
        "# df_nearest = df.interpolate(method='nearest', limit_direction='forward', axis=0)\n"
      ],
      "execution_count": null,
      "outputs": []
    },
    {
      "cell_type": "code",
      "metadata": {
        "id": "5ijkJ7XgKxcb"
      },
      "source": [
        "# missing_zero_values_table(df_nearest)"
      ],
      "execution_count": null,
      "outputs": []
    },
    {
      "cell_type": "code",
      "metadata": {
        "id": "omwJojzqK8ow"
      },
      "source": [
        "# df_nearest['PM2.5 (181)'].plot(style=['k--', 'bo-', 'r*'], figsize=(30, 10));"
      ],
      "execution_count": null,
      "outputs": []
    },
    {
      "cell_type": "code",
      "metadata": {
        "id": "T-RbFbSHLTJ2"
      },
      "source": [
        "\n",
        "# df_time = df.interpolate(method='time', limit_direction='forward', axis=0)\n"
      ],
      "execution_count": null,
      "outputs": []
    },
    {
      "cell_type": "code",
      "metadata": {
        "id": "RRiDR7zzLiev"
      },
      "source": [
        "# missing_zero_values_table(df_time)"
      ],
      "execution_count": null,
      "outputs": []
    },
    {
      "cell_type": "code",
      "metadata": {
        "id": "2Fv4l2smL1QF"
      },
      "source": [
        "# df_time['PM2.5 (181)'].plot(style=['k--', 'bo-', 'r*'], figsize=(30, 10));"
      ],
      "execution_count": null,
      "outputs": []
    },
    {
      "cell_type": "code",
      "metadata": {
        "id": "4_jzYkdqMCjo"
      },
      "source": [
        "# mno.matrix(df_time, figsize = (20,10))"
      ],
      "execution_count": null,
      "outputs": []
    },
    {
      "cell_type": "code",
      "metadata": {
        "id": "fgNz_cVLpYV-"
      },
      "source": [
        "# df_PM10 = df['PM10 (182)']\n",
        "# df_PM10.head()"
      ],
      "execution_count": null,
      "outputs": []
    },
    {
      "cell_type": "code",
      "metadata": {
        "id": "WTwgks6kpq-8"
      },
      "source": [
        "# #Resampling PM10 weekly\n",
        "# weekly = df_PM10.resample('W').sum()\n",
        "# weekly.plot (style=[':','--','-'])"
      ],
      "execution_count": null,
      "outputs": []
    },
    {
      "cell_type": "code",
      "metadata": {
        "id": "6yPnnJTKmgR7"
      },
      "source": [
        "# #Resampling\n",
        "# weekly = df.resample('W').sum()\n",
        "# weekly.plot (style=[':','--','-'])"
      ],
      "execution_count": null,
      "outputs": []
    },
    {
      "cell_type": "code",
      "metadata": {
        "id": "I5S_CCd2nw7_"
      },
      "source": [
        "# #Daily\n",
        "# daily = df.resample('D').sum()\n",
        "# daily.rolling (30, center=True).sum().plot(style=[':','--','-'])"
      ],
      "execution_count": null,
      "outputs": []
    },
    {
      "cell_type": "code",
      "metadata": {
        "id": "5-FwfvXFp8yl"
      },
      "source": [
        "# #Daily resampling PM10\n",
        "# daily = df_PM10.resample('D').sum()\n",
        "# daily.rolling (30, center=True).sum().plot(style=[':','--','-'])"
      ],
      "execution_count": null,
      "outputs": []
    },
    {
      "cell_type": "code",
      "metadata": {
        "id": "_G5vUHLJoiaC"
      },
      "source": [
        "# #hourly\n",
        "# by_time = df.groupby(df.index.time).mean()\n",
        "# hourly_ticks = 4*60*60*np.arange(6)\n",
        "# by_time.plot(xticks=hourly_ticks, style=[':','--','-'])"
      ],
      "execution_count": null,
      "outputs": []
    },
    {
      "cell_type": "code",
      "metadata": {
        "id": "mEOZkaNKqHQQ"
      },
      "source": [
        "# #hourly resampling PM10\n",
        "# #hourly\n",
        "# by_time = df_PM10.groupby(df_PM10.index.time).mean()\n",
        "# hourly_ticks = 4*60*60*np.arange(6)\n",
        "# by_time.plot(xticks=hourly_ticks, style=[':','--','-'])"
      ],
      "execution_count": null,
      "outputs": []
    },
    {
      "cell_type": "markdown",
      "metadata": {
        "id": "u_2ErzqurXdh"
      },
      "source": [
        "Modelling with prophet\n",
        "Prophet is designed for analyzing time series with daily observations that display patterns on different time scales. Prophet is robust to missing data and shifts in the trend, and typically handles outliers well."
      ]
    },
    {
      "cell_type": "markdown",
      "metadata": {
        "id": "tgqJwa6rwftr"
      },
      "source": [
        "Before using Prophet, we rename the columns in our data to the correct format. The Date column must be called ‘ds’ and the value column we want to predict ‘y’"
      ]
    },
    {
      "cell_type": "code",
      "metadata": {
        "id": "2okiQS4V0ECs"
      },
      "source": [
        "# #LSTM(Long Short Term Memory) prediction\n",
        "# mydata = df.loc[:,['PM10 (182)']]\n",
        "# # mydata = mydata.set_index(df)\n",
        "# mydata.head()"
      ],
      "execution_count": null,
      "outputs": []
    },
    {
      "cell_type": "code",
      "metadata": {
        "id": "NZfrNVeA29ZR"
      },
      "source": [
        "# #normalizing-rescale the data o the range of [0,1]or[-1,1]\n",
        "# from sklearn.preprocessing import MinMaxScaler\n",
        "# values = mydata['PM10 (182)'].values.reshape(-1,1)\n",
        "# values = values.astype('float32')\n",
        "# scaler = MinMaxScaler(feature_range=(0,1))\n",
        "# scaled = scaler.fit_transform(values)"
      ],
      "execution_count": null,
      "outputs": []
    },
    {
      "cell_type": "code",
      "metadata": {
        "id": "OQ0mwv643q8D"
      },
      "source": [
        "# #splitting the dataset\n",
        "# train_size = int (len(scaled) * 0.8)\n",
        "# test_size = len (scaled) - train_size\n",
        "# train, test = scaled[0:train_size,:], scaled[train_size:len(scaled),:]\n",
        "# print (len(train), len(test))"
      ],
      "execution_count": null,
      "outputs": []
    },
    {
      "cell_type": "markdown",
      "metadata": {
        "id": "L57mcx8K4joe"
      },
      "source": [
        "defining a function to create a new dataset and use this function to prepare the train and test datasets for modeling."
      ]
    },
    {
      "cell_type": "code",
      "metadata": {
        "id": "UWgr5pvb4eR0"
      },
      "source": [
        "# def create_dataset (dataset, look_back=1):\n",
        "#   dataX, dataY =[], []\n",
        "#   for i in range(len(dataset)-look_back):\n",
        "#     a = dataset[i:(i+ look_back),0]\n",
        "#     dataX.append(a)\n",
        "#     dataY.append(dataset[i+ look_back,0])\n",
        "#   print(len(dataY))\n",
        "#   return np.array(dataX), np.array(dataY)"
      ],
      "execution_count": null,
      "outputs": []
    },
    {
      "cell_type": "code",
      "metadata": {
        "id": "i5XzlCnv5mYn"
      },
      "source": [
        "# look_back = 2\n",
        "# trainX, trainY = create_dataset(train, look_back)\n",
        "# testX, testY = create_dataset(test, look_back)"
      ],
      "execution_count": null,
      "outputs": []
    },
    {
      "cell_type": "markdown",
      "metadata": {
        "id": "MUN8vm9J6FA2"
      },
      "source": [
        "Our data is currently in the form [samples, features] and we are framing the problem as two time steps for each sample. We can transform the prepared train and test input data into the expected structure"
      ]
    },
    {
      "cell_type": "code",
      "metadata": {
        "id": "YHRvCavW6Gou"
      },
      "source": [
        "# trainX = np.reshape(trainX, (trainX.shape[0],1, trainX.shape[1]))\n",
        "# testX = np.reshape(testX, (testX.shape[0],1, testX.shape[1]))"
      ],
      "execution_count": null,
      "outputs": []
    },
    {
      "cell_type": "code",
      "metadata": {
        "id": "nULik0Bm1V3y"
      },
      "source": [
        "# from keras.models import Sequential\n",
        "# from keras.layers import Dense\n",
        "# from keras.layers import LSTM\n",
        "# model = Sequential()\n",
        "# model.add(LSTM(100, input_shape=(trainX.shape[1], trainX.shape[2])))\n",
        "# model.add(Dense(1))\n",
        "# model.compile(loss='mae', optimizer ='adam')\n",
        "# history = model.fit(trainX, trainY, epochs=300, batch_size=100, vaidation_data=(testX, testY), verbose= 0, shuffle = False)"
      ],
      "execution_count": null,
      "outputs": []
    },
    {
      "cell_type": "markdown",
      "metadata": {
        "id": "DOtFSREg2l0M"
      },
      "source": [
        "# Second Section"
      ]
    },
    {
      "cell_type": "code",
      "metadata": {
        "id": "wVSi6j1-2rm0",
        "outputId": "4faf20f1-5756-42ec-e080-6cd51f5ee405",
        "colab": {
          "base_uri": "https://localhost:8080/",
          "height": 408
        }
      },
      "source": [
        "#read the data\n",
        "df = 'https://raw.githubusercontent.com/praveenswamy65/Uppsala_ProjectCS_2020/master/8779/8779_merged.csv?token=ANXEMBTOPOCEYXDUTPL5CJK7TGGNU'\n",
        "df = pd.read_csv(df)\n",
        "df.head()"
      ],
      "execution_count": 6,
      "outputs": [
        {
          "output_type": "execute_result",
          "data": {
            "text/html": [
              "<div>\n",
              "<style scoped>\n",
              "    .dataframe tbody tr th:only-of-type {\n",
              "        vertical-align: middle;\n",
              "    }\n",
              "\n",
              "    .dataframe tbody tr th {\n",
              "        vertical-align: top;\n",
              "    }\n",
              "\n",
              "    .dataframe thead th {\n",
              "        text-align: right;\n",
              "    }\n",
              "</style>\n",
              "<table border=\"1\" class=\"dataframe\">\n",
              "  <thead>\n",
              "    <tr style=\"text-align: right;\">\n",
              "      <th></th>\n",
              "      <th>Start</th>\n",
              "      <th>Slut</th>\n",
              "      <th>CO (185)</th>\n",
              "      <th>NO2 (183)</th>\n",
              "      <th>NOX as NO2 (184)</th>\n",
              "      <th>PM10 (182)</th>\n",
              "      <th>PM2.5 (181)</th>\n",
              "      <th>Air Temperature</th>\n",
              "      <th>Air Pressure</th>\n",
              "      <th>Relative Humidity</th>\n",
              "      <th>Precepitation</th>\n",
              "    </tr>\n",
              "  </thead>\n",
              "  <tbody>\n",
              "    <tr>\n",
              "      <th>0</th>\n",
              "      <td>2014-01-01 00:00:00</td>\n",
              "      <td>2014-01-01 01:00</td>\n",
              "      <td>0.41</td>\n",
              "      <td>27.7</td>\n",
              "      <td>58.4</td>\n",
              "      <td>69.8</td>\n",
              "      <td>45.7</td>\n",
              "      <td>2.9</td>\n",
              "      <td>1015.7</td>\n",
              "      <td>92.0</td>\n",
              "      <td>0.0</td>\n",
              "    </tr>\n",
              "    <tr>\n",
              "      <th>1</th>\n",
              "      <td>2014-01-01 01:00:00</td>\n",
              "      <td>2014-01-01 02:00</td>\n",
              "      <td>0.27</td>\n",
              "      <td>40.4</td>\n",
              "      <td>72.5</td>\n",
              "      <td>23.9</td>\n",
              "      <td>16.3</td>\n",
              "      <td>2.8</td>\n",
              "      <td>1015.9</td>\n",
              "      <td>93.0</td>\n",
              "      <td>0.0</td>\n",
              "    </tr>\n",
              "    <tr>\n",
              "      <th>2</th>\n",
              "      <td>2014-01-01 02:00:00</td>\n",
              "      <td>2014-01-01 03:00</td>\n",
              "      <td>0.35</td>\n",
              "      <td>28.1</td>\n",
              "      <td>49.8</td>\n",
              "      <td>13.9</td>\n",
              "      <td>6.6</td>\n",
              "      <td>3.2</td>\n",
              "      <td>1015.4</td>\n",
              "      <td>94.0</td>\n",
              "      <td>0.0</td>\n",
              "    </tr>\n",
              "    <tr>\n",
              "      <th>3</th>\n",
              "      <td>2014-01-01 03:00:00</td>\n",
              "      <td>2014-01-01 04:00</td>\n",
              "      <td>0.24</td>\n",
              "      <td>16.9</td>\n",
              "      <td>28.9</td>\n",
              "      <td>16.8</td>\n",
              "      <td>8.5</td>\n",
              "      <td>3.6</td>\n",
              "      <td>1015.2</td>\n",
              "      <td>93.0</td>\n",
              "      <td>0.0</td>\n",
              "    </tr>\n",
              "    <tr>\n",
              "      <th>4</th>\n",
              "      <td>2014-01-01 04:00:00</td>\n",
              "      <td>2014-01-01 05:00</td>\n",
              "      <td>0.28</td>\n",
              "      <td>21.1</td>\n",
              "      <td>32.5</td>\n",
              "      <td>16.7</td>\n",
              "      <td>6.6</td>\n",
              "      <td>3.0</td>\n",
              "      <td>1014.8</td>\n",
              "      <td>92.0</td>\n",
              "      <td>0.0</td>\n",
              "    </tr>\n",
              "  </tbody>\n",
              "</table>\n",
              "</div>"
            ],
            "text/plain": [
              "                 Start              Slut  ...  Relative Humidity  Precepitation\n",
              "0  2014-01-01 00:00:00  2014-01-01 01:00  ...               92.0            0.0\n",
              "1  2014-01-01 01:00:00  2014-01-01 02:00  ...               93.0            0.0\n",
              "2  2014-01-01 02:00:00  2014-01-01 03:00  ...               94.0            0.0\n",
              "3  2014-01-01 03:00:00  2014-01-01 04:00  ...               93.0            0.0\n",
              "4  2014-01-01 04:00:00  2014-01-01 05:00  ...               92.0            0.0\n",
              "\n",
              "[5 rows x 11 columns]"
            ]
          },
          "metadata": {
            "tags": []
          },
          "execution_count": 6
        }
      ]
    },
    {
      "cell_type": "code",
      "metadata": {
        "id": "Bp30cRmC468G",
        "outputId": "6a6a2a5c-8eb7-4ab6-9d0f-717e968c4f54",
        "colab": {
          "base_uri": "https://localhost:8080/",
          "height": 221
        }
      },
      "source": [
        "# shape and type of data\n",
        "# print(df.shape)\n",
        "print(df.dtypes)"
      ],
      "execution_count": 7,
      "outputs": [
        {
          "output_type": "stream",
          "text": [
            "Start                 object\n",
            "Slut                  object\n",
            "CO (185)             float64\n",
            "NO2 (183)            float64\n",
            "NOX as NO2 (184)     float64\n",
            "PM10 (182)           float64\n",
            "PM2.5 (181)          float64\n",
            "Air Temperature      float64\n",
            "Air Pressure         float64\n",
            "Relative Humidity    float64\n",
            "Precepitation        float64\n",
            "dtype: object\n"
          ],
          "name": "stdout"
        }
      ]
    },
    {
      "cell_type": "code",
      "metadata": {
        "id": "XtYEheO75YTf",
        "outputId": "03d00f6f-4ae8-48ad-e91c-a068871f9f40",
        "colab": {
          "base_uri": "https://localhost:8080/",
          "height": 51
        }
      },
      "source": [
        "#select numeric column\n",
        "df_numeric = df.select_dtypes(include =[np.number])\n",
        "numeric_cols = df_numeric.columns.values\n",
        "print(numeric_cols)"
      ],
      "execution_count": 8,
      "outputs": [
        {
          "output_type": "stream",
          "text": [
            "['CO (185)' 'NO2 (183)' 'NOX as NO2 (184)' 'PM10 (182)' 'PM2.5 (181)'\n",
            " 'Air Temperature' 'Air Pressure' 'Relative Humidity' 'Precepitation']\n"
          ],
          "name": "stdout"
        }
      ]
    },
    {
      "cell_type": "markdown",
      "metadata": {
        "id": "wVT7xah-znGy"
      },
      "source": [
        "**heatmap for the data**"
      ]
    },
    {
      "cell_type": "code",
      "metadata": {
        "id": "qVz95LMczuE_",
        "outputId": "4b0e39e5-039c-42a5-9052-98215c922dc5",
        "colab": {
          "base_uri": "https://localhost:8080/",
          "height": 459
        }
      },
      "source": [
        "cor = df.corr()\n",
        "sns.heatmap(cor, annot=True, cmap=plt.cm.Reds)\n",
        "plt.show()"
      ],
      "execution_count": 15,
      "outputs": [
        {
          "output_type": "display_data",
          "data": {
            "image/png": "[encoded data removed]",
            "text/plain": [
              "<Figure size 576x432 with 2 Axes>"
            ]
          },
          "metadata": {
            "tags": [],
            "needs_background": "light"
          }
        }
      ]
    },
    {
      "cell_type": "markdown",
      "metadata": {
        "id": "fbMxqovY15L4"
      },
      "source": [
        "**Visualizing the dataset**"
      ]
    },
    {
      "cell_type": "code",
      "metadata": {
        "id": "GyMymw-31wgr",
        "outputId": "d244c9c9-ed1e-4420-b63c-fe2d08d6efd5",
        "colab": {
          "base_uri": "https://localhost:8080/",
          "height": 505
        }
      },
      "source": [
        "df.plot(subplots= True, figsize=(16,10));"
      ],
      "execution_count": 17,
      "outputs": [
        {
          "output_type": "display_data",
          "data": {
            "image/png": "[encoded data removed]",
            "text/plain": [
              "<Figure size 1152x720 with 9 Axes>"
            ]
          },
          "metadata": {
            "tags": [],
            "needs_background": "light"
          }
        }
      ]
    },
    {
      "cell_type": "markdown",
      "metadata": {
        "id": "P02KBhvvUQ7I"
      },
      "source": [
        "# Working with Missing Data"
      ]
    },
    {
      "cell_type": "markdown",
      "metadata": {
        "id": "u-tD24YW6-6G"
      },
      "source": [
        "**Missing data**"
      ]
    },
    {
      "cell_type": "markdown",
      "metadata": {
        "id": "hYCac-Io7Fjj"
      },
      "source": [
        "**#1 Missing Data Heatmap**"
      ]
    },
    {
      "cell_type": "code",
      "metadata": {
        "id": "v_guuQcO7LqL",
        "outputId": "915d062e-0dc7-4858-b72a-544a9c3562ab",
        "colab": {
          "base_uri": "https://localhost:8080/",
          "height": 584
        }
      },
      "source": [
        "cols = df.columns[:10] # first 10 columns\n",
        "colours = ['#000099', '#ffff00'] # specify the colours - yellow is missing. blue is not missing.\n",
        "sns.heatmap(df[cols].isnull(), cmap=sns.color_palette(colours))"
      ],
      "execution_count": null,
      "outputs": [
        {
          "output_type": "execute_result",
          "data": {
            "text/plain": [
              "<matplotlib.axes._subplots.AxesSubplot at 0x7f0cca0b64a8>"
            ]
          },
          "metadata": {
            "tags": []
          },
          "execution_count": 215
        },
        {
          "output_type": "display_data",
          "data": {
            "image/png": "[encoded data removed]",
            "text/plain": [
              "<Figure size 864x576 with 2 Axes>"
            ]
          },
          "metadata": {
            "tags": [],
            "needs_background": "light"
          }
        }
      ]
    },
    {
      "cell_type": "markdown",
      "metadata": {
        "id": "ccu5Eqae8jZ-"
      },
      "source": [
        "**#2 Missing Data List**"
      ]
    },
    {
      "cell_type": "code",
      "metadata": {
        "id": "95quB85R8oxW",
        "outputId": "59e5b233-96ea-4818-9e07-fd451f5664b9",
        "colab": {
          "base_uri": "https://localhost:8080/",
          "height": 362
        }
      },
      "source": [
        "missing_zero_values_table(df)"
      ],
      "execution_count": null,
      "outputs": [
        {
          "output_type": "stream",
          "text": [
            "Your selected dataframe has 11 columns and 52584 Rows.\n",
            "There are 9 columns that have missing values.\n"
          ],
          "name": "stdout"
        },
        {
          "output_type": "execute_result",
          "data": {
            "text/html": [
              "<div>\n",
              "<style scoped>\n",
              "    .dataframe tbody tr th:only-of-type {\n",
              "        vertical-align: middle;\n",
              "    }\n",
              "\n",
              "    .dataframe tbody tr th {\n",
              "        vertical-align: top;\n",
              "    }\n",
              "\n",
              "    .dataframe thead th {\n",
              "        text-align: right;\n",
              "    }\n",
              "</style>\n",
              "<table border=\"1\" class=\"dataframe\">\n",
              "  <thead>\n",
              "    <tr style=\"text-align: right;\">\n",
              "      <th></th>\n",
              "      <th>Zero Values</th>\n",
              "      <th>Missing Values</th>\n",
              "      <th>% of Total Values</th>\n",
              "      <th>Total Zero Missing Values</th>\n",
              "      <th>% Total Zero Missing Values</th>\n",
              "      <th>Data Type</th>\n",
              "    </tr>\n",
              "  </thead>\n",
              "  <tbody>\n",
              "    <tr>\n",
              "      <th>PM2.5 (181)</th>\n",
              "      <td>236</td>\n",
              "      <td>6732</td>\n",
              "      <td>12.8</td>\n",
              "      <td>6968</td>\n",
              "      <td>13.3</td>\n",
              "      <td>float64</td>\n",
              "    </tr>\n",
              "    <tr>\n",
              "      <th>CO (185)</th>\n",
              "      <td>0</td>\n",
              "      <td>3552</td>\n",
              "      <td>6.8</td>\n",
              "      <td>3552</td>\n",
              "      <td>6.8</td>\n",
              "      <td>float64</td>\n",
              "    </tr>\n",
              "    <tr>\n",
              "      <th>PM10 (182)</th>\n",
              "      <td>22</td>\n",
              "      <td>2156</td>\n",
              "      <td>4.1</td>\n",
              "      <td>2178</td>\n",
              "      <td>4.1</td>\n",
              "      <td>float64</td>\n",
              "    </tr>\n",
              "    <tr>\n",
              "      <th>NO2 (183)</th>\n",
              "      <td>0</td>\n",
              "      <td>841</td>\n",
              "      <td>1.6</td>\n",
              "      <td>841</td>\n",
              "      <td>1.6</td>\n",
              "      <td>float64</td>\n",
              "    </tr>\n",
              "    <tr>\n",
              "      <th>NOX as NO2 (184)</th>\n",
              "      <td>0</td>\n",
              "      <td>645</td>\n",
              "      <td>1.2</td>\n",
              "      <td>645</td>\n",
              "      <td>1.2</td>\n",
              "      <td>float64</td>\n",
              "    </tr>\n",
              "    <tr>\n",
              "      <th>Relative Humidity</th>\n",
              "      <td>0</td>\n",
              "      <td>375</td>\n",
              "      <td>0.7</td>\n",
              "      <td>375</td>\n",
              "      <td>0.7</td>\n",
              "      <td>float64</td>\n",
              "    </tr>\n",
              "    <tr>\n",
              "      <th>Precepitation</th>\n",
              "      <td>47223</td>\n",
              "      <td>186</td>\n",
              "      <td>0.4</td>\n",
              "      <td>47409</td>\n",
              "      <td>90.2</td>\n",
              "      <td>float64</td>\n",
              "    </tr>\n",
              "    <tr>\n",
              "      <th>Air Pressure</th>\n",
              "      <td>0</td>\n",
              "      <td>27</td>\n",
              "      <td>0.1</td>\n",
              "      <td>27</td>\n",
              "      <td>0.1</td>\n",
              "      <td>float64</td>\n",
              "    </tr>\n",
              "    <tr>\n",
              "      <th>Air Temperature</th>\n",
              "      <td>247</td>\n",
              "      <td>23</td>\n",
              "      <td>0.0</td>\n",
              "      <td>270</td>\n",
              "      <td>0.5</td>\n",
              "      <td>float64</td>\n",
              "    </tr>\n",
              "  </tbody>\n",
              "</table>\n",
              "</div>"
            ],
            "text/plain": [
              "                   Zero Values  ...  Data Type\n",
              "PM2.5 (181)                236  ...    float64\n",
              "CO (185)                     0  ...    float64\n",
              "PM10 (182)                  22  ...    float64\n",
              "NO2 (183)                    0  ...    float64\n",
              "NOX as NO2 (184)             0  ...    float64\n",
              "Relative Humidity            0  ...    float64\n",
              "Precepitation            47223  ...    float64\n",
              "Air Pressure                 0  ...    float64\n",
              "Air Temperature            247  ...    float64\n",
              "\n",
              "[9 rows x 6 columns]"
            ]
          },
          "metadata": {
            "tags": []
          },
          "execution_count": 216
        }
      ]
    },
    {
      "cell_type": "markdown",
      "metadata": {
        "id": "jBvfNMxO9NE9"
      },
      "source": [
        "**#3 Missing Data HIstogram**"
      ]
    },
    {
      "cell_type": "code",
      "metadata": {
        "id": "Wix4_bHn8_F7",
        "outputId": "2f29feb8-7ffb-4d57-8578-a2763ed93d10",
        "colab": {
          "base_uri": "https://localhost:8080/",
          "height": 666
        }
      },
      "source": [
        "# first create missing indicator for features with missing data\n",
        "for col in df.columns:\n",
        "    missing = df[col].isnull()\n",
        "    num_missing = np.sum(missing)\n",
        "    \n",
        "    if num_missing > 0:  \n",
        "        print('created missing indicator for: {}'.format(col))\n",
        "        df['{}_ismissing'.format(col)] = missing\n",
        "\n",
        "\n",
        "# then based on the indicator, plot the histogram of missing values\n",
        "ismissing_cols = [col for col in df.columns if 'ismissing' in col]\n",
        "df['num_missing'] = df[ismissing_cols].sum(axis=1)\n",
        "\n",
        "df['num_missing'].value_counts().reset_index().sort_values(by='index').plot.bar(x='index', y='num_missing')"
      ],
      "execution_count": null,
      "outputs": [
        {
          "output_type": "stream",
          "text": [
            "created missing indicator for: CO (185)\n",
            "created missing indicator for: NO2 (183)\n",
            "created missing indicator for: NOX as NO2 (184)\n",
            "created missing indicator for: PM10 (182)\n",
            "created missing indicator for: PM2.5 (181)\n",
            "created missing indicator for: Air Temperature\n",
            "created missing indicator for: Air Pressure\n",
            "created missing indicator for: Relative Humidity\n",
            "created missing indicator for: Precepitation\n"
          ],
          "name": "stdout"
        },
        {
          "output_type": "execute_result",
          "data": {
            "text/plain": [
              "<matplotlib.axes._subplots.AxesSubplot at 0x7f0cc858b320>"
            ]
          },
          "metadata": {
            "tags": []
          },
          "execution_count": 217
        },
        {
          "output_type": "display_data",
          "data": {
            "image/png": "[encoded data removed]",
            "text/plain": [
              "<Figure size 864x576 with 1 Axes>"
            ]
          },
          "metadata": {
            "tags": [],
            "needs_background": "light"
          }
        }
      ]
    },
    {
      "cell_type": "code",
      "metadata": {
        "id": "93GXH-t7CjZh",
        "outputId": "c1fab02c-d1ee-430e-a5cb-62778247c8e9",
        "colab": {
          "base_uri": "https://localhost:8080/",
          "height": 297
        }
      },
      "source": [
        "df.describe()"
      ],
      "execution_count": null,
      "outputs": [
        {
          "output_type": "execute_result",
          "data": {
            "text/html": [
              "<div>\n",
              "<style scoped>\n",
              "    .dataframe tbody tr th:only-of-type {\n",
              "        vertical-align: middle;\n",
              "    }\n",
              "\n",
              "    .dataframe tbody tr th {\n",
              "        vertical-align: top;\n",
              "    }\n",
              "\n",
              "    .dataframe thead th {\n",
              "        text-align: right;\n",
              "    }\n",
              "</style>\n",
              "<table border=\"1\" class=\"dataframe\">\n",
              "  <thead>\n",
              "    <tr style=\"text-align: right;\">\n",
              "      <th></th>\n",
              "      <th>CO (185)</th>\n",
              "      <th>NO2 (183)</th>\n",
              "      <th>NOX as NO2 (184)</th>\n",
              "      <th>PM10 (182)</th>\n",
              "      <th>PM2.5 (181)</th>\n",
              "      <th>Air Temperature</th>\n",
              "      <th>Air Pressure</th>\n",
              "      <th>Relative Humidity</th>\n",
              "      <th>Precepitation</th>\n",
              "      <th>num_missing</th>\n",
              "    </tr>\n",
              "  </thead>\n",
              "  <tbody>\n",
              "    <tr>\n",
              "      <th>count</th>\n",
              "      <td>49032.000000</td>\n",
              "      <td>51743.000000</td>\n",
              "      <td>51939.000000</td>\n",
              "      <td>50428.000000</td>\n",
              "      <td>45852.000000</td>\n",
              "      <td>52561.000000</td>\n",
              "      <td>52557.000000</td>\n",
              "      <td>52209.000000</td>\n",
              "      <td>52398.000000</td>\n",
              "      <td>52584.000000</td>\n",
              "    </tr>\n",
              "    <tr>\n",
              "      <th>mean</th>\n",
              "      <td>0.335007</td>\n",
              "      <td>33.604750</td>\n",
              "      <td>66.411269</td>\n",
              "      <td>19.759548</td>\n",
              "      <td>5.688373</td>\n",
              "      <td>8.438698</td>\n",
              "      <td>1012.356744</td>\n",
              "      <td>75.955123</td>\n",
              "      <td>0.065422</td>\n",
              "      <td>0.276453</td>\n",
              "    </tr>\n",
              "    <tr>\n",
              "      <th>std</th>\n",
              "      <td>0.388743</td>\n",
              "      <td>23.285529</td>\n",
              "      <td>65.941538</td>\n",
              "      <td>18.367639</td>\n",
              "      <td>5.272743</td>\n",
              "      <td>7.829768</td>\n",
              "      <td>11.590300</td>\n",
              "      <td>18.291926</td>\n",
              "      <td>0.406504</td>\n",
              "      <td>0.598736</td>\n",
              "    </tr>\n",
              "    <tr>\n",
              "      <th>min</th>\n",
              "      <td>0.040000</td>\n",
              "      <td>0.400000</td>\n",
              "      <td>0.100000</td>\n",
              "      <td>-3.000000</td>\n",
              "      <td>-3.000000</td>\n",
              "      <td>-15.900000</td>\n",
              "      <td>960.800000</td>\n",
              "      <td>12.000000</td>\n",
              "      <td>0.000000</td>\n",
              "      <td>0.000000</td>\n",
              "    </tr>\n",
              "    <tr>\n",
              "      <th>25%</th>\n",
              "      <td>0.230000</td>\n",
              "      <td>15.800000</td>\n",
              "      <td>22.100000</td>\n",
              "      <td>9.100000</td>\n",
              "      <td>2.400000</td>\n",
              "      <td>2.300000</td>\n",
              "      <td>1005.400000</td>\n",
              "      <td>64.000000</td>\n",
              "      <td>0.000000</td>\n",
              "      <td>0.000000</td>\n",
              "    </tr>\n",
              "    <tr>\n",
              "      <th>50%</th>\n",
              "      <td>0.300000</td>\n",
              "      <td>28.000000</td>\n",
              "      <td>44.500000</td>\n",
              "      <td>14.600000</td>\n",
              "      <td>4.700000</td>\n",
              "      <td>7.600000</td>\n",
              "      <td>1012.800000</td>\n",
              "      <td>80.000000</td>\n",
              "      <td>0.000000</td>\n",
              "      <td>0.000000</td>\n",
              "    </tr>\n",
              "    <tr>\n",
              "      <th>75%</th>\n",
              "      <td>0.380000</td>\n",
              "      <td>46.200000</td>\n",
              "      <td>87.900000</td>\n",
              "      <td>23.700000</td>\n",
              "      <td>7.700000</td>\n",
              "      <td>14.500000</td>\n",
              "      <td>1019.800000</td>\n",
              "      <td>91.000000</td>\n",
              "      <td>0.000000</td>\n",
              "      <td>0.000000</td>\n",
              "    </tr>\n",
              "    <tr>\n",
              "      <th>max</th>\n",
              "      <td>20.700000</td>\n",
              "      <td>212.800000</td>\n",
              "      <td>982.500000</td>\n",
              "      <td>324.500000</td>\n",
              "      <td>105.000000</td>\n",
              "      <td>32.700000</td>\n",
              "      <td>1046.700000</td>\n",
              "      <td>100.000000</td>\n",
              "      <td>27.100000</td>\n",
              "      <td>6.000000</td>\n",
              "    </tr>\n",
              "  </tbody>\n",
              "</table>\n",
              "</div>"
            ],
            "text/plain": [
              "           CO (185)     NO2 (183)  ...  Precepitation   num_missing\n",
              "count  49032.000000  51743.000000  ...   52398.000000  52584.000000\n",
              "mean       0.335007     33.604750  ...       0.065422      0.276453\n",
              "std        0.388743     23.285529  ...       0.406504      0.598736\n",
              "min        0.040000      0.400000  ...       0.000000      0.000000\n",
              "25%        0.230000     15.800000  ...       0.000000      0.000000\n",
              "50%        0.300000     28.000000  ...       0.000000      0.000000\n",
              "75%        0.380000     46.200000  ...       0.000000      0.000000\n",
              "max       20.700000    212.800000  ...      27.100000      6.000000\n",
              "\n",
              "[8 rows x 10 columns]"
            ]
          },
          "metadata": {
            "tags": []
          },
          "execution_count": 218
        }
      ]
    },
    {
      "cell_type": "code",
      "metadata": {
        "id": "dM2sNtlmC3hu",
        "outputId": "0c11474c-f7e4-48f9-bdd9-39f5692d9b5a",
        "colab": {
          "base_uri": "https://localhost:8080/",
          "height": 642
        }
      },
      "source": [
        "df.plot(subplots=True)"
      ],
      "execution_count": null,
      "outputs": [
        {
          "output_type": "execute_result",
          "data": {
            "text/plain": [
              "array([<matplotlib.axes._subplots.AxesSubplot object at 0x7f0cc8584128>,\n",
              "       <matplotlib.axes._subplots.AxesSubplot object at 0x7f0cc847c208>,\n",
              "       <matplotlib.axes._subplots.AxesSubplot object at 0x7f0cc8429400>,\n",
              "       <matplotlib.axes._subplots.AxesSubplot object at 0x7f0cc83d8630>,\n",
              "       <matplotlib.axes._subplots.AxesSubplot object at 0x7f0cc8408860>,\n",
              "       <matplotlib.axes._subplots.AxesSubplot object at 0x7f0cc83b8a90>,\n",
              "       <matplotlib.axes._subplots.AxesSubplot object at 0x7f0cc8369cc0>,\n",
              "       <matplotlib.axes._subplots.AxesSubplot object at 0x7f0cc831ceb8>,\n",
              "       <matplotlib.axes._subplots.AxesSubplot object at 0x7f0cc831cf28>,\n",
              "       <matplotlib.axes._subplots.AxesSubplot object at 0x7f0cc828f390>],\n",
              "      dtype=object)"
            ]
          },
          "metadata": {
            "tags": []
          },
          "execution_count": 219
        },
        {
          "output_type": "display_data",
          "data": {
            "image/png": "[encoded data removed]",
            "text/plain": [
              "<Figure size 864x576 with 10 Axes>"
            ]
          },
          "metadata": {
            "tags": [],
            "needs_background": "light"
          }
        }
      ]
    },
    {
      "cell_type": "code",
      "metadata": {
        "id": "MR2iSYjoFD6h",
        "outputId": "4511bea4-e82e-4827-80cd-14b293d97021",
        "colab": {
          "base_uri": "https://localhost:8080/",
          "height": 170
        }
      },
      "source": [
        "# impute the missing values and create the missing value indicator variables for each numeric column.\n",
        "df_numeric = df.select_dtypes(include=[np.number])\n",
        "numeric_cols = df_numeric.columns.values\n",
        "\n",
        "for col in numeric_cols:\n",
        "    missing = df[col].isnull()\n",
        "    num_missing = np.sum(missing)\n",
        "    \n",
        "    if num_missing > 0:  # only do the imputation for the columns that have missing values.\n",
        "        print('imputing missing values for: {}'.format(col))\n",
        "        df['{}_ismissing'.format(col)] = missing\n",
        "        med = df[col].median()\n",
        "        df[col] = df[col].fillna(med)"
      ],
      "execution_count": null,
      "outputs": [
        {
          "output_type": "stream",
          "text": [
            "imputing missing values for: CO (185)\n",
            "imputing missing values for: NO2 (183)\n",
            "imputing missing values for: NOX as NO2 (184)\n",
            "imputing missing values for: PM10 (182)\n",
            "imputing missing values for: PM2.5 (181)\n",
            "imputing missing values for: Air Temperature\n",
            "imputing missing values for: Air Pressure\n",
            "imputing missing values for: Relative Humidity\n",
            "imputing missing values for: Precepitation\n"
          ],
          "name": "stdout"
        }
      ]
    },
    {
      "cell_type": "code",
      "metadata": {
        "id": "0dX78J8wFNqA"
      },
      "source": [
        "#If there is missig values in categorical features\n",
        "# # impute the missing values and create the missing value indicator variables for each non-numeric column.\n",
        "# df_non_numeric = df.select_dtypes(exclude=[np.number])\n",
        "# non_numeric_cols = df_non_numeric.columns.values\n",
        "\n",
        "# for col in non_numeric_cols:\n",
        "#     missing = df[col].isnull()\n",
        "#     num_missing = np.sum(missing)\n",
        "    \n",
        "#     if num_missing > 0:  # only do the imputation for the columns that have missing values.\n",
        "#         print('imputing missing values for: {}'.format(col))\n",
        "#         df['{}_ismissing'.format(col)] = missing\n",
        "        \n",
        "#         top = df[col].describe()['top'] # impute with the most frequent value.\n",
        "#         df[col] = df[col].fillna(top)"
      ],
      "execution_count": null,
      "outputs": []
    },
    {
      "cell_type": "code",
      "metadata": {
        "id": "tt810vz9FigA",
        "outputId": "6988676b-e4dc-410b-d9e7-5bf3503c5ed0",
        "colab": {
          "base_uri": "https://localhost:8080/",
          "height": 83
        }
      },
      "source": [
        "missing_zero_values_table(df)"
      ],
      "execution_count": null,
      "outputs": [
        {
          "output_type": "stream",
          "text": [
            "Your selected dataframe has 21 columns and 52584 Rows.\n",
            "There are 0 columns that have missing values.\n"
          ],
          "name": "stdout"
        },
        {
          "output_type": "execute_result",
          "data": {
            "text/html": [
              "<div>\n",
              "<style scoped>\n",
              "    .dataframe tbody tr th:only-of-type {\n",
              "        vertical-align: middle;\n",
              "    }\n",
              "\n",
              "    .dataframe tbody tr th {\n",
              "        vertical-align: top;\n",
              "    }\n",
              "\n",
              "    .dataframe thead th {\n",
              "        text-align: right;\n",
              "    }\n",
              "</style>\n",
              "<table border=\"1\" class=\"dataframe\">\n",
              "  <thead>\n",
              "    <tr style=\"text-align: right;\">\n",
              "      <th></th>\n",
              "      <th>Zero Values</th>\n",
              "      <th>Missing Values</th>\n",
              "      <th>% of Total Values</th>\n",
              "      <th>Total Zero Missing Values</th>\n",
              "      <th>% Total Zero Missing Values</th>\n",
              "      <th>Data Type</th>\n",
              "    </tr>\n",
              "  </thead>\n",
              "  <tbody>\n",
              "  </tbody>\n",
              "</table>\n",
              "</div>"
            ],
            "text/plain": [
              "Empty DataFrame\n",
              "Columns: [Zero Values, Missing Values, % of Total Values, Total Zero Missing Values, % Total Zero Missing Values, Data Type]\n",
              "Index: []"
            ]
          },
          "metadata": {
            "tags": []
          },
          "execution_count": 221
        }
      ]
    },
    {
      "cell_type": "code",
      "metadata": {
        "id": "j-C3r-gKFudM",
        "outputId": "679b91dc-ae5e-45c8-be0a-8a849d174502",
        "colab": {
          "base_uri": "https://localhost:8080/",
          "height": 297
        }
      },
      "source": [
        "df.describe()"
      ],
      "execution_count": null,
      "outputs": [
        {
          "output_type": "execute_result",
          "data": {
            "text/html": [
              "<div>\n",
              "<style scoped>\n",
              "    .dataframe tbody tr th:only-of-type {\n",
              "        vertical-align: middle;\n",
              "    }\n",
              "\n",
              "    .dataframe tbody tr th {\n",
              "        vertical-align: top;\n",
              "    }\n",
              "\n",
              "    .dataframe thead th {\n",
              "        text-align: right;\n",
              "    }\n",
              "</style>\n",
              "<table border=\"1\" class=\"dataframe\">\n",
              "  <thead>\n",
              "    <tr style=\"text-align: right;\">\n",
              "      <th></th>\n",
              "      <th>CO (185)</th>\n",
              "      <th>NO2 (183)</th>\n",
              "      <th>NOX as NO2 (184)</th>\n",
              "      <th>PM10 (182)</th>\n",
              "      <th>PM2.5 (181)</th>\n",
              "      <th>Air Temperature</th>\n",
              "      <th>Air Pressure</th>\n",
              "      <th>Relative Humidity</th>\n",
              "      <th>Precepitation</th>\n",
              "      <th>num_missing</th>\n",
              "    </tr>\n",
              "  </thead>\n",
              "  <tbody>\n",
              "    <tr>\n",
              "      <th>count</th>\n",
              "      <td>52584.000000</td>\n",
              "      <td>52584.000000</td>\n",
              "      <td>52584.000000</td>\n",
              "      <td>52584.000000</td>\n",
              "      <td>52584.000000</td>\n",
              "      <td>52584.000000</td>\n",
              "      <td>52584.000000</td>\n",
              "      <td>52584.000000</td>\n",
              "      <td>52584.000000</td>\n",
              "      <td>52584.000000</td>\n",
              "    </tr>\n",
              "    <tr>\n",
              "      <th>mean</th>\n",
              "      <td>0.332643</td>\n",
              "      <td>33.515111</td>\n",
              "      <td>66.142503</td>\n",
              "      <td>19.548001</td>\n",
              "      <td>5.561838</td>\n",
              "      <td>8.438331</td>\n",
              "      <td>1012.356972</td>\n",
              "      <td>75.983969</td>\n",
              "      <td>0.065191</td>\n",
              "      <td>0.276453</td>\n",
              "    </tr>\n",
              "    <tr>\n",
              "      <th>std</th>\n",
              "      <td>0.375486</td>\n",
              "      <td>23.109266</td>\n",
              "      <td>65.580225</td>\n",
              "      <td>18.016218</td>\n",
              "      <td>4.934726</td>\n",
              "      <td>7.828075</td>\n",
              "      <td>11.587329</td>\n",
              "      <td>18.229761</td>\n",
              "      <td>0.405803</td>\n",
              "      <td>0.598736</td>\n",
              "    </tr>\n",
              "    <tr>\n",
              "      <th>min</th>\n",
              "      <td>0.040000</td>\n",
              "      <td>0.400000</td>\n",
              "      <td>0.100000</td>\n",
              "      <td>-3.000000</td>\n",
              "      <td>-3.000000</td>\n",
              "      <td>-15.900000</td>\n",
              "      <td>960.800000</td>\n",
              "      <td>12.000000</td>\n",
              "      <td>0.000000</td>\n",
              "      <td>0.000000</td>\n",
              "    </tr>\n",
              "    <tr>\n",
              "      <th>25%</th>\n",
              "      <td>0.230000</td>\n",
              "      <td>16.000000</td>\n",
              "      <td>22.300000</td>\n",
              "      <td>9.300000</td>\n",
              "      <td>2.800000</td>\n",
              "      <td>2.300000</td>\n",
              "      <td>1005.400000</td>\n",
              "      <td>64.000000</td>\n",
              "      <td>0.000000</td>\n",
              "      <td>0.000000</td>\n",
              "    </tr>\n",
              "    <tr>\n",
              "      <th>50%</th>\n",
              "      <td>0.300000</td>\n",
              "      <td>28.000000</td>\n",
              "      <td>44.500000</td>\n",
              "      <td>14.600000</td>\n",
              "      <td>4.700000</td>\n",
              "      <td>7.600000</td>\n",
              "      <td>1012.800000</td>\n",
              "      <td>80.000000</td>\n",
              "      <td>0.000000</td>\n",
              "      <td>0.000000</td>\n",
              "    </tr>\n",
              "    <tr>\n",
              "      <th>75%</th>\n",
              "      <td>0.370000</td>\n",
              "      <td>45.800000</td>\n",
              "      <td>87.000000</td>\n",
              "      <td>23.100000</td>\n",
              "      <td>7.200000</td>\n",
              "      <td>14.500000</td>\n",
              "      <td>1019.800000</td>\n",
              "      <td>91.000000</td>\n",
              "      <td>0.000000</td>\n",
              "      <td>0.000000</td>\n",
              "    </tr>\n",
              "    <tr>\n",
              "      <th>max</th>\n",
              "      <td>20.700000</td>\n",
              "      <td>212.800000</td>\n",
              "      <td>982.500000</td>\n",
              "      <td>324.500000</td>\n",
              "      <td>105.000000</td>\n",
              "      <td>32.700000</td>\n",
              "      <td>1046.700000</td>\n",
              "      <td>100.000000</td>\n",
              "      <td>27.100000</td>\n",
              "      <td>6.000000</td>\n",
              "    </tr>\n",
              "  </tbody>\n",
              "</table>\n",
              "</div>"
            ],
            "text/plain": [
              "           CO (185)     NO2 (183)  ...  Precepitation   num_missing\n",
              "count  52584.000000  52584.000000  ...   52584.000000  52584.000000\n",
              "mean       0.332643     33.515111  ...       0.065191      0.276453\n",
              "std        0.375486     23.109266  ...       0.405803      0.598736\n",
              "min        0.040000      0.400000  ...       0.000000      0.000000\n",
              "25%        0.230000     16.000000  ...       0.000000      0.000000\n",
              "50%        0.300000     28.000000  ...       0.000000      0.000000\n",
              "75%        0.370000     45.800000  ...       0.000000      0.000000\n",
              "max       20.700000    212.800000  ...      27.100000      6.000000\n",
              "\n",
              "[8 rows x 10 columns]"
            ]
          },
          "metadata": {
            "tags": []
          },
          "execution_count": 222
        }
      ]
    },
    {
      "cell_type": "markdown",
      "metadata": {
        "id": "ZiVkzxzWIuSy"
      },
      "source": [
        "# Outliers"
      ]
    },
    {
      "cell_type": "markdown",
      "metadata": {
        "id": "zeDrYbhWGBfn"
      },
      "source": [
        "**Outliers**"
      ]
    },
    {
      "cell_type": "code",
      "metadata": {
        "id": "iJfb30-iGGhw",
        "outputId": "b86611ca-a80e-41ea-bafa-31c8be482ae8",
        "colab": {
          "base_uri": "https://localhost:8080/",
          "height": 500
        }
      },
      "source": [
        "#1.Histogram\n",
        "df['PM10 (182)'].hist(bins=10)"
      ],
      "execution_count": null,
      "outputs": [
        {
          "output_type": "execute_result",
          "data": {
            "text/plain": [
              "<matplotlib.axes._subplots.AxesSubplot at 0x7f0cc80d2da0>"
            ]
          },
          "metadata": {
            "tags": []
          },
          "execution_count": 223
        },
        {
          "output_type": "display_data",
          "data": {
            "image/png": "[encoded data removed]",
            "text/plain": [
              "<Figure size 864x576 with 1 Axes>"
            ]
          },
          "metadata": {
            "tags": [],
            "needs_background": "light"
          }
        }
      ]
    },
    {
      "cell_type": "code",
      "metadata": {
        "id": "Ca8NgbnxHjVE",
        "outputId": "22cc404a-da0b-460d-884b-f3c0d787b822",
        "colab": {
          "base_uri": "https://localhost:8080/",
          "height": 500
        }
      },
      "source": [
        "#2.Box Plot\n",
        "df.boxplot(column=['PM10 (182)', 'PM2.5 (181)'])"
      ],
      "execution_count": null,
      "outputs": [
        {
          "output_type": "execute_result",
          "data": {
            "text/plain": [
              "<matplotlib.axes._subplots.AxesSubplot at 0x7f0cc80c2ba8>"
            ]
          },
          "metadata": {
            "tags": []
          },
          "execution_count": 224
        },
        {
          "output_type": "display_data",
          "data": {
            "image/png": "[encoded data removed]",
            "text/plain": [
              "<Figure size 864x576 with 1 Axes>"
            ]
          },
          "metadata": {
            "tags": [],
            "needs_background": "light"
          }
        }
      ]
    },
    {
      "cell_type": "markdown",
      "metadata": {
        "id": "I1wr-NHTJBZ_"
      },
      "source": [
        "**Technique #2 Descriptive Statictics**\n",
        "\n",
        "> the outliers could be too distinct that the box plot can’t visualize them. Instead, we can look at their descriptive statistics.\n",
        "\n",
        "\n",
        "> For example, for the feature PM10 (182), we can see that the maximum value is 324, while the 75% quartile is only 23.10. The 324.50 value is an outlier.\n",
        "\n",
        "\n",
        "\n"
      ]
    },
    {
      "cell_type": "code",
      "metadata": {
        "id": "uiPeO5UyI6rH",
        "outputId": "c7dd58ee-9828-4984-f7d4-838c9339d705",
        "colab": {
          "base_uri": "https://localhost:8080/",
          "height": 170
        }
      },
      "source": [
        "df['PM10 (182)'].describe()"
      ],
      "execution_count": null,
      "outputs": [
        {
          "output_type": "execute_result",
          "data": {
            "text/plain": [
              "count    52584.000000\n",
              "mean        19.548001\n",
              "std         18.016218\n",
              "min         -3.000000\n",
              "25%          9.300000\n",
              "50%         14.600000\n",
              "75%         23.100000\n",
              "max        324.500000\n",
              "Name: PM10 (182), dtype: float64"
            ]
          },
          "metadata": {
            "tags": []
          },
          "execution_count": 225
        }
      ]
    },
    {
      "cell_type": "markdown",
      "metadata": {
        "id": "7EBa4h9gKZ3R"
      },
      "source": [
        "**Technique #3 Bar Chart**"
      ]
    },
    {
      "cell_type": "code",
      "metadata": {
        "id": "RHWgm2ZdKgGa",
        "outputId": "377391b7-f875-4fd3-edb9-564e029ec599",
        "colab": {
          "base_uri": "https://localhost:8080/",
          "height": 519
        }
      },
      "source": [
        "df['PM10 (182)'].value_counts().plot.bar()"
      ],
      "execution_count": null,
      "outputs": [
        {
          "output_type": "execute_result",
          "data": {
            "text/plain": [
              "<matplotlib.axes._subplots.AxesSubplot at 0x7f0ccab0e978>"
            ]
          },
          "metadata": {
            "tags": []
          },
          "execution_count": 208
        },
        {
          "output_type": "display_data",
          "data": {
            "image/png": "[encoded data removed]",
            "text/plain": [
              "<Figure size 864x576 with 1 Axes>"
            ]
          },
          "metadata": {
            "tags": [],
            "needs_background": "light"
          }
        }
      ]
    },
    {
      "cell_type": "markdown",
      "metadata": {
        "id": "OTjscummLvmJ"
      },
      "source": [
        "# Unnecessary data"
      ]
    },
    {
      "cell_type": "markdown",
      "metadata": {
        "id": "lCIdFMOCL8Wc"
      },
      "source": [
        "After done with missing data and outliers. It is better to look at the unnecessary data.\n",
        "\n",
        "If the data doesn't serve the purpose of the project then it's better to remove the data. \n",
        "\n",
        "We cover three main types of unnecessary data:\n",
        "\n",
        "\n",
        "> 1. Uninformative/Repetitive\n",
        "> 2. Irrelevant\n",
        "> 3. Duplicates\n",
        "\n",
        "\n",
        "\n",
        "\n",
        "\n",
        "\n",
        "\n",
        "\n",
        "\n"
      ]
    },
    {
      "cell_type": "code",
      "metadata": {
        "id": "TiKNFlO1NA6H"
      },
      "source": [
        "# #1. Uninformative/Repetitive\n",
        "# #If it has too many same values\n",
        "# #We can create a list of features with a high percentage of the same value.For example, we specify below to show features with over 95% rows being the same value.\n",
        "# num_rows = len(df.index)\n",
        "# low_information_cols = [] #\n",
        "\n",
        "# for col in df.columns:\n",
        "#     cnts = df[col].value_counts(dropna=False)\n",
        "#     top_pct = (cnts/num_rows).iloc[0]\n",
        "    \n",
        "#     if top_pct > 0.95:\n",
        "#         low_information_cols.append(col)\n",
        "#         print('{0}: {1:.5f}%'.format(col, top_pct*100))\n",
        "#         print(cnts)\n",
        "#         print()"
      ],
      "execution_count": null,
      "outputs": []
    }
  ]
}